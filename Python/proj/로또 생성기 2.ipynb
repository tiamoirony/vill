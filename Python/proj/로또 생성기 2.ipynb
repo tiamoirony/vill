{
 "cells": [
  {
   "attachments": {},
   "cell_type": "markdown",
   "metadata": {},
   "source": [
    "### 로또 생성기 , for 문"
   ]
  },
  {
   "cell_type": "code",
   "execution_count": 5,
   "metadata": {},
   "outputs": [],
   "source": [
    "prices = [10000, 7000, 5000, 8000, 8000, 7000, 5000]\n",
    "\n",
    "menus = list()\n",
    "menus.append(\"갈비탕\")\n",
    "menus.append(\"떡볶이\")\n",
    "menus.append(\"오뎅\")\n",
    "menus.append(\"감자탕\")\n",
    "menus.append(\"김치찌개\")\n",
    "menus.append(\"제육볶음\")\n",
    "menus.append(\"김치볶음밥\")"
   ]
  },
  {
   "cell_type": "code",
   "execution_count": 6,
   "metadata": {},
   "outputs": [
    {
     "name": "stdout",
     "output_type": "stream",
     "text": [
      "index : 0, value : a\n",
      "index : 1, value : b\n",
      "index : 2, value : c\n",
      "index : 3, value : d\n",
      "index : 4, value : e\n"
     ]
    }
   ],
   "source": [
    "my_list = ['a', 'b', 'c', 'd', 'e']\n",
    "for index, value in enumerate(my_list):\n",
    "    print(\"index : {0}, value : {1}\".format(index, value))"
   ]
  },
  {
   "cell_type": "code",
   "execution_count": 7,
   "metadata": {},
   "outputs": [
    {
     "name": "stdout",
     "output_type": "stream",
     "text": [
      "메뉴판\n",
      "======================\n",
      "갈비탕            10000원\n",
      "떡볶이             7000원\n",
      "오뎅              5000원\n",
      "감자탕             8000원\n",
      "김치찌개            8000원\n",
      "제육볶음            7000원\n",
      "김치볶음밥           5000원\n",
      "======================\n"
     ]
    }
   ],
   "source": [
    "print(\"메뉴판\")\n",
    "print(\"======================\")\n",
    "for index, value in enumerate(menus):\n",
    "    print(\"{0:<10}{1:>10}{won}\".format(value, prices[index], won='원'))\n",
    "print(\"======================\")"
   ]
  },
  {
   "cell_type": "code",
   "execution_count": null,
   "metadata": {},
   "outputs": [],
   "source": []
  }
 ],
 "metadata": {
  "kernelspec": {
   "display_name": "Python 3",
   "language": "python",
   "name": "python3"
  },
  "language_info": {
   "codemirror_mode": {
    "name": "ipython",
    "version": 3
   },
   "file_extension": ".py",
   "mimetype": "text/x-python",
   "name": "python",
   "nbconvert_exporter": "python",
   "pygments_lexer": "ipython3",
   "version": "3.9.13 (tags/v3.9.13:6de2ca5, May 17 2022, 16:36:42) [MSC v.1929 64 bit (AMD64)]"
  },
  "orig_nbformat": 4,
  "vscode": {
   "interpreter": {
    "hash": "81794d4967e6c3204c66dcd87b604927b115b27c00565d3d43f05ba2f3a2cb0d"
   }
  }
 },
 "nbformat": 4,
 "nbformat_minor": 2
}
