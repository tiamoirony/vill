{
 "cells": [
  {
   "attachments": {},
   "cell_type": "markdown",
   "metadata": {},
   "source": [
    "### 로또 생성기 , 반복문"
   ]
  },
  {
   "cell_type": "code",
   "execution_count": 17,
   "metadata": {},
   "outputs": [
    {
     "name": "stdout",
     "output_type": "stream",
     "text": [
      "로또 번혼 생성기 프로그림이다.\n"
     ]
    }
   ],
   "source": [
    "import random\n",
    "\n",
    "print('로또 번혼 생성기 프로그림이다.')\n",
    "\n",
    "lotto_numbers = list()\n"
   ]
  },
  {
   "cell_type": "code",
   "execution_count": 21,
   "metadata": {},
   "outputs": [
    {
     "name": "stdout",
     "output_type": "stream",
     "text": [
      "랜덤 로또 발생기 입니다.\n",
      "당첨 번호 : 20 43 6 22 44 40 \n",
      "2등 보너스볼 : 30\n"
     ]
    }
   ],
   "source": [
    "print(\"랜덤 로또 발생기 입니다.\")\n",
    "print(\"당첨 번호 : \", end=\"\")\n",
    "\n",
    "for index, value in enumerate(lotto_numbers):\n",
    "    if index == len(lotto_numbers)-1:\n",
    "        print(\"\\n2등 보너스볼 : {0}\".format(value))\n",
    "    else:\n",
    "        print(value, end=' ')"
   ]
  },
  {
   "cell_type": "code",
   "execution_count": 18,
   "metadata": {},
   "outputs": [],
   "source": [
    "# lotto_numbers.append(random.randrange(1, 46))\n",
    "# lotto_numbers.append(random.randrange(1, 46))\n",
    "# lotto_numbers.append(random.randrange(1, 46))\n",
    "# lotto_numbers.append(random.randrange(1, 46))\n",
    "# lotto_numbers.append(random.randrange(1, 46))\n",
    "# lotto_numbers.append(random.randrange(1, 46))\n",
    "# lotto_numbers.append(random.randrange(1, 46))"
   ]
  },
  {
   "cell_type": "code",
   "execution_count": 19,
   "metadata": {},
   "outputs": [],
   "source": [
    "while len(lotto_numbers) != 7:\n",
    "    new_number = random.randrange(1, 46)\n",
    "    if new_number not in lotto_numbers:\n",
    "        lotto_numbers.append(new_number)"
   ]
  },
  {
   "cell_type": "code",
   "execution_count": 20,
   "metadata": {},
   "outputs": [
    {
     "name": "stdout",
     "output_type": "stream",
     "text": [
      "\n",
      "랜덤 로또 발생기 입니다. (중복이 가능합니다)\n",
      "당첨 번호 : 20, 43, 6, 22, 44, 40\n",
      "2등 보너스 볼 : 30\n",
      "\n"
     ]
    }
   ],
   "source": [
    "print('''\n",
    "랜덤 로또 발생기 입니다. (중복이 가능합니다)\n",
    "당첨 번호 : {0}, {1}, {2}, {3}, {4}, {5}\n",
    "2등 보너스 볼 : {6}\n",
    "'''.format(lotto_numbers[0],\n",
    "           lotto_numbers[1],\n",
    "           lotto_numbers[2],\n",
    "           lotto_numbers[3],\n",
    "           lotto_numbers[4],\n",
    "           lotto_numbers[5],\n",
    "           lotto_numbers[6]))\n",
    "\n"
   ]
  },
  {
   "cell_type": "code",
   "execution_count": null,
   "metadata": {},
   "outputs": [],
   "source": []
  }
 ],
 "metadata": {
  "kernelspec": {
   "display_name": "Python 3",
   "language": "python",
   "name": "python3"
  },
  "language_info": {
   "codemirror_mode": {
    "name": "ipython",
    "version": 3
   },
   "file_extension": ".py",
   "mimetype": "text/x-python",
   "name": "python",
   "nbconvert_exporter": "python",
   "pygments_lexer": "ipython3",
   "version": "3.9.13 (tags/v3.9.13:6de2ca5, May 17 2022, 16:36:42) [MSC v.1929 64 bit (AMD64)]"
  },
  "orig_nbformat": 4,
  "vscode": {
   "interpreter": {
    "hash": "81794d4967e6c3204c66dcd87b604927b115b27c00565d3d43f05ba2f3a2cb0d"
   }
  }
 },
 "nbformat": 4,
 "nbformat_minor": 2
}
