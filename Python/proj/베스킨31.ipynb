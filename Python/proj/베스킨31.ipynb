{
 "cells": [
  {
   "cell_type": "code",
   "execution_count": 3,
   "metadata": {},
   "outputs": [],
   "source": [
    "import random"
   ]
  },
  {
   "cell_type": "code",
   "execution_count": 4,
   "metadata": {},
   "outputs": [
    {
     "name": "stdout",
     "output_type": "stream",
     "text": [
      "베스킨라빈스 31 게임 프로그램입니다!\n",
      "사용자의 차례\n",
      "사용자 : '1'!!!\n",
      "사용자 : '2'!!!\n",
      "사용자 : '3'!!!\n",
      "컴퓨터의 차례\n",
      "컴퓨터 : '4'!!!\n",
      "컴퓨터 : '5'!!!\n",
      "사용자의 차례\n",
      "사용자 : '6'!!!\n",
      "사용자 : '7'!!!\n",
      "사용자 : '8'!!!\n",
      "컴퓨터의 차례\n",
      "컴퓨터 : '9'!!!\n",
      "컴퓨터 : '10'!!!\n",
      "사용자의 차례\n",
      "사용자 : '11'!!!\n",
      "사용자 : '12'!!!\n",
      "사용자 : '13'!!!\n",
      "컴퓨터의 차례\n",
      "컴퓨터 : '14'!!!\n",
      "컴퓨터 : '15'!!!\n",
      "컴퓨터 : '16'!!!\n",
      "사용자의 차례\n",
      "사용자 : '17'!!!\n",
      "사용자 : '18'!!!\n",
      "사용자 : '19'!!!\n",
      "컴퓨터의 차례\n",
      "컴퓨터 : '20'!!!\n",
      "컴퓨터 : '21'!!!\n",
      "컴퓨터 : '22'!!!\n",
      "사용자의 차례\n",
      "사용자 : '23'!!!\n",
      "사용자 : '24'!!!\n",
      "컴퓨터의 차례\n",
      "컴퓨터 : '25'!!!\n",
      "사용자의 차례\n",
      "사용자 : '26'!!!\n",
      "사용자 : '27'!!!\n",
      "사용자 : '28'!!!\n",
      "컴퓨터의 차례\n",
      "컴퓨터 : '29'!!!\n",
      "컴퓨터 : '30'!!!\n",
      "컴퓨터 : '31'!!!\n",
      "사용자의 승리!!\n"
     ]
    }
   ],
   "source": [
    "\n",
    "\n",
    "import random\n",
    "\n",
    "print(\"베스킨라빈스 31 게임 프로그램입니다!\")\n",
    "\n",
    "order = input('''순서를 입력하세요. (선공 1, 후공 0 입력) : ''')\n",
    "order = int(order)\n",
    "\n",
    "call = 0\n",
    "count = 1\n",
    "\n",
    "while call < 31:\n",
    "    if count % 2 == order:\n",
    "        # 사용자의 차례\n",
    "        print('사용자의 차례')\n",
    "        size_of_call = input(\"호출할 개수를 입력하세요 : \")\n",
    "        size_of_call = int(size_of_call)\n",
    "\n",
    "        for _ in range(size_of_call):\n",
    "            call += 1\n",
    "            print(\"사용자 : '{0}'!!!\".format(call))\n",
    "\n",
    "    else:\n",
    "        # 컴퓨터의 차례\n",
    "        print('컴퓨터의 차례')\n",
    "        size_of_call = random.randint(1, 3)\n",
    "\n",
    "        for _ in range(size_of_call):\n",
    "            call += 1\n",
    "            print(\"컴퓨터 : '{0}'!!!\".format(call))\n",
    "\n",
    "    count += 1\n",
    "\n",
    "if count % 2 == order:\n",
    "    print(\"사용자의 승리!!\")\n",
    "else:\n",
    "    print(\"컴퓨터의 승리!!\")"
   ]
  },
  {
   "cell_type": "code",
   "execution_count": null,
   "metadata": {},
   "outputs": [],
   "source": []
  }
 ],
 "metadata": {
  "kernelspec": {
   "display_name": "Python 3",
   "language": "python",
   "name": "python3"
  },
  "language_info": {
   "codemirror_mode": {
    "name": "ipython",
    "version": 3
   },
   "file_extension": ".py",
   "mimetype": "text/x-python",
   "name": "python",
   "nbconvert_exporter": "python",
   "pygments_lexer": "ipython3",
   "version": "3.9.13"
  },
  "orig_nbformat": 4,
  "vscode": {
   "interpreter": {
    "hash": "81794d4967e6c3204c66dcd87b604927b115b27c00565d3d43f05ba2f3a2cb0d"
   }
  }
 },
 "nbformat": 4,
 "nbformat_minor": 2
}
