{
 "cells": [
  {
   "cell_type": "code",
   "execution_count": 1,
   "metadata": {},
   "outputs": [
    {
     "name": "stdout",
     "output_type": "stream",
     "text": [
      "베스킨 31 게임 입니다: \n"
     ]
    },
    {
     "ename": "ValueError",
     "evalue": "invalid literal for int() with base 10: ''",
     "output_type": "error",
     "traceback": [
      "\u001b[1;31m---------------------------------------------------------------------------\u001b[0m",
      "\u001b[1;31mValueError\u001b[0m                                Traceback (most recent call last)",
      "Cell \u001b[1;32mIn[1], line 7\u001b[0m\n\u001b[0;32m      3\u001b[0m \u001b[39mprint\u001b[39m(\u001b[39m'\u001b[39m\u001b[39m베스킨 31 게임 입니다: \u001b[39m\u001b[39m'\u001b[39m)\n\u001b[0;32m      6\u001b[0m order \u001b[39m=\u001b[39m \u001b[39minput\u001b[39m(\u001b[39m'\u001b[39m\u001b[39m순서를 정해 주세요 (선공:1, 후공:0) ? \u001b[39m\u001b[39m'\u001b[39m)\n\u001b[1;32m----> 7\u001b[0m order \u001b[39m=\u001b[39m \u001b[39mint\u001b[39;49m(order)\n",
      "\u001b[1;31mValueError\u001b[0m: invalid literal for int() with base 10: ''"
     ]
    }
   ],
   "source": [
    "import random\n",
    "\n",
    "print(\"베스킨라빈스 31 게임 프로그램입니다!\")\n",
    "\n",
    "\n",
    "def call_numbers(size, called):\n",
    "    for _ in range(size):\n",
    "        called += 1\n",
    "        print(\"'{0}' !!! \".format(called))\n",
    "        \n",
    "        \n",
    "        if called == 31:\n",
    "            break\n",
    "        \n",
    "    return called\n",
    "\n",
    "\n"
   ]
  }
 ],
 "metadata": {
  "kernelspec": {
   "display_name": "Python 3",
   "language": "python",
   "name": "python3"
  },
  "language_info": {
   "codemirror_mode": {
    "name": "ipython",
    "version": 3
   },
   "file_extension": ".py",
   "mimetype": "text/x-python",
   "name": "python",
   "nbconvert_exporter": "python",
   "pygments_lexer": "ipython3",
   "version": "3.9.13"
  },
  "orig_nbformat": 4,
  "vscode": {
   "interpreter": {
    "hash": "81794d4967e6c3204c66dcd87b604927b115b27c00565d3d43f05ba2f3a2cb0d"
   }
  }
 },
 "nbformat": 4,
 "nbformat_minor": 2
}
