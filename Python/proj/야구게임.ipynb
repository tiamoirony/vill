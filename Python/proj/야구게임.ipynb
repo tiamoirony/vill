{
 "cells": [
  {
   "cell_type": "code",
   "execution_count": 1,
   "metadata": {},
   "outputs": [],
   "source": [
    "import random"
   ]
  },
  {
   "cell_type": "code",
   "execution_count": 8,
   "metadata": {},
   "outputs": [
    {
     "name": "stdout",
     "output_type": "stream",
     "text": [
      "야구 게임 프로그램입니다.\n",
      "[1, 8, 6, 3]\n"
     ]
    }
   ],
   "source": [
    "print('야구 게임 프로그램입니다.')\n",
    "\n",
    "answer = list()\n",
    "\n",
    "while len(answer) != 4:\n",
    "    new_number = random.randint(0, 9)\n",
    "    if new_number not in answer:\n",
    "        answer.append(new_number)\n",
    "        \n",
    "        \n",
    "print(answer)"
   ]
  },
  {
   "cell_type": "code",
   "execution_count": 14,
   "metadata": {},
   "outputs": [
    {
     "name": "stdout",
     "output_type": "stream",
     "text": [
      "index : 0, value : 1\n",
      "index : 1, value : 2\n",
      "index : 2, value : 3\n",
      "index : 3, value : 4\n",
      "1 스트라이크 1 볼입니다.\n"
     ]
    }
   ],
   "source": [
    "# 유저에게 입력 받음\n",
    "your_answer = input(\"답을 맞추어 보세요 : \")\n",
    "\n",
    "strike = 0\n",
    "ball = 0\n",
    "\n",
    "# 스트라이크, 볼 검사\n",
    "for index, value in enumerate(your_answer):\n",
    "    print(\"index : {0}, value : {1}\".format(index, value))\n",
    "    if int(value) == answer[index]:\n",
    "        strike += 1\n",
    "    elif int(value) in answer:\n",
    "        ball += 1\n",
    "        \n",
    "if strike == 0 and ball == 0:\n",
    "    print(\"Out!!!!!!!!!!!\")\n",
    "else:\n",
    "    print(\"{0} 스트라이크 {1} 볼입니다.\".format(strike, ball))       \n"
   ]
  }
 ],
 "metadata": {
  "kernelspec": {
   "display_name": "Python 3",
   "language": "python",
   "name": "python3"
  },
  "language_info": {
   "codemirror_mode": {
    "name": "ipython",
    "version": 3
   },
   "file_extension": ".py",
   "mimetype": "text/x-python",
   "name": "python",
   "nbconvert_exporter": "python",
   "pygments_lexer": "ipython3",
   "version": "3.9.13 (tags/v3.9.13:6de2ca5, May 17 2022, 16:36:42) [MSC v.1929 64 bit (AMD64)]"
  },
  "orig_nbformat": 4,
  "vscode": {
   "interpreter": {
    "hash": "81794d4967e6c3204c66dcd87b604927b115b27c00565d3d43f05ba2f3a2cb0d"
   }
  }
 },
 "nbformat": 4,
 "nbformat_minor": 2
}
