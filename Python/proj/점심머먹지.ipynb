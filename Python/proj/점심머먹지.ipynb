{
 "cells": [
  {
   "attachments": {},
   "cell_type": "markdown",
   "metadata": {},
   "source": [
    "### 점심 추천기 random\n"
   ]
  },
  {
   "cell_type": "code",
   "execution_count": 1,
   "metadata": {},
   "outputs": [],
   "source": [
    "import random"
   ]
  },
  {
   "cell_type": "code",
   "execution_count": 5,
   "metadata": {},
   "outputs": [
    {
     "name": "stdout",
     "output_type": "stream",
     "text": [
      "3\n"
     ]
    }
   ],
   "source": [
    "num = random.randrange(1, 10)\n",
    "print(num)\n",
    "\n",
    "# 1<= run < 10  범위에서 난수 생성"
   ]
  },
  {
   "cell_type": "code",
   "execution_count": 9,
   "metadata": {},
   "outputs": [
    {
     "name": "stdout",
     "output_type": "stream",
     "text": [
      "6\n"
     ]
    }
   ],
   "source": [
    "num = random.randint(1, 10)\n",
    "print(num)"
   ]
  },
  {
   "cell_type": "code",
   "execution_count": 14,
   "metadata": {},
   "outputs": [
    {
     "name": "stdout",
     "output_type": "stream",
     "text": [
      "[2, 3, 5, 4, 1]\n"
     ]
    }
   ],
   "source": [
    "my_list = [1,2,3,4,5]\n",
    "random.shuffle(my_list)\n",
    "print(my_list)"
   ]
  },
  {
   "cell_type": "code",
   "execution_count": 18,
   "metadata": {},
   "outputs": [
    {
     "name": "stdout",
     "output_type": "stream",
     "text": [
      "5\n"
     ]
    }
   ],
   "source": [
    "my_list = [1,2,3,4,5]\n",
    "result = random.choice(my_list)\n",
    "print(result)\n"
   ]
  },
  {
   "cell_type": "code",
   "execution_count": 20,
   "metadata": {},
   "outputs": [],
   "source": [
    "prices = [10000, 7000, 5000, 8000, 8000, 7000, 5000]"
   ]
  },
  {
   "cell_type": "code",
   "execution_count": 21,
   "metadata": {},
   "outputs": [],
   "source": [
    "menus = list()\n",
    "menus.append(\"갈비탕\")\n",
    "menus.append(\"떡볶이\")\n",
    "menus.append(\"오뎅\")\n",
    "menus.append(\"감자탕\")\n",
    "menus.append(\"김치찌개\")\n",
    "menus.append(\"제육볶음\")\n",
    "menus.append(\"김치볶음밥\")"
   ]
  },
  {
   "cell_type": "code",
   "execution_count": 22,
   "metadata": {},
   "outputs": [
    {
     "name": "stdout",
     "output_type": "stream",
     "text": [
      "\n",
      "메뉴판\n",
      "======================\n",
      "갈비탕            10000원 \n",
      "떡볶이             7000원\n",
      "오뎅              5000원\n",
      "감자탕             8000원\n",
      "김치찌개            8000원\n",
      "제육볶음            7000원\n",
      "김치볶음밥           5000원\n",
      "======================\n",
      "\n"
     ]
    }
   ],
   "source": [
    "print('''\n",
    "메뉴판\n",
    "======================\n",
    "{0:<10}{1:>10}{won} \n",
    "{2:<10}{3:>10}{won}\n",
    "{4:<10}{5:>10}{won}\n",
    "{6:<10}{7:>10}{won}\n",
    "{8:<10}{9:>10}{won}\n",
    "{10:<10}{11:>10}{won}\n",
    "{12:<10}{13:>10}{won}\n",
    "======================\n",
    "'''.format(menus[0], prices[0],\n",
    "           menus[1], prices[1],\n",
    "           menus[2], prices[2],\n",
    "           menus[3], prices[3],\n",
    "           menus[4], prices[4],\n",
    "           menus[5], prices[5],\n",
    "           menus[6], prices[6], won=\"원\"))"
   ]
  },
  {
   "cell_type": "code",
   "execution_count": 30,
   "metadata": {},
   "outputs": [],
   "source": [
    "choice = random.randrange(0, len(menus))"
   ]
  },
  {
   "cell_type": "code",
   "execution_count": 31,
   "metadata": {},
   "outputs": [
    {
     "name": "stdout",
     "output_type": "stream",
     "text": [
      "오늘의 메뉴 선택 : 오뎅\n",
      "메뉴의 가격 : 5000\n"
     ]
    }
   ],
   "source": [
    "print(\"오늘의 메뉴 선택 : {0}\".format(menus[choice]))\n",
    "print(\"메뉴의 가격 : {0}\".format(prices[choice]))"
   ]
  },
  {
   "cell_type": "code",
   "execution_count": null,
   "metadata": {},
   "outputs": [],
   "source": []
  }
 ],
 "metadata": {
  "kernelspec": {
   "display_name": "Python 3",
   "language": "python",
   "name": "python3"
  },
  "language_info": {
   "codemirror_mode": {
    "name": "ipython",
    "version": 3
   },
   "file_extension": ".py",
   "mimetype": "text/x-python",
   "name": "python",
   "nbconvert_exporter": "python",
   "pygments_lexer": "ipython3",
   "version": "3.9.13 (tags/v3.9.13:6de2ca5, May 17 2022, 16:36:42) [MSC v.1929 64 bit (AMD64)]"
  },
  "orig_nbformat": 4,
  "vscode": {
   "interpreter": {
    "hash": "81794d4967e6c3204c66dcd87b604927b115b27c00565d3d43f05ba2f3a2cb0d"
   }
  }
 },
 "nbformat": 4,
 "nbformat_minor": 2
}
