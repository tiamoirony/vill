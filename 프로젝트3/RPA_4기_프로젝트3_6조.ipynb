{
 "cells": [
  {
   "cell_type": "markdown",
   "metadata": {},
   "source": [
    "# 시작"
   ]
  },
  {
   "cell_type": "code",
   "execution_count": 15,
   "metadata": {},
   "outputs": [],
   "source": [
    "\n",
    "# 모듈 불러오기\n",
    "import matplotlib as mpl \n",
    "import matplotlib.pyplot as plt \n",
    "import matplotlib.font_manager as fm  \n",
    "import seaborn as sns\n",
    "import pandas as pd\n",
    "import numpy as np\n",
    "\n",
    "# 폰트조절\n",
    "\n",
    "from matplotlib import font_manager, rc\n",
    "f_path = \"c:/Windows/Fonts/malgun.ttf\"\n",
    "font_name = font_manager.FontProperties(fname=f_path).get_name()\n",
    "rc('font', family=font_name)  \n",
    "\n",
    "# 데이터 불러오기\n",
    "image = pd.read_csv('Medical_Image_Data_01.csv', encoding='cp949')\n",
    "diagnosis = pd.read_csv('Patient_Diagnosis_Data.csv')\n",
    "surgery = pd.read_csv('Patient_surgery_Data.csv')"
   ]
  },
  {
   "cell_type": "code",
   "execution_count": 16,
   "metadata": {},
   "outputs": [
    {
     "data": {
      "text/html": [
       "<div>\n",
       "<style scoped>\n",
       "    .dataframe tbody tr th:only-of-type {\n",
       "        vertical-align: middle;\n",
       "    }\n",
       "\n",
       "    .dataframe tbody tr th {\n",
       "        vertical-align: top;\n",
       "    }\n",
       "\n",
       "    .dataframe thead th {\n",
       "        text-align: right;\n",
       "    }\n",
       "</style>\n",
       "<table border=\"1\" class=\"dataframe\">\n",
       "  <thead>\n",
       "    <tr style=\"text-align: right;\">\n",
       "      <th></th>\n",
       "      <th>환자ID</th>\n",
       "      <th>전방디스크높이(mm)</th>\n",
       "      <th>후방디스크높이(mm)</th>\n",
       "      <th>지방축적도</th>\n",
       "      <th>Instability</th>\n",
       "      <th>MF + ES</th>\n",
       "      <th>Modic change</th>\n",
       "      <th>PI</th>\n",
       "      <th>PT</th>\n",
       "      <th>Seg Angle(raw)</th>\n",
       "      <th>Vaccum disc</th>\n",
       "      <th>골밀도</th>\n",
       "      <th>디스크단면적</th>\n",
       "      <th>디스크위치</th>\n",
       "      <th>척추이동척도</th>\n",
       "      <th>척추전방위증</th>\n",
       "    </tr>\n",
       "  </thead>\n",
       "  <tbody>\n",
       "    <tr>\n",
       "      <th>0</th>\n",
       "      <td>1PT</td>\n",
       "      <td>16.1</td>\n",
       "      <td>12.3</td>\n",
       "      <td>282.3</td>\n",
       "      <td>0</td>\n",
       "      <td>1824.6</td>\n",
       "      <td>3</td>\n",
       "      <td>51.6</td>\n",
       "      <td>36.6</td>\n",
       "      <td>14.4</td>\n",
       "      <td>0</td>\n",
       "      <td>-1.01</td>\n",
       "      <td>2048.50</td>\n",
       "      <td>4</td>\n",
       "      <td>Down</td>\n",
       "      <td>0</td>\n",
       "    </tr>\n",
       "    <tr>\n",
       "      <th>1</th>\n",
       "      <td>2PT</td>\n",
       "      <td>13.7</td>\n",
       "      <td>6.4</td>\n",
       "      <td>177.3</td>\n",
       "      <td>0</td>\n",
       "      <td>1737.5</td>\n",
       "      <td>0</td>\n",
       "      <td>40.8</td>\n",
       "      <td>7.2</td>\n",
       "      <td>17.8</td>\n",
       "      <td>0</td>\n",
       "      <td>-1.14</td>\n",
       "      <td>1753.10</td>\n",
       "      <td>4</td>\n",
       "      <td>Up</td>\n",
       "      <td>0</td>\n",
       "    </tr>\n",
       "    <tr>\n",
       "      <th>2</th>\n",
       "      <td>3PT</td>\n",
       "      <td>13.6</td>\n",
       "      <td>7.4</td>\n",
       "      <td>256.8</td>\n",
       "      <td>0</td>\n",
       "      <td>1188.5</td>\n",
       "      <td>0</td>\n",
       "      <td>67.5</td>\n",
       "      <td>27.3</td>\n",
       "      <td>10.2</td>\n",
       "      <td>0</td>\n",
       "      <td>-1.77</td>\n",
       "      <td>1749.00</td>\n",
       "      <td>4</td>\n",
       "      <td>Down</td>\n",
       "      <td>0</td>\n",
       "    </tr>\n",
       "    <tr>\n",
       "      <th>3</th>\n",
       "      <td>4PT</td>\n",
       "      <td>10.6</td>\n",
       "      <td>7.3</td>\n",
       "      <td>250.1</td>\n",
       "      <td>0</td>\n",
       "      <td>2534.5</td>\n",
       "      <td>0</td>\n",
       "      <td>49.2</td>\n",
       "      <td>18.7</td>\n",
       "      <td>19.9</td>\n",
       "      <td>0</td>\n",
       "      <td>-1.58</td>\n",
       "      <td>1796.20</td>\n",
       "      <td>4</td>\n",
       "      <td>Down</td>\n",
       "      <td>0</td>\n",
       "    </tr>\n",
       "    <tr>\n",
       "      <th>4</th>\n",
       "      <td>5PT</td>\n",
       "      <td>17.1</td>\n",
       "      <td>8.1</td>\n",
       "      <td>232.2</td>\n",
       "      <td>0</td>\n",
       "      <td>1840.6</td>\n",
       "      <td>0</td>\n",
       "      <td>58.8</td>\n",
       "      <td>14.7</td>\n",
       "      <td>5.2</td>\n",
       "      <td>0</td>\n",
       "      <td>-0.79</td>\n",
       "      <td>2021.48</td>\n",
       "      <td>4</td>\n",
       "      <td>Up</td>\n",
       "      <td>0</td>\n",
       "    </tr>\n",
       "  </tbody>\n",
       "</table>\n",
       "</div>"
      ],
      "text/plain": [
       "  환자ID  전방디스크높이(mm)  후방디스크높이(mm)  지방축적도  Instability  MF + ES  Modic change  \\\n",
       "0  1PT         16.1         12.3  282.3            0   1824.6             3   \n",
       "1  2PT         13.7          6.4  177.3            0   1737.5             0   \n",
       "2  3PT         13.6          7.4  256.8            0   1188.5             0   \n",
       "3  4PT         10.6          7.3  250.1            0   2534.5             0   \n",
       "4  5PT         17.1          8.1  232.2            0   1840.6             0   \n",
       "\n",
       "     PI    PT  Seg Angle(raw)  Vaccum disc   골밀도   디스크단면적  디스크위치 척추이동척도  \\\n",
       "0  51.6  36.6            14.4            0 -1.01  2048.50      4   Down   \n",
       "1  40.8   7.2            17.8            0 -1.14  1753.10      4     Up   \n",
       "2  67.5  27.3            10.2            0 -1.77  1749.00      4   Down   \n",
       "3  49.2  18.7            19.9            0 -1.58  1796.20      4   Down   \n",
       "4  58.8  14.7             5.2            0 -0.79  2021.48      4     Up   \n",
       "\n",
       "   척추전방위증  \n",
       "0       0  \n",
       "1       0  \n",
       "2       0  \n",
       "3       0  \n",
       "4       0  "
      ]
     },
     "execution_count": 16,
     "metadata": {},
     "output_type": "execute_result"
    }
   ],
   "source": [
    "image.head() # 이미지데이터 확인"
   ]
  },
  {
   "cell_type": "code",
   "execution_count": 17,
   "metadata": {},
   "outputs": [
    {
     "name": "stdout",
     "output_type": "stream",
     "text": [
      "<class 'pandas.core.frame.DataFrame'>\n",
      "RangeIndex: 1894 entries, 0 to 1893\n",
      "Data columns (total 16 columns):\n",
      " #   Column          Non-Null Count  Dtype  \n",
      "---  ------          --------------  -----  \n",
      " 0   환자ID            1894 non-null   object \n",
      " 1   전방디스크높이(mm)     1894 non-null   float64\n",
      " 2   후방디스크높이(mm)     1894 non-null   float64\n",
      " 3   지방축적도           1891 non-null   float64\n",
      " 4   Instability     1894 non-null   int64  \n",
      " 5   MF + ES         1894 non-null   float64\n",
      " 6   Modic change    1894 non-null   int64  \n",
      " 7   PI              1890 non-null   float64\n",
      " 8   PT              1890 non-null   float64\n",
      " 9   Seg Angle(raw)  1893 non-null   float64\n",
      " 10  Vaccum disc     1894 non-null   int64  \n",
      " 11  골밀도             998 non-null    float64\n",
      " 12  디스크단면적          1893 non-null   float64\n",
      " 13  디스크위치           1894 non-null   int64  \n",
      " 14  척추이동척도          1894 non-null   object \n",
      " 15  척추전방위증          1894 non-null   int64  \n",
      "dtypes: float64(9), int64(5), object(2)\n",
      "memory usage: 236.9+ KB\n"
     ]
    }
   ],
   "source": [
    "image.info() # 이미지 데이터 데이트타입확인   "
   ]
  },
  {
   "cell_type": "code",
   "execution_count": 4,
   "metadata": {},
   "outputs": [
    {
     "data": {
      "text/html": [
       "<div>\n",
       "<style scoped>\n",
       "    .dataframe tbody tr th:only-of-type {\n",
       "        vertical-align: middle;\n",
       "    }\n",
       "\n",
       "    .dataframe tbody tr th {\n",
       "        vertical-align: top;\n",
       "    }\n",
       "\n",
       "    .dataframe thead th {\n",
       "        text-align: right;\n",
       "    }\n",
       "</style>\n",
       "<table border=\"1\" class=\"dataframe\">\n",
       "  <thead>\n",
       "    <tr style=\"text-align: right;\">\n",
       "      <th></th>\n",
       "      <th>환자ID</th>\n",
       "      <th>Large Lymphocyte</th>\n",
       "      <th>Location of herniation</th>\n",
       "      <th>ODI</th>\n",
       "      <th>가족력</th>\n",
       "      <th>간질성폐질환</th>\n",
       "      <th>고혈압여부</th>\n",
       "      <th>과거수술횟수</th>\n",
       "      <th>당뇨여부</th>\n",
       "      <th>말초동맥질환여부</th>\n",
       "      <th>...</th>\n",
       "      <th>입원일자</th>\n",
       "      <th>종양진행여부</th>\n",
       "      <th>직업</th>\n",
       "      <th>체중</th>\n",
       "      <th>퇴원일자</th>\n",
       "      <th>헤모글로빈수치</th>\n",
       "      <th>혈전합병증여부</th>\n",
       "      <th>환자통증정도</th>\n",
       "      <th>흡연여부</th>\n",
       "      <th>통증기간(월)</th>\n",
       "    </tr>\n",
       "  </thead>\n",
       "  <tbody>\n",
       "    <tr>\n",
       "      <th>0</th>\n",
       "      <td>1PT</td>\n",
       "      <td>22.8</td>\n",
       "      <td>3</td>\n",
       "      <td>51.0</td>\n",
       "      <td>0.0</td>\n",
       "      <td>0</td>\n",
       "      <td>0</td>\n",
       "      <td>0</td>\n",
       "      <td>0</td>\n",
       "      <td>0</td>\n",
       "      <td>...</td>\n",
       "      <td>20190713</td>\n",
       "      <td>0</td>\n",
       "      <td>자영업</td>\n",
       "      <td>60.3</td>\n",
       "      <td>20190716</td>\n",
       "      <td>13.66</td>\n",
       "      <td>0</td>\n",
       "      <td>10</td>\n",
       "      <td>0</td>\n",
       "      <td>1.0</td>\n",
       "    </tr>\n",
       "    <tr>\n",
       "      <th>1</th>\n",
       "      <td>2PT</td>\n",
       "      <td>44.9</td>\n",
       "      <td>4</td>\n",
       "      <td>26.0</td>\n",
       "      <td>0.0</td>\n",
       "      <td>0</td>\n",
       "      <td>0</td>\n",
       "      <td>0</td>\n",
       "      <td>0</td>\n",
       "      <td>0</td>\n",
       "      <td>...</td>\n",
       "      <td>20190715</td>\n",
       "      <td>0</td>\n",
       "      <td>운동선수</td>\n",
       "      <td>71.7</td>\n",
       "      <td>20190716</td>\n",
       "      <td>13.73</td>\n",
       "      <td>0</td>\n",
       "      <td>10</td>\n",
       "      <td>0</td>\n",
       "      <td>1.0</td>\n",
       "    </tr>\n",
       "    <tr>\n",
       "      <th>2</th>\n",
       "      <td>3PT</td>\n",
       "      <td>53.0</td>\n",
       "      <td>3</td>\n",
       "      <td>NaN</td>\n",
       "      <td>0.0</td>\n",
       "      <td>0</td>\n",
       "      <td>0</td>\n",
       "      <td>1</td>\n",
       "      <td>0</td>\n",
       "      <td>0</td>\n",
       "      <td>...</td>\n",
       "      <td>20190729</td>\n",
       "      <td>0</td>\n",
       "      <td>특수전문직</td>\n",
       "      <td>77.1</td>\n",
       "      <td>20190801</td>\n",
       "      <td>15.34</td>\n",
       "      <td>0</td>\n",
       "      <td>7</td>\n",
       "      <td>0</td>\n",
       "      <td>1.0</td>\n",
       "    </tr>\n",
       "    <tr>\n",
       "      <th>3</th>\n",
       "      <td>4PT</td>\n",
       "      <td>54.7</td>\n",
       "      <td>4</td>\n",
       "      <td>18.0</td>\n",
       "      <td>0.0</td>\n",
       "      <td>0</td>\n",
       "      <td>1</td>\n",
       "      <td>0</td>\n",
       "      <td>0</td>\n",
       "      <td>0</td>\n",
       "      <td>...</td>\n",
       "      <td>20190731</td>\n",
       "      <td>0</td>\n",
       "      <td>주부</td>\n",
       "      <td>74.2</td>\n",
       "      <td>20190803</td>\n",
       "      <td>15.38</td>\n",
       "      <td>0</td>\n",
       "      <td>7</td>\n",
       "      <td>0</td>\n",
       "      <td>2.0</td>\n",
       "    </tr>\n",
       "    <tr>\n",
       "      <th>4</th>\n",
       "      <td>5PT</td>\n",
       "      <td>53.8</td>\n",
       "      <td>4</td>\n",
       "      <td>NaN</td>\n",
       "      <td>0.0</td>\n",
       "      <td>0</td>\n",
       "      <td>1</td>\n",
       "      <td>0</td>\n",
       "      <td>0</td>\n",
       "      <td>0</td>\n",
       "      <td>...</td>\n",
       "      <td>20190903</td>\n",
       "      <td>0</td>\n",
       "      <td>특수전문직</td>\n",
       "      <td>80.7</td>\n",
       "      <td>20190907</td>\n",
       "      <td>13.08</td>\n",
       "      <td>0</td>\n",
       "      <td>7</td>\n",
       "      <td>0</td>\n",
       "      <td>1.0</td>\n",
       "    </tr>\n",
       "  </tbody>\n",
       "</table>\n",
       "<p>5 rows × 30 columns</p>\n",
       "</div>"
      ],
      "text/plain": [
       "  환자ID  Large Lymphocyte  Location of herniation   ODI  가족력  간질성폐질환  고혈압여부  \\\n",
       "0  1PT              22.8                       3  51.0  0.0       0      0   \n",
       "1  2PT              44.9                       4  26.0  0.0       0      0   \n",
       "2  3PT              53.0                       3   NaN  0.0       0      0   \n",
       "3  4PT              54.7                       4  18.0  0.0       0      1   \n",
       "4  5PT              53.8                       4   NaN  0.0       0      1   \n",
       "\n",
       "   과거수술횟수  당뇨여부  말초동맥질환여부  ...      입원일자  종양진행여부     직업    체중      퇴원일자  \\\n",
       "0       0     0         0  ...  20190713       0    자영업  60.3  20190716   \n",
       "1       0     0         0  ...  20190715       0   운동선수  71.7  20190716   \n",
       "2       1     0         0  ...  20190729       0  특수전문직  77.1  20190801   \n",
       "3       0     0         0  ...  20190731       0     주부  74.2  20190803   \n",
       "4       0     0         0  ...  20190903       0  특수전문직  80.7  20190907   \n",
       "\n",
       "   헤모글로빈수치  혈전합병증여부  환자통증정도  흡연여부  통증기간(월)  \n",
       "0    13.66        0      10     0      1.0  \n",
       "1    13.73        0      10     0      1.0  \n",
       "2    15.34        0       7     0      1.0  \n",
       "3    15.38        0       7     0      2.0  \n",
       "4    13.08        0       7     0      1.0  \n",
       "\n",
       "[5 rows x 30 columns]"
      ]
     },
     "execution_count": 4,
     "metadata": {},
     "output_type": "execute_result"
    }
   ],
   "source": [
    "diagnosis.head() # 진단데이터 확인"
   ]
  },
  {
   "cell_type": "code",
   "execution_count": 18,
   "metadata": {},
   "outputs": [
    {
     "name": "stdout",
     "output_type": "stream",
     "text": [
      "<class 'pandas.core.frame.DataFrame'>\n",
      "RangeIndex: 1894 entries, 0 to 1893\n",
      "Data columns (total 30 columns):\n",
      " #   Column                  Non-Null Count  Dtype  \n",
      "---  ------                  --------------  -----  \n",
      " 0   환자ID                    1894 non-null   object \n",
      " 1   Large Lymphocyte        1894 non-null   float64\n",
      " 2   Location of herniation  1894 non-null   int64  \n",
      " 3   ODI                     462 non-null    float64\n",
      " 4   가족력                     1843 non-null   float64\n",
      " 5   간질성폐질환                  1894 non-null   int64  \n",
      " 6   고혈압여부                   1894 non-null   int64  \n",
      " 7   과거수술횟수                  1894 non-null   int64  \n",
      " 8   당뇨여부                    1894 non-null   int64  \n",
      " 9   말초동맥질환여부                1894 non-null   int64  \n",
      " 10  빈혈여부                    1894 non-null   int64  \n",
      " 11  성별                      1894 non-null   int64  \n",
      " 12  스테로이드치료                 1894 non-null   int64  \n",
      " 13  신부전여부                   1894 non-null   int64  \n",
      " 14  신장                      1894 non-null   int64  \n",
      " 15  심혈관질환                   1894 non-null   int64  \n",
      " 16  암발병여부                   1894 non-null   int64  \n",
      " 17  연령                      1894 non-null   int64  \n",
      " 18  우울증여부                   1894 non-null   int64  \n",
      " 19  입원기간                    1894 non-null   int64  \n",
      " 20  입원일자                    1894 non-null   int64  \n",
      " 21  종양진행여부                  1894 non-null   int64  \n",
      " 22  직업                      1479 non-null   object \n",
      " 23  체중                      1894 non-null   float64\n",
      " 24  퇴원일자                    1894 non-null   int64  \n",
      " 25  헤모글로빈수치                 1893 non-null   float64\n",
      " 26  혈전합병증여부                 1894 non-null   int64  \n",
      " 27  환자통증정도                  1894 non-null   int64  \n",
      " 28  흡연여부                    1894 non-null   int64  \n",
      " 29  통증기간(월)                 1890 non-null   float64\n",
      "dtypes: float64(6), int64(22), object(2)\n",
      "memory usage: 444.0+ KB\n"
     ]
    }
   ],
   "source": [
    "diagnosis.info() # 진단데이터 데이트타입확인   "
   ]
  },
  {
   "cell_type": "code",
   "execution_count": 19,
   "metadata": {},
   "outputs": [
    {
     "data": {
      "text/html": [
       "<div>\n",
       "<style scoped>\n",
       "    .dataframe tbody tr th:only-of-type {\n",
       "        vertical-align: middle;\n",
       "    }\n",
       "\n",
       "    .dataframe tbody tr th {\n",
       "        vertical-align: top;\n",
       "    }\n",
       "\n",
       "    .dataframe thead th {\n",
       "        text-align: right;\n",
       "    }\n",
       "</style>\n",
       "<table border=\"1\" class=\"dataframe\">\n",
       "  <thead>\n",
       "    <tr style=\"text-align: right;\">\n",
       "      <th></th>\n",
       "      <th>환자ID</th>\n",
       "      <th>수술기법</th>\n",
       "      <th>수술시간</th>\n",
       "      <th>수술실패여부</th>\n",
       "      <th>수술일자</th>\n",
       "      <th>신장</th>\n",
       "      <th>연령</th>\n",
       "      <th>입원일자</th>\n",
       "      <th>재발여부</th>\n",
       "      <th>체중</th>\n",
       "      <th>퇴원일자</th>\n",
       "      <th>헤모글로빈수치</th>\n",
       "      <th>환자통증정도</th>\n",
       "      <th>통증기간(월)</th>\n",
       "      <th>혈액형</th>\n",
       "    </tr>\n",
       "  </thead>\n",
       "  <tbody>\n",
       "    <tr>\n",
       "      <th>0</th>\n",
       "      <td>1PT</td>\n",
       "      <td>TELD</td>\n",
       "      <td>68.0</td>\n",
       "      <td>0</td>\n",
       "      <td>20190715</td>\n",
       "      <td>163</td>\n",
       "      <td>66</td>\n",
       "      <td>20190713</td>\n",
       "      <td>0</td>\n",
       "      <td>60.3</td>\n",
       "      <td>20190716</td>\n",
       "      <td>13.66</td>\n",
       "      <td>10</td>\n",
       "      <td>1.0</td>\n",
       "      <td>RH+A</td>\n",
       "    </tr>\n",
       "    <tr>\n",
       "      <th>1</th>\n",
       "      <td>2PT</td>\n",
       "      <td>TELD</td>\n",
       "      <td>31.0</td>\n",
       "      <td>0</td>\n",
       "      <td>20190716</td>\n",
       "      <td>171</td>\n",
       "      <td>47</td>\n",
       "      <td>20190715</td>\n",
       "      <td>0</td>\n",
       "      <td>71.7</td>\n",
       "      <td>20190716</td>\n",
       "      <td>13.73</td>\n",
       "      <td>10</td>\n",
       "      <td>1.0</td>\n",
       "      <td>RH+A</td>\n",
       "    </tr>\n",
       "    <tr>\n",
       "      <th>2</th>\n",
       "      <td>3PT</td>\n",
       "      <td>TELD</td>\n",
       "      <td>78.0</td>\n",
       "      <td>0</td>\n",
       "      <td>20190731</td>\n",
       "      <td>178</td>\n",
       "      <td>39</td>\n",
       "      <td>20190729</td>\n",
       "      <td>0</td>\n",
       "      <td>77.1</td>\n",
       "      <td>20190801</td>\n",
       "      <td>15.34</td>\n",
       "      <td>7</td>\n",
       "      <td>1.0</td>\n",
       "      <td>RH+B</td>\n",
       "    </tr>\n",
       "    <tr>\n",
       "      <th>3</th>\n",
       "      <td>4PT</td>\n",
       "      <td>TELD</td>\n",
       "      <td>73.0</td>\n",
       "      <td>0</td>\n",
       "      <td>20190802</td>\n",
       "      <td>174</td>\n",
       "      <td>40</td>\n",
       "      <td>20190731</td>\n",
       "      <td>0</td>\n",
       "      <td>74.2</td>\n",
       "      <td>20190803</td>\n",
       "      <td>15.38</td>\n",
       "      <td>7</td>\n",
       "      <td>2.0</td>\n",
       "      <td>RH+O</td>\n",
       "    </tr>\n",
       "    <tr>\n",
       "      <th>4</th>\n",
       "      <td>5PT</td>\n",
       "      <td>TELD</td>\n",
       "      <td>29.0</td>\n",
       "      <td>0</td>\n",
       "      <td>20190906</td>\n",
       "      <td>183</td>\n",
       "      <td>42</td>\n",
       "      <td>20190903</td>\n",
       "      <td>0</td>\n",
       "      <td>80.7</td>\n",
       "      <td>20190907</td>\n",
       "      <td>13.08</td>\n",
       "      <td>7</td>\n",
       "      <td>1.0</td>\n",
       "      <td>RH+A</td>\n",
       "    </tr>\n",
       "  </tbody>\n",
       "</table>\n",
       "</div>"
      ],
      "text/plain": [
       "  환자ID  수술기법  수술시간  수술실패여부      수술일자   신장  연령      입원일자  재발여부    체중      퇴원일자  \\\n",
       "0  1PT  TELD  68.0       0  20190715  163  66  20190713     0  60.3  20190716   \n",
       "1  2PT  TELD  31.0       0  20190716  171  47  20190715     0  71.7  20190716   \n",
       "2  3PT  TELD  78.0       0  20190731  178  39  20190729     0  77.1  20190801   \n",
       "3  4PT  TELD  73.0       0  20190802  174  40  20190731     0  74.2  20190803   \n",
       "4  5PT  TELD  29.0       0  20190906  183  42  20190903     0  80.7  20190907   \n",
       "\n",
       "   헤모글로빈수치  환자통증정도  통증기간(월)   혈액형  \n",
       "0    13.66      10      1.0  RH+A  \n",
       "1    13.73      10      1.0  RH+A  \n",
       "2    15.34       7      1.0  RH+B  \n",
       "3    15.38       7      2.0  RH+O  \n",
       "4    13.08       7      1.0  RH+A  "
      ]
     },
     "execution_count": 19,
     "metadata": {},
     "output_type": "execute_result"
    }
   ],
   "source": [
    "surgery.head() # 수술데이터 확인"
   ]
  },
  {
   "cell_type": "code",
   "execution_count": 7,
   "metadata": {},
   "outputs": [
    {
     "name": "stdout",
     "output_type": "stream",
     "text": [
      "<class 'pandas.core.frame.DataFrame'>\n",
      "RangeIndex: 1894 entries, 0 to 1893\n",
      "Data columns (total 15 columns):\n",
      " #   Column   Non-Null Count  Dtype  \n",
      "---  ------   --------------  -----  \n",
      " 0   환자ID     1894 non-null   object \n",
      " 1   수술기법     1813 non-null   object \n",
      " 2   수술시간     1840 non-null   float64\n",
      " 3   수술실패여부   1894 non-null   int64  \n",
      " 4   수술일자     1894 non-null   int64  \n",
      " 5   신장       1894 non-null   int64  \n",
      " 6   연령       1894 non-null   int64  \n",
      " 7   입원일자     1894 non-null   int64  \n",
      " 8   재발여부     1894 non-null   int64  \n",
      " 9   체중       1894 non-null   float64\n",
      " 10  퇴원일자     1894 non-null   int64  \n",
      " 11  헤모글로빈수치  1893 non-null   float64\n",
      " 12  환자통증정도   1894 non-null   int64  \n",
      " 13  통증기간(월)  1890 non-null   float64\n",
      " 14  혈액형      1894 non-null   object \n",
      "dtypes: float64(4), int64(8), object(3)\n",
      "memory usage: 222.1+ KB\n"
     ]
    }
   ],
   "source": [
    "surgery.info() #수술데이터 데이터타입확인"
   ]
  },
  {
   "cell_type": "markdown",
   "metadata": {},
   "source": [
    "# 데이터 전처리"
   ]
  },
  {
   "cell_type": "code",
   "execution_count": 20,
   "metadata": {},
   "outputs": [
    {
     "data": {
      "text/html": [
       "<div>\n",
       "<style scoped>\n",
       "    .dataframe tbody tr th:only-of-type {\n",
       "        vertical-align: middle;\n",
       "    }\n",
       "\n",
       "    .dataframe tbody tr th {\n",
       "        vertical-align: top;\n",
       "    }\n",
       "\n",
       "    .dataframe thead th {\n",
       "        text-align: right;\n",
       "    }\n",
       "</style>\n",
       "<table border=\"1\" class=\"dataframe\">\n",
       "  <thead>\n",
       "    <tr style=\"text-align: right;\">\n",
       "      <th></th>\n",
       "      <th>환자ID</th>\n",
       "      <th>전방디스크높이(mm)</th>\n",
       "      <th>후방디스크높이(mm)</th>\n",
       "      <th>지방축적도</th>\n",
       "      <th>Instability</th>\n",
       "      <th>MF + ES</th>\n",
       "      <th>Modic change</th>\n",
       "      <th>PI</th>\n",
       "      <th>PT</th>\n",
       "      <th>Seg Angle(raw)</th>\n",
       "      <th>...</th>\n",
       "      <th>혈전합병증여부</th>\n",
       "      <th>환자통증정도</th>\n",
       "      <th>흡연여부</th>\n",
       "      <th>통증기간(월)</th>\n",
       "      <th>수술기법</th>\n",
       "      <th>수술시간</th>\n",
       "      <th>수술실패여부</th>\n",
       "      <th>수술일자</th>\n",
       "      <th>재발여부</th>\n",
       "      <th>혈액형</th>\n",
       "    </tr>\n",
       "  </thead>\n",
       "  <tbody>\n",
       "    <tr>\n",
       "      <th>0</th>\n",
       "      <td>1PT</td>\n",
       "      <td>16.1</td>\n",
       "      <td>12.3</td>\n",
       "      <td>282.3</td>\n",
       "      <td>0</td>\n",
       "      <td>1824.6</td>\n",
       "      <td>3</td>\n",
       "      <td>51.6</td>\n",
       "      <td>36.6</td>\n",
       "      <td>14.4</td>\n",
       "      <td>...</td>\n",
       "      <td>0</td>\n",
       "      <td>10</td>\n",
       "      <td>0</td>\n",
       "      <td>1.0</td>\n",
       "      <td>TELD</td>\n",
       "      <td>68.0</td>\n",
       "      <td>0</td>\n",
       "      <td>20190715</td>\n",
       "      <td>0</td>\n",
       "      <td>RH+A</td>\n",
       "    </tr>\n",
       "    <tr>\n",
       "      <th>1</th>\n",
       "      <td>2PT</td>\n",
       "      <td>13.7</td>\n",
       "      <td>6.4</td>\n",
       "      <td>177.3</td>\n",
       "      <td>0</td>\n",
       "      <td>1737.5</td>\n",
       "      <td>0</td>\n",
       "      <td>40.8</td>\n",
       "      <td>7.2</td>\n",
       "      <td>17.8</td>\n",
       "      <td>...</td>\n",
       "      <td>0</td>\n",
       "      <td>10</td>\n",
       "      <td>0</td>\n",
       "      <td>1.0</td>\n",
       "      <td>TELD</td>\n",
       "      <td>31.0</td>\n",
       "      <td>0</td>\n",
       "      <td>20190716</td>\n",
       "      <td>0</td>\n",
       "      <td>RH+A</td>\n",
       "    </tr>\n",
       "    <tr>\n",
       "      <th>2</th>\n",
       "      <td>3PT</td>\n",
       "      <td>13.6</td>\n",
       "      <td>7.4</td>\n",
       "      <td>256.8</td>\n",
       "      <td>0</td>\n",
       "      <td>1188.5</td>\n",
       "      <td>0</td>\n",
       "      <td>67.5</td>\n",
       "      <td>27.3</td>\n",
       "      <td>10.2</td>\n",
       "      <td>...</td>\n",
       "      <td>0</td>\n",
       "      <td>7</td>\n",
       "      <td>0</td>\n",
       "      <td>1.0</td>\n",
       "      <td>TELD</td>\n",
       "      <td>78.0</td>\n",
       "      <td>0</td>\n",
       "      <td>20190731</td>\n",
       "      <td>0</td>\n",
       "      <td>RH+B</td>\n",
       "    </tr>\n",
       "    <tr>\n",
       "      <th>3</th>\n",
       "      <td>4PT</td>\n",
       "      <td>10.6</td>\n",
       "      <td>7.3</td>\n",
       "      <td>250.1</td>\n",
       "      <td>0</td>\n",
       "      <td>2534.5</td>\n",
       "      <td>0</td>\n",
       "      <td>49.2</td>\n",
       "      <td>18.7</td>\n",
       "      <td>19.9</td>\n",
       "      <td>...</td>\n",
       "      <td>0</td>\n",
       "      <td>7</td>\n",
       "      <td>0</td>\n",
       "      <td>2.0</td>\n",
       "      <td>TELD</td>\n",
       "      <td>73.0</td>\n",
       "      <td>0</td>\n",
       "      <td>20190802</td>\n",
       "      <td>0</td>\n",
       "      <td>RH+O</td>\n",
       "    </tr>\n",
       "    <tr>\n",
       "      <th>4</th>\n",
       "      <td>5PT</td>\n",
       "      <td>17.1</td>\n",
       "      <td>8.1</td>\n",
       "      <td>232.2</td>\n",
       "      <td>0</td>\n",
       "      <td>1840.6</td>\n",
       "      <td>0</td>\n",
       "      <td>58.8</td>\n",
       "      <td>14.7</td>\n",
       "      <td>5.2</td>\n",
       "      <td>...</td>\n",
       "      <td>0</td>\n",
       "      <td>7</td>\n",
       "      <td>0</td>\n",
       "      <td>1.0</td>\n",
       "      <td>TELD</td>\n",
       "      <td>29.0</td>\n",
       "      <td>0</td>\n",
       "      <td>20190906</td>\n",
       "      <td>0</td>\n",
       "      <td>RH+A</td>\n",
       "    </tr>\n",
       "    <tr>\n",
       "      <th>...</th>\n",
       "      <td>...</td>\n",
       "      <td>...</td>\n",
       "      <td>...</td>\n",
       "      <td>...</td>\n",
       "      <td>...</td>\n",
       "      <td>...</td>\n",
       "      <td>...</td>\n",
       "      <td>...</td>\n",
       "      <td>...</td>\n",
       "      <td>...</td>\n",
       "      <td>...</td>\n",
       "      <td>...</td>\n",
       "      <td>...</td>\n",
       "      <td>...</td>\n",
       "      <td>...</td>\n",
       "      <td>...</td>\n",
       "      <td>...</td>\n",
       "      <td>...</td>\n",
       "      <td>...</td>\n",
       "      <td>...</td>\n",
       "      <td>...</td>\n",
       "    </tr>\n",
       "    <tr>\n",
       "      <th>1889</th>\n",
       "      <td>1890PT</td>\n",
       "      <td>17.0</td>\n",
       "      <td>10.7</td>\n",
       "      <td>237.5</td>\n",
       "      <td>0</td>\n",
       "      <td>2795.7</td>\n",
       "      <td>2</td>\n",
       "      <td>59.5</td>\n",
       "      <td>23.0</td>\n",
       "      <td>21.8</td>\n",
       "      <td>...</td>\n",
       "      <td>0</td>\n",
       "      <td>7</td>\n",
       "      <td>0</td>\n",
       "      <td>12.0</td>\n",
       "      <td>NaN</td>\n",
       "      <td>80.0</td>\n",
       "      <td>0</td>\n",
       "      <td>20170407</td>\n",
       "      <td>0</td>\n",
       "      <td>RH+A</td>\n",
       "    </tr>\n",
       "    <tr>\n",
       "      <th>1890</th>\n",
       "      <td>1891PT</td>\n",
       "      <td>9.4</td>\n",
       "      <td>8.2</td>\n",
       "      <td>288.0</td>\n",
       "      <td>0</td>\n",
       "      <td>1473.0</td>\n",
       "      <td>0</td>\n",
       "      <td>47.7</td>\n",
       "      <td>20.2</td>\n",
       "      <td>5.0</td>\n",
       "      <td>...</td>\n",
       "      <td>0</td>\n",
       "      <td>7</td>\n",
       "      <td>0</td>\n",
       "      <td>6.0</td>\n",
       "      <td>NaN</td>\n",
       "      <td>20.0</td>\n",
       "      <td>0</td>\n",
       "      <td>20170427</td>\n",
       "      <td>0</td>\n",
       "      <td>RH+B</td>\n",
       "    </tr>\n",
       "    <tr>\n",
       "      <th>1891</th>\n",
       "      <td>1892PT</td>\n",
       "      <td>13.5</td>\n",
       "      <td>5.5</td>\n",
       "      <td>148.5</td>\n",
       "      <td>0</td>\n",
       "      <td>3864.1</td>\n",
       "      <td>0</td>\n",
       "      <td>44.6</td>\n",
       "      <td>15.0</td>\n",
       "      <td>17.4</td>\n",
       "      <td>...</td>\n",
       "      <td>0</td>\n",
       "      <td>7</td>\n",
       "      <td>0</td>\n",
       "      <td>1.0</td>\n",
       "      <td>IELD</td>\n",
       "      <td>50.0</td>\n",
       "      <td>0</td>\n",
       "      <td>20170411</td>\n",
       "      <td>0</td>\n",
       "      <td>RH+O</td>\n",
       "    </tr>\n",
       "    <tr>\n",
       "      <th>1892</th>\n",
       "      <td>1893PT</td>\n",
       "      <td>14.0</td>\n",
       "      <td>10.0</td>\n",
       "      <td>89.0</td>\n",
       "      <td>0</td>\n",
       "      <td>2481.8</td>\n",
       "      <td>2</td>\n",
       "      <td>32.2</td>\n",
       "      <td>11.1</td>\n",
       "      <td>17.7</td>\n",
       "      <td>...</td>\n",
       "      <td>0</td>\n",
       "      <td>7</td>\n",
       "      <td>0</td>\n",
       "      <td>24.0</td>\n",
       "      <td>NaN</td>\n",
       "      <td>25.0</td>\n",
       "      <td>0</td>\n",
       "      <td>20170410</td>\n",
       "      <td>0</td>\n",
       "      <td>RH+A</td>\n",
       "    </tr>\n",
       "    <tr>\n",
       "      <th>1893</th>\n",
       "      <td>1894PT</td>\n",
       "      <td>16.1</td>\n",
       "      <td>9.5</td>\n",
       "      <td>251.4</td>\n",
       "      <td>0</td>\n",
       "      <td>1796.1</td>\n",
       "      <td>0</td>\n",
       "      <td>38.9</td>\n",
       "      <td>6.8</td>\n",
       "      <td>27.8</td>\n",
       "      <td>...</td>\n",
       "      <td>0</td>\n",
       "      <td>8</td>\n",
       "      <td>0</td>\n",
       "      <td>6.0</td>\n",
       "      <td>NaN</td>\n",
       "      <td>45.0</td>\n",
       "      <td>0</td>\n",
       "      <td>20170412</td>\n",
       "      <td>0</td>\n",
       "      <td>RH+AB</td>\n",
       "    </tr>\n",
       "  </tbody>\n",
       "</table>\n",
       "<p>1894 rows × 51 columns</p>\n",
       "</div>"
      ],
      "text/plain": [
       "        환자ID  전방디스크높이(mm)  후방디스크높이(mm)  지방축적도  Instability  MF + ES  \\\n",
       "0        1PT         16.1         12.3  282.3            0   1824.6   \n",
       "1        2PT         13.7          6.4  177.3            0   1737.5   \n",
       "2        3PT         13.6          7.4  256.8            0   1188.5   \n",
       "3        4PT         10.6          7.3  250.1            0   2534.5   \n",
       "4        5PT         17.1          8.1  232.2            0   1840.6   \n",
       "...      ...          ...          ...    ...          ...      ...   \n",
       "1889  1890PT         17.0         10.7  237.5            0   2795.7   \n",
       "1890  1891PT          9.4          8.2  288.0            0   1473.0   \n",
       "1891  1892PT         13.5          5.5  148.5            0   3864.1   \n",
       "1892  1893PT         14.0         10.0   89.0            0   2481.8   \n",
       "1893  1894PT         16.1          9.5  251.4            0   1796.1   \n",
       "\n",
       "      Modic change    PI    PT  Seg Angle(raw)  ...  혈전합병증여부  환자통증정도  흡연여부  \\\n",
       "0                3  51.6  36.6            14.4  ...        0      10     0   \n",
       "1                0  40.8   7.2            17.8  ...        0      10     0   \n",
       "2                0  67.5  27.3            10.2  ...        0       7     0   \n",
       "3                0  49.2  18.7            19.9  ...        0       7     0   \n",
       "4                0  58.8  14.7             5.2  ...        0       7     0   \n",
       "...            ...   ...   ...             ...  ...      ...     ...   ...   \n",
       "1889             2  59.5  23.0            21.8  ...        0       7     0   \n",
       "1890             0  47.7  20.2             5.0  ...        0       7     0   \n",
       "1891             0  44.6  15.0            17.4  ...        0       7     0   \n",
       "1892             2  32.2  11.1            17.7  ...        0       7     0   \n",
       "1893             0  38.9   6.8            27.8  ...        0       8     0   \n",
       "\n",
       "      통증기간(월)  수술기법  수술시간  수술실패여부      수술일자  재발여부    혈액형  \n",
       "0         1.0  TELD  68.0       0  20190715     0   RH+A  \n",
       "1         1.0  TELD  31.0       0  20190716     0   RH+A  \n",
       "2         1.0  TELD  78.0       0  20190731     0   RH+B  \n",
       "3         2.0  TELD  73.0       0  20190802     0   RH+O  \n",
       "4         1.0  TELD  29.0       0  20190906     0   RH+A  \n",
       "...       ...   ...   ...     ...       ...   ...    ...  \n",
       "1889     12.0   NaN  80.0       0  20170407     0   RH+A  \n",
       "1890      6.0   NaN  20.0       0  20170427     0   RH+B  \n",
       "1891      1.0  IELD  50.0       0  20170411     0   RH+O  \n",
       "1892     24.0   NaN  25.0       0  20170410     0   RH+A  \n",
       "1893      6.0   NaN  45.0       0  20170412     0  RH+AB  \n",
       "\n",
       "[1894 rows x 51 columns]"
      ]
     },
     "execution_count": 20,
     "metadata": {},
     "output_type": "execute_result"
    }
   ],
   "source": [
    "data = pd.merge(image, diagnosis) # 이미지,진단,수술 데이터 결합\n",
    "data = pd.merge(data, surgery)\n",
    "data"
   ]
  },
  {
   "cell_type": "code",
   "execution_count": 9,
   "metadata": {},
   "outputs": [
    {
     "data": {
      "text/plain": [
       "Index(['환자ID', '전방디스크높이(mm)', '후방디스크높이(mm)', '지방축적도', 'Instability', 'MF + ES',\n",
       "       'Modic change', 'PI', 'PT', 'Seg Angle(raw)', 'Vaccum disc', '골밀도',\n",
       "       '디스크단면적', '디스크위치', '척추이동척도', '척추전방위증', 'Large Lymphocyte',\n",
       "       'Location of herniation', 'ODI', '가족력', '간질성폐질환', '고혈압여부', '과거수술횟수',\n",
       "       '당뇨여부', '말초동맥질환여부', '빈혈여부', '성별', '스테로이드치료', '신부전여부', '신장', '심혈관질환',\n",
       "       '암발병여부', '연령', '우울증여부', '입원기간', '입원일자', '종양진행여부', '직업', '체중', '퇴원일자',\n",
       "       '헤모글로빈수치', '혈전합병증여부', '환자통증정도', '흡연여부', '통증기간(월)', '수술기법', '수술시간',\n",
       "       '수술실패여부', '수술일자', '재발여부', '혈액형'],\n",
       "      dtype='object')"
      ]
     },
     "execution_count": 9,
     "metadata": {},
     "output_type": "execute_result"
    }
   ],
   "source": [
    "data.columns"
   ]
  },
  {
   "cell_type": "code",
   "execution_count": 10,
   "metadata": {},
   "outputs": [
    {
     "name": "stdout",
     "output_type": "stream",
     "text": [
      "<class 'pandas.core.frame.DataFrame'>\n",
      "Int64Index: 1894 entries, 0 to 1893\n",
      "Data columns (total 51 columns):\n",
      " #   Column                  Non-Null Count  Dtype  \n",
      "---  ------                  --------------  -----  \n",
      " 0   환자ID                    1894 non-null   object \n",
      " 1   전방디스크높이(mm)             1894 non-null   float64\n",
      " 2   후방디스크높이(mm)             1894 non-null   float64\n",
      " 3   지방축적도                   1891 non-null   float64\n",
      " 4   Instability             1894 non-null   int64  \n",
      " 5   MF + ES                 1894 non-null   float64\n",
      " 6   Modic change            1894 non-null   int64  \n",
      " 7   PI                      1890 non-null   float64\n",
      " 8   PT                      1890 non-null   float64\n",
      " 9   Seg Angle(raw)          1893 non-null   float64\n",
      " 10  Vaccum disc             1894 non-null   int64  \n",
      " 11  골밀도                     998 non-null    float64\n",
      " 12  디스크단면적                  1893 non-null   float64\n",
      " 13  디스크위치                   1894 non-null   int64  \n",
      " 14  척추이동척도                  1894 non-null   object \n",
      " 15  척추전방위증                  1894 non-null   int64  \n",
      " 16  Large Lymphocyte        1894 non-null   float64\n",
      " 17  Location of herniation  1894 non-null   int64  \n",
      " 18  ODI                     462 non-null    float64\n",
      " 19  가족력                     1843 non-null   float64\n",
      " 20  간질성폐질환                  1894 non-null   int64  \n",
      " 21  고혈압여부                   1894 non-null   int64  \n",
      " 22  과거수술횟수                  1894 non-null   int64  \n",
      " 23  당뇨여부                    1894 non-null   int64  \n",
      " 24  말초동맥질환여부                1894 non-null   int64  \n",
      " 25  빈혈여부                    1894 non-null   int64  \n",
      " 26  성별                      1894 non-null   int64  \n",
      " 27  스테로이드치료                 1894 non-null   int64  \n",
      " 28  신부전여부                   1894 non-null   int64  \n",
      " 29  신장                      1894 non-null   int64  \n",
      " 30  심혈관질환                   1894 non-null   int64  \n",
      " 31  암발병여부                   1894 non-null   int64  \n",
      " 32  연령                      1894 non-null   int64  \n",
      " 33  우울증여부                   1894 non-null   int64  \n",
      " 34  입원기간                    1894 non-null   int64  \n",
      " 35  입원일자                    1894 non-null   int64  \n",
      " 36  종양진행여부                  1894 non-null   int64  \n",
      " 37  직업                      1479 non-null   object \n",
      " 38  체중                      1894 non-null   float64\n",
      " 39  퇴원일자                    1894 non-null   int64  \n",
      " 40  헤모글로빈수치                 1893 non-null   float64\n",
      " 41  혈전합병증여부                 1894 non-null   int64  \n",
      " 42  환자통증정도                  1894 non-null   int64  \n",
      " 43  흡연여부                    1894 non-null   int64  \n",
      " 44  통증기간(월)                 1890 non-null   float64\n",
      " 45  수술기법                    1813 non-null   object \n",
      " 46  수술시간                    1840 non-null   float64\n",
      " 47  수술실패여부                  1894 non-null   int64  \n",
      " 48  수술일자                    1894 non-null   int64  \n",
      " 49  재발여부                    1894 non-null   int64  \n",
      " 50  혈액형                     1894 non-null   object \n",
      "dtypes: float64(16), int64(30), object(5)\n",
      "memory usage: 769.4+ KB\n"
     ]
    }
   ],
   "source": [
    "data.info()"
   ]
  },
  {
   "cell_type": "code",
   "execution_count": 21,
   "metadata": {},
   "outputs": [
    {
     "name": "stderr",
     "output_type": "stream",
     "text": [
      "C:\\Users\\tiamo\\AppData\\Local\\Temp\\ipykernel_1276\\1150810927.py:18: SettingWithCopyWarning: \n",
      "A value is trying to be set on a copy of a slice from a DataFrame\n",
      "\n",
      "See the caveats in the documentation: https://pandas.pydata.org/pandas-docs/stable/user_guide/indexing.html#returning-a-view-versus-a-copy\n",
      "  data['비만여부'][i] = bmi(data['신장'][i], data['체중'][i])\n"
     ]
    }
   ],
   "source": [
    "# 비만 여부 35 미만 비만 35 이상 고도 비만 \n",
    "\n",
    "\n",
    "def bmi(a, b):\n",
    "    height = a / 100\n",
    "    weight = b\n",
    "    temp = (weight / (height ** 2))\n",
    "    if temp > 35: #초고도비만\n",
    "        return 2\n",
    "    elif temp > 25: #비만\n",
    "        return 1\n",
    "    elif temp < 18.5: #저체중\n",
    "        return -1\n",
    "    else :\n",
    "        return 0 #정상\n",
    "data['비만여부'] = 0\n",
    "for i in range(0, data.shape[0]):\n",
    "    data['비만여부'][i] = bmi(data['신장'][i], data['체중'][i])"
   ]
  },
  {
   "cell_type": "code",
   "execution_count": 59,
   "metadata": {},
   "outputs": [
    {
     "data": {
      "text/html": [
       "<div>\n",
       "<style scoped>\n",
       "    .dataframe tbody tr th:only-of-type {\n",
       "        vertical-align: middle;\n",
       "    }\n",
       "\n",
       "    .dataframe tbody tr th {\n",
       "        vertical-align: top;\n",
       "    }\n",
       "\n",
       "    .dataframe thead th {\n",
       "        text-align: right;\n",
       "    }\n",
       "</style>\n",
       "<table border=\"1\" class=\"dataframe\">\n",
       "  <thead>\n",
       "    <tr style=\"text-align: right;\">\n",
       "      <th></th>\n",
       "      <th>환자ID</th>\n",
       "      <th>전방디스크높이(mm)</th>\n",
       "      <th>후방디스크높이(mm)</th>\n",
       "      <th>지방축적도</th>\n",
       "      <th>Instability</th>\n",
       "      <th>MF + ES</th>\n",
       "      <th>Modic change</th>\n",
       "      <th>PI</th>\n",
       "      <th>PT</th>\n",
       "      <th>Seg Angle(raw)</th>\n",
       "      <th>...</th>\n",
       "      <th>환자통증정도</th>\n",
       "      <th>흡연여부</th>\n",
       "      <th>통증기간(월)</th>\n",
       "      <th>수술기법</th>\n",
       "      <th>수술시간</th>\n",
       "      <th>수술실패여부</th>\n",
       "      <th>수술일자</th>\n",
       "      <th>재발여부</th>\n",
       "      <th>혈액형</th>\n",
       "      <th>비만여부</th>\n",
       "    </tr>\n",
       "  </thead>\n",
       "  <tbody>\n",
       "    <tr>\n",
       "      <th>0</th>\n",
       "      <td>1PT</td>\n",
       "      <td>16.1</td>\n",
       "      <td>12.3</td>\n",
       "      <td>282.3</td>\n",
       "      <td>0</td>\n",
       "      <td>1824.6</td>\n",
       "      <td>3</td>\n",
       "      <td>51.6</td>\n",
       "      <td>36.6</td>\n",
       "      <td>14.4</td>\n",
       "      <td>...</td>\n",
       "      <td>10</td>\n",
       "      <td>0</td>\n",
       "      <td>1.0</td>\n",
       "      <td>TELD</td>\n",
       "      <td>68.0</td>\n",
       "      <td>0</td>\n",
       "      <td>20190715</td>\n",
       "      <td>0</td>\n",
       "      <td>RH+A</td>\n",
       "      <td>0</td>\n",
       "    </tr>\n",
       "    <tr>\n",
       "      <th>1</th>\n",
       "      <td>2PT</td>\n",
       "      <td>13.7</td>\n",
       "      <td>6.4</td>\n",
       "      <td>177.3</td>\n",
       "      <td>0</td>\n",
       "      <td>1737.5</td>\n",
       "      <td>0</td>\n",
       "      <td>40.8</td>\n",
       "      <td>7.2</td>\n",
       "      <td>17.8</td>\n",
       "      <td>...</td>\n",
       "      <td>10</td>\n",
       "      <td>0</td>\n",
       "      <td>1.0</td>\n",
       "      <td>TELD</td>\n",
       "      <td>31.0</td>\n",
       "      <td>0</td>\n",
       "      <td>20190716</td>\n",
       "      <td>0</td>\n",
       "      <td>RH+A</td>\n",
       "      <td>0</td>\n",
       "    </tr>\n",
       "    <tr>\n",
       "      <th>2</th>\n",
       "      <td>3PT</td>\n",
       "      <td>13.6</td>\n",
       "      <td>7.4</td>\n",
       "      <td>256.8</td>\n",
       "      <td>0</td>\n",
       "      <td>1188.5</td>\n",
       "      <td>0</td>\n",
       "      <td>67.5</td>\n",
       "      <td>27.3</td>\n",
       "      <td>10.2</td>\n",
       "      <td>...</td>\n",
       "      <td>7</td>\n",
       "      <td>0</td>\n",
       "      <td>1.0</td>\n",
       "      <td>TELD</td>\n",
       "      <td>78.0</td>\n",
       "      <td>0</td>\n",
       "      <td>20190731</td>\n",
       "      <td>0</td>\n",
       "      <td>RH+B</td>\n",
       "      <td>0</td>\n",
       "    </tr>\n",
       "    <tr>\n",
       "      <th>3</th>\n",
       "      <td>4PT</td>\n",
       "      <td>10.6</td>\n",
       "      <td>7.3</td>\n",
       "      <td>250.1</td>\n",
       "      <td>0</td>\n",
       "      <td>2534.5</td>\n",
       "      <td>0</td>\n",
       "      <td>49.2</td>\n",
       "      <td>18.7</td>\n",
       "      <td>19.9</td>\n",
       "      <td>...</td>\n",
       "      <td>7</td>\n",
       "      <td>0</td>\n",
       "      <td>2.0</td>\n",
       "      <td>TELD</td>\n",
       "      <td>73.0</td>\n",
       "      <td>0</td>\n",
       "      <td>20190802</td>\n",
       "      <td>0</td>\n",
       "      <td>RH+O</td>\n",
       "      <td>0</td>\n",
       "    </tr>\n",
       "    <tr>\n",
       "      <th>4</th>\n",
       "      <td>5PT</td>\n",
       "      <td>17.1</td>\n",
       "      <td>8.1</td>\n",
       "      <td>232.2</td>\n",
       "      <td>0</td>\n",
       "      <td>1840.6</td>\n",
       "      <td>0</td>\n",
       "      <td>58.8</td>\n",
       "      <td>14.7</td>\n",
       "      <td>5.2</td>\n",
       "      <td>...</td>\n",
       "      <td>7</td>\n",
       "      <td>0</td>\n",
       "      <td>1.0</td>\n",
       "      <td>TELD</td>\n",
       "      <td>29.0</td>\n",
       "      <td>0</td>\n",
       "      <td>20190906</td>\n",
       "      <td>0</td>\n",
       "      <td>RH+A</td>\n",
       "      <td>0</td>\n",
       "    </tr>\n",
       "  </tbody>\n",
       "</table>\n",
       "<p>5 rows × 52 columns</p>\n",
       "</div>"
      ],
      "text/plain": [
       "  환자ID  전방디스크높이(mm)  후방디스크높이(mm)  지방축적도  Instability  MF + ES  Modic change  \\\n",
       "0  1PT         16.1         12.3  282.3            0   1824.6             3   \n",
       "1  2PT         13.7          6.4  177.3            0   1737.5             0   \n",
       "2  3PT         13.6          7.4  256.8            0   1188.5             0   \n",
       "3  4PT         10.6          7.3  250.1            0   2534.5             0   \n",
       "4  5PT         17.1          8.1  232.2            0   1840.6             0   \n",
       "\n",
       "     PI    PT  Seg Angle(raw)  ...  환자통증정도  흡연여부  통증기간(월)  수술기법  수술시간  수술실패여부  \\\n",
       "0  51.6  36.6            14.4  ...      10     0      1.0  TELD  68.0       0   \n",
       "1  40.8   7.2            17.8  ...      10     0      1.0  TELD  31.0       0   \n",
       "2  67.5  27.3            10.2  ...       7     0      1.0  TELD  78.0       0   \n",
       "3  49.2  18.7            19.9  ...       7     0      2.0  TELD  73.0       0   \n",
       "4  58.8  14.7             5.2  ...       7     0      1.0  TELD  29.0       0   \n",
       "\n",
       "       수술일자  재발여부   혈액형  비만여부  \n",
       "0  20190715     0  RH+A     0  \n",
       "1  20190716     0  RH+A     0  \n",
       "2  20190731     0  RH+B     0  \n",
       "3  20190802     0  RH+O     0  \n",
       "4  20190906     0  RH+A     0  \n",
       "\n",
       "[5 rows x 52 columns]"
      ]
     },
     "execution_count": 59,
     "metadata": {},
     "output_type": "execute_result"
    }
   ],
   "source": [
    "data.head()"
   ]
  },
  {
   "cell_type": "code",
   "execution_count": 22,
   "metadata": {},
   "outputs": [
    {
     "data": {
      "text/plain": [
       "<AxesSubplot:xlabel='jobs_count', ylabel='직업'>"
      ]
     },
     "execution_count": 22,
     "metadata": {},
     "output_type": "execute_result"
    },
    {
     "data": {
      "image/png": "[encoded data removed]",
      "text/plain": [
       "<Figure size 432x288 with 1 Axes>"
      ]
     },
     "metadata": {
      "needs_background": "light"
     },
     "output_type": "display_data"
    }
   ],
   "source": [
    "jobs = data[['환자ID', '성별', '직업' , '비만여부', '지방축적도', '입원기간' , '고혈압여부' ,'당뇨여부', '과거수술횟수', '수술실패여부', '재발여부']]\n",
    "\n",
    "# 사무직 자영업 무직 순으로 많다 \n",
    "\n",
    "jobs_count = jobs.groupby(['직업'], as_index=False).agg(jobs_count = ('환자ID', 'count'))\n",
    "jobs_count2 = jobs_count.sort_values(by = 'jobs_count', ascending=False )\n",
    "sns.barplot(data = jobs_count2, x = 'jobs_count', y = '직업' )"
   ]
  },
  {
   "cell_type": "code",
   "execution_count": 13,
   "metadata": {},
   "outputs": [
    {
     "data": {
      "text/plain": [
       "<AxesSubplot:xlabel='비만여부', ylabel='count'>"
      ]
     },
     "execution_count": 13,
     "metadata": {},
     "output_type": "execute_result"
    },
    {
     "data": {
      "image/png": "[encoded data removed]",
      "text/plain": [
       "<Figure size 432x288 with 1 Axes>"
      ]
     },
     "metadata": {
      "needs_background": "light"
     },
     "output_type": "display_data"
    }
   ],
   "source": [
    "sns.countplot(data = data , x = '비만여부' ) # 전체 수술환자 비만정도"
   ]
  },
  {
   "cell_type": "code",
   "execution_count": 14,
   "metadata": {},
   "outputs": [
    {
     "data": {
      "text/plain": [
       "<AxesSubplot:xlabel='재발여부', ylabel='count'>"
      ]
     },
     "execution_count": 14,
     "metadata": {},
     "output_type": "execute_result"
    },
    {
     "data": {
      "image/png": "[encoded data removed]",
      "text/plain": [
       "<Figure size 432x288 with 1 Axes>"
      ]
     },
     "metadata": {
      "needs_background": "light"
     },
     "output_type": "display_data"
    }
   ],
   "source": [
    "sns.countplot(data = data.sort_values(by = '비만여부'), x='재발여부', hue = '비만여부') # 비만정도에 따른 재발여부"
   ]
  },
  {
   "cell_type": "markdown",
   "metadata": {},
   "source": [
    "수술환자 대부분은 정상이었고 재수술환자도 대부분 정상이었다."
   ]
  },
  {
   "cell_type": "code",
   "execution_count": 60,
   "metadata": {},
   "outputs": [
    {
     "data": {
      "text/plain": [
       "<AxesSubplot:xlabel='지방축적도_1', ylabel='count'>"
      ]
     },
     "execution_count": 60,
     "metadata": {},
     "output_type": "execute_result"
    },
    {
     "data": {
      "image/png": "[encoded data removed]",
      "text/plain": [
       "<Figure size 1152x360 with 1 Axes>"
      ]
     },
     "metadata": {
      "needs_background": "light"
     },
     "output_type": "display_data"
    }
   ],
   "source": [
    "def Total_1(data):    \n",
    "    if data < 100:        \n",
    "        return '0~100'\n",
    "    elif data < 200:\n",
    "        return '100~200'\n",
    "    elif data < 300:\n",
    "        return '200~300'\n",
    "    elif data < 400:\n",
    "        return '300~400'\n",
    "    elif data < 500:\n",
    "        return '400~500'\n",
    "    else:\n",
    "        return '500이상'\n",
    "plt.rc('font', family='Malgun Gothic')    # 한글 폰트수정\n",
    "plt.figure(figsize = (16, 5))  # 피규어 사이즈 확장 \n",
    "data['지방축적도_1'] = data['지방축적도'].apply(Total_1)\n",
    "sns.countplot(data = data.sort_values(by = '비만여부'), x='지방축적도_1', hue = '비만여부', order=['0~100','100~200','200~300','300~400','400~500','500이상'])"
   ]
  },
  {
   "cell_type": "markdown",
   "metadata": {},
   "source": [
    "지방축적도랑 비만여부는 상관관계가 없다."
   ]
  },
  {
   "cell_type": "code",
   "execution_count": 16,
   "metadata": {},
   "outputs": [
    {
     "data": {
      "text/plain": [
       "0       0\n",
       "1       0\n",
       "2       0\n",
       "3       0\n",
       "4       0\n",
       "       ..\n",
       "1889    0\n",
       "1890    0\n",
       "1891    0\n",
       "1892    0\n",
       "1893    0\n",
       "Name: 재발여부, Length: 1894, dtype: int64"
      ]
     },
     "execution_count": 16,
     "metadata": {},
     "output_type": "execute_result"
    }
   ],
   "source": [
    "data['재발여부']"
   ]
  },
  {
   "cell_type": "code",
   "execution_count": 17,
   "metadata": {},
   "outputs": [
    {
     "data": {
      "text/plain": [
       "<AxesSubplot:xlabel='재발여부', ylabel='count'>"
      ]
     },
     "execution_count": 17,
     "metadata": {},
     "output_type": "execute_result"
    },
    {
     "data": {
      "image/png": "[encoded data removed]",
      "text/plain": [
       "<Figure size 432x288 with 1 Axes>"
      ]
     },
     "metadata": {
      "needs_background": "light"
     },
     "output_type": "display_data"
    }
   ],
   "source": [
    "sns.countplot(data = data.sort_values(by = '수술기법'), x='재발여부', hue = '수술기법') # 크게차이 안남"
   ]
  },
  {
   "cell_type": "code",
   "execution_count": 18,
   "metadata": {},
   "outputs": [
    {
     "name": "stderr",
     "output_type": "stream",
     "text": [
      "No artists with labels found to put in legend.  Note that artists whose label start with an underscore are ignored when legend() is called with no argument.\n"
     ]
    },
    {
     "data": {
      "text/plain": [
       "<matplotlib.legend.Legend at 0x2340015b820>"
      ]
     },
     "execution_count": 18,
     "metadata": {},
     "output_type": "execute_result"
    },
    {
     "data": {
      "image/png": "[encoded data removed]",
      "text/plain": [
       "<Figure size 864x360 with 1 Axes>"
      ]
     },
     "metadata": {
      "needs_background": "light"
     },
     "output_type": "display_data"
    }
   ],
   "source": [
    "plt.figure(figsize=(12, 5)) # 그래프 크기 확대\n",
    "sns.countplot(data = data.sort_values(by = '환자ID'), x='직업') # 수술환자의 직업 분류\n",
    "plt.legend(loc = 'upper right') # 범례 우측상단표기"
   ]
  },
  {
   "cell_type": "code",
   "execution_count": 19,
   "metadata": {},
   "outputs": [
    {
     "data": {
      "text/plain": [
       "<matplotlib.legend.Legend at 0x234001daca0>"
      ]
     },
     "execution_count": 19,
     "metadata": {},
     "output_type": "execute_result"
    },
    {
     "data": {
      "image/png": "[encoded data removed]",
      "text/plain": [
       "<Figure size 864x360 with 1 Axes>"
      ]
     },
     "metadata": {
      "needs_background": "light"
     },
     "output_type": "display_data"
    }
   ],
   "source": [
    "plt.figure(figsize=(12, 5)) # 그래프 크기 확대 \n",
    "sns.countplot(data = data.sort_values(by = '비만여부'), x='직업', hue = '비만여부') \n",
    "plt.legend(loc = 'upper right') # 범례 우측상단표기 "
   ]
  },
  {
   "cell_type": "code",
   "execution_count": 20,
   "metadata": {},
   "outputs": [
    {
     "data": {
      "text/html": [
       "<div>\n",
       "<style scoped>\n",
       "    .dataframe tbody tr th:only-of-type {\n",
       "        vertical-align: middle;\n",
       "    }\n",
       "\n",
       "    .dataframe tbody tr th {\n",
       "        vertical-align: top;\n",
       "    }\n",
       "\n",
       "    .dataframe thead th {\n",
       "        text-align: right;\n",
       "    }\n",
       "</style>\n",
       "<table border=\"1\" class=\"dataframe\">\n",
       "  <thead>\n",
       "    <tr style=\"text-align: right;\">\n",
       "      <th></th>\n",
       "      <th>재발여부</th>\n",
       "      <th>체중</th>\n",
       "      <th>count</th>\n",
       "    </tr>\n",
       "  </thead>\n",
       "  <tbody>\n",
       "    <tr>\n",
       "      <th>0</th>\n",
       "      <td>0</td>\n",
       "      <td>35.0</td>\n",
       "      <td>2</td>\n",
       "    </tr>\n",
       "    <tr>\n",
       "      <th>1</th>\n",
       "      <td>0</td>\n",
       "      <td>38.0</td>\n",
       "      <td>1</td>\n",
       "    </tr>\n",
       "    <tr>\n",
       "      <th>2</th>\n",
       "      <td>0</td>\n",
       "      <td>43.0</td>\n",
       "      <td>2</td>\n",
       "    </tr>\n",
       "    <tr>\n",
       "      <th>3</th>\n",
       "      <td>0</td>\n",
       "      <td>44.0</td>\n",
       "      <td>4</td>\n",
       "    </tr>\n",
       "    <tr>\n",
       "      <th>4</th>\n",
       "      <td>0</td>\n",
       "      <td>45.0</td>\n",
       "      <td>8</td>\n",
       "    </tr>\n",
       "    <tr>\n",
       "      <th>...</th>\n",
       "      <td>...</td>\n",
       "      <td>...</td>\n",
       "      <td>...</td>\n",
       "    </tr>\n",
       "    <tr>\n",
       "      <th>373</th>\n",
       "      <td>1</td>\n",
       "      <td>103.0</td>\n",
       "      <td>1</td>\n",
       "    </tr>\n",
       "    <tr>\n",
       "      <th>374</th>\n",
       "      <td>1</td>\n",
       "      <td>104.0</td>\n",
       "      <td>2</td>\n",
       "    </tr>\n",
       "    <tr>\n",
       "      <th>375</th>\n",
       "      <td>1</td>\n",
       "      <td>106.0</td>\n",
       "      <td>1</td>\n",
       "    </tr>\n",
       "    <tr>\n",
       "      <th>376</th>\n",
       "      <td>1</td>\n",
       "      <td>110.0</td>\n",
       "      <td>2</td>\n",
       "    </tr>\n",
       "    <tr>\n",
       "      <th>377</th>\n",
       "      <td>1</td>\n",
       "      <td>136.1</td>\n",
       "      <td>1</td>\n",
       "    </tr>\n",
       "  </tbody>\n",
       "</table>\n",
       "<p>378 rows × 3 columns</p>\n",
       "</div>"
      ],
      "text/plain": [
       "     재발여부     체중  count\n",
       "0       0   35.0      2\n",
       "1       0   38.0      1\n",
       "2       0   43.0      2\n",
       "3       0   44.0      4\n",
       "4       0   45.0      8\n",
       "..    ...    ...    ...\n",
       "373     1  103.0      1\n",
       "374     1  104.0      2\n",
       "375     1  106.0      1\n",
       "376     1  110.0      2\n",
       "377     1  136.1      1\n",
       "\n",
       "[378 rows x 3 columns]"
      ]
     },
     "execution_count": 20,
     "metadata": {},
     "output_type": "execute_result"
    }
   ],
   "source": [
    "data_1 = data.groupby(['재발여부','체중'], as_index = False).agg(count = ('체중', 'count'))\n",
    "data_1"
   ]
  },
  {
   "cell_type": "code",
   "execution_count": 21,
   "metadata": {},
   "outputs": [
    {
     "data": {
      "text/plain": [
       "<AxesSubplot:xlabel='체중', ylabel='count'>"
      ]
     },
     "execution_count": 21,
     "metadata": {},
     "output_type": "execute_result"
    },
    {
     "data": {
      "image/png": "[encoded data removed]",
      "text/plain": [
       "<Figure size 432x288 with 1 Axes>"
      ]
     },
     "metadata": {
      "needs_background": "light"
     },
     "output_type": "display_data"
    }
   ],
   "source": [
    "sns.lineplot(data = data_1, x='체중', y= 'count', hue = '재발여부')"
   ]
  },
  {
   "cell_type": "markdown",
   "metadata": {},
   "source": [
    "체중 70 부터는 재발율이 높아진다"
   ]
  },
  {
   "cell_type": "code",
   "execution_count": 22,
   "metadata": {},
   "outputs": [],
   "source": [
    "data_1 = data.groupby(['재발여부','신장'], as_index = False).agg(count = ('신장', 'count'))"
   ]
  },
  {
   "cell_type": "code",
   "execution_count": 23,
   "metadata": {},
   "outputs": [
    {
     "data": {
      "text/plain": [
       "<AxesSubplot:xlabel='신장', ylabel='count'>"
      ]
     },
     "execution_count": 23,
     "metadata": {},
     "output_type": "execute_result"
    },
    {
     "data": {
      "image/png": "[encoded data removed]",
      "text/plain": [
       "<Figure size 432x288 with 1 Axes>"
      ]
     },
     "metadata": {
      "needs_background": "light"
     },
     "output_type": "display_data"
    }
   ],
   "source": [
    "sns.lineplot(data = data_1, x='신장', y= 'count', hue = '재발여부')\n"
   ]
  },
  {
   "cell_type": "markdown",
   "metadata": {},
   "source": [
    "신장 170이상부터 재발율이 높아진다"
   ]
  },
  {
   "cell_type": "code",
   "execution_count": 24,
   "metadata": {},
   "outputs": [
    {
     "data": {
      "text/html": [
       "<div>\n",
       "<style scoped>\n",
       "    .dataframe tbody tr th:only-of-type {\n",
       "        vertical-align: middle;\n",
       "    }\n",
       "\n",
       "    .dataframe tbody tr th {\n",
       "        vertical-align: top;\n",
       "    }\n",
       "\n",
       "    .dataframe thead th {\n",
       "        text-align: right;\n",
       "    }\n",
       "</style>\n",
       "<table border=\"1\" class=\"dataframe\">\n",
       "  <thead>\n",
       "    <tr style=\"text-align: right;\">\n",
       "      <th></th>\n",
       "      <th>전방디스크높이(mm)</th>\n",
       "      <th>후방디스크높이(mm)</th>\n",
       "      <th>지방축적도</th>\n",
       "      <th>Instability</th>\n",
       "      <th>MF + ES</th>\n",
       "      <th>Modic change</th>\n",
       "      <th>PI</th>\n",
       "      <th>PT</th>\n",
       "      <th>Seg Angle(raw)</th>\n",
       "      <th>Vaccum disc</th>\n",
       "      <th>...</th>\n",
       "      <th>헤모글로빈수치</th>\n",
       "      <th>혈전합병증여부</th>\n",
       "      <th>환자통증정도</th>\n",
       "      <th>흡연여부</th>\n",
       "      <th>통증기간(월)</th>\n",
       "      <th>수술시간</th>\n",
       "      <th>수술실패여부</th>\n",
       "      <th>수술일자</th>\n",
       "      <th>재발여부</th>\n",
       "      <th>비만여부</th>\n",
       "    </tr>\n",
       "  </thead>\n",
       "  <tbody>\n",
       "    <tr>\n",
       "      <th>count</th>\n",
       "      <td>449.000000</td>\n",
       "      <td>449.000000</td>\n",
       "      <td>448.000000</td>\n",
       "      <td>449.000000</td>\n",
       "      <td>449.000000</td>\n",
       "      <td>449.000000</td>\n",
       "      <td>447.000000</td>\n",
       "      <td>447.000000</td>\n",
       "      <td>449.000000</td>\n",
       "      <td>449.000000</td>\n",
       "      <td>...</td>\n",
       "      <td>449.000000</td>\n",
       "      <td>449.000000</td>\n",
       "      <td>449.000000</td>\n",
       "      <td>449.000000</td>\n",
       "      <td>448.000000</td>\n",
       "      <td>438.000000</td>\n",
       "      <td>449.000000</td>\n",
       "      <td>4.490000e+02</td>\n",
       "      <td>449.000000</td>\n",
       "      <td>449.000000</td>\n",
       "    </tr>\n",
       "    <tr>\n",
       "      <th>mean</th>\n",
       "      <td>11.360290</td>\n",
       "      <td>8.484744</td>\n",
       "      <td>248.583638</td>\n",
       "      <td>0.033408</td>\n",
       "      <td>2148.423229</td>\n",
       "      <td>0.195991</td>\n",
       "      <td>45.574497</td>\n",
       "      <td>16.577852</td>\n",
       "      <td>15.271804</td>\n",
       "      <td>0.031180</td>\n",
       "      <td>...</td>\n",
       "      <td>14.776526</td>\n",
       "      <td>0.002227</td>\n",
       "      <td>6.712695</td>\n",
       "      <td>0.256125</td>\n",
       "      <td>5.663728</td>\n",
       "      <td>61.543379</td>\n",
       "      <td>0.055679</td>\n",
       "      <td>2.015853e+07</td>\n",
       "      <td>0.135857</td>\n",
       "      <td>0.271715</td>\n",
       "    </tr>\n",
       "    <tr>\n",
       "      <th>std</th>\n",
       "      <td>2.897193</td>\n",
       "      <td>4.891643</td>\n",
       "      <td>435.952080</td>\n",
       "      <td>0.179899</td>\n",
       "      <td>477.134032</td>\n",
       "      <td>0.591519</td>\n",
       "      <td>9.699481</td>\n",
       "      <td>8.352402</td>\n",
       "      <td>11.278941</td>\n",
       "      <td>0.173999</td>\n",
       "      <td>...</td>\n",
       "      <td>1.550824</td>\n",
       "      <td>0.047193</td>\n",
       "      <td>2.264801</td>\n",
       "      <td>0.436978</td>\n",
       "      <td>14.192309</td>\n",
       "      <td>27.144864</td>\n",
       "      <td>0.229557</td>\n",
       "      <td>3.718350e+04</td>\n",
       "      <td>0.343019</td>\n",
       "      <td>0.492920</td>\n",
       "    </tr>\n",
       "    <tr>\n",
       "      <th>min</th>\n",
       "      <td>1.500000</td>\n",
       "      <td>1.000000</td>\n",
       "      <td>53.100000</td>\n",
       "      <td>0.000000</td>\n",
       "      <td>1021.000000</td>\n",
       "      <td>0.000000</td>\n",
       "      <td>11.900000</td>\n",
       "      <td>-6.300000</td>\n",
       "      <td>-3.400000</td>\n",
       "      <td>0.000000</td>\n",
       "      <td>...</td>\n",
       "      <td>9.700000</td>\n",
       "      <td>0.000000</td>\n",
       "      <td>1.000000</td>\n",
       "      <td>0.000000</td>\n",
       "      <td>0.100000</td>\n",
       "      <td>5.000000</td>\n",
       "      <td>0.000000</td>\n",
       "      <td>2.009033e+07</td>\n",
       "      <td>0.000000</td>\n",
       "      <td>-1.000000</td>\n",
       "    </tr>\n",
       "    <tr>\n",
       "      <th>25%</th>\n",
       "      <td>9.600000</td>\n",
       "      <td>7.100000</td>\n",
       "      <td>119.340000</td>\n",
       "      <td>0.000000</td>\n",
       "      <td>1801.000000</td>\n",
       "      <td>0.000000</td>\n",
       "      <td>38.900000</td>\n",
       "      <td>10.750000</td>\n",
       "      <td>8.200000</td>\n",
       "      <td>0.000000</td>\n",
       "      <td>...</td>\n",
       "      <td>13.710000</td>\n",
       "      <td>0.000000</td>\n",
       "      <td>7.000000</td>\n",
       "      <td>0.000000</td>\n",
       "      <td>1.000000</td>\n",
       "      <td>41.250000</td>\n",
       "      <td>0.000000</td>\n",
       "      <td>2.012093e+07</td>\n",
       "      <td>0.000000</td>\n",
       "      <td>0.000000</td>\n",
       "    </tr>\n",
       "    <tr>\n",
       "      <th>50%</th>\n",
       "      <td>11.150000</td>\n",
       "      <td>8.500000</td>\n",
       "      <td>163.380000</td>\n",
       "      <td>0.000000</td>\n",
       "      <td>2098.390000</td>\n",
       "      <td>0.000000</td>\n",
       "      <td>44.700000</td>\n",
       "      <td>16.000000</td>\n",
       "      <td>14.000000</td>\n",
       "      <td>0.000000</td>\n",
       "      <td>...</td>\n",
       "      <td>14.800000</td>\n",
       "      <td>0.000000</td>\n",
       "      <td>7.000000</td>\n",
       "      <td>0.000000</td>\n",
       "      <td>2.000000</td>\n",
       "      <td>60.000000</td>\n",
       "      <td>0.000000</td>\n",
       "      <td>2.017031e+07</td>\n",
       "      <td>0.000000</td>\n",
       "      <td>0.000000</td>\n",
       "    </tr>\n",
       "    <tr>\n",
       "      <th>75%</th>\n",
       "      <td>13.300000</td>\n",
       "      <td>9.600000</td>\n",
       "      <td>250.025000</td>\n",
       "      <td>0.000000</td>\n",
       "      <td>2423.100000</td>\n",
       "      <td>0.000000</td>\n",
       "      <td>51.200000</td>\n",
       "      <td>21.600000</td>\n",
       "      <td>21.100000</td>\n",
       "      <td>0.000000</td>\n",
       "      <td>...</td>\n",
       "      <td>15.900000</td>\n",
       "      <td>0.000000</td>\n",
       "      <td>8.000000</td>\n",
       "      <td>1.000000</td>\n",
       "      <td>4.000000</td>\n",
       "      <td>76.000000</td>\n",
       "      <td>0.000000</td>\n",
       "      <td>2.019071e+07</td>\n",
       "      <td>0.000000</td>\n",
       "      <td>1.000000</td>\n",
       "    </tr>\n",
       "    <tr>\n",
       "      <th>max</th>\n",
       "      <td>22.500000</td>\n",
       "      <td>101.000000</td>\n",
       "      <td>6089.430000</td>\n",
       "      <td>1.000000</td>\n",
       "      <td>4292.000000</td>\n",
       "      <td>3.000000</td>\n",
       "      <td>76.200000</td>\n",
       "      <td>45.500000</td>\n",
       "      <td>165.000000</td>\n",
       "      <td>1.000000</td>\n",
       "      <td>...</td>\n",
       "      <td>19.280000</td>\n",
       "      <td>1.000000</td>\n",
       "      <td>10.000000</td>\n",
       "      <td>1.000000</td>\n",
       "      <td>180.000000</td>\n",
       "      <td>220.000000</td>\n",
       "      <td>1.000000</td>\n",
       "      <td>2.020073e+07</td>\n",
       "      <td>1.000000</td>\n",
       "      <td>2.000000</td>\n",
       "    </tr>\n",
       "  </tbody>\n",
       "</table>\n",
       "<p>8 rows × 47 columns</p>\n",
       "</div>"
      ],
      "text/plain": [
       "       전방디스크높이(mm)  후방디스크높이(mm)        지방축적도  Instability      MF + ES  \\\n",
       "count   449.000000   449.000000   448.000000   449.000000   449.000000   \n",
       "mean     11.360290     8.484744   248.583638     0.033408  2148.423229   \n",
       "std       2.897193     4.891643   435.952080     0.179899   477.134032   \n",
       "min       1.500000     1.000000    53.100000     0.000000  1021.000000   \n",
       "25%       9.600000     7.100000   119.340000     0.000000  1801.000000   \n",
       "50%      11.150000     8.500000   163.380000     0.000000  2098.390000   \n",
       "75%      13.300000     9.600000   250.025000     0.000000  2423.100000   \n",
       "max      22.500000   101.000000  6089.430000     1.000000  4292.000000   \n",
       "\n",
       "       Modic change          PI          PT  Seg Angle(raw)  Vaccum disc  ...  \\\n",
       "count    449.000000  447.000000  447.000000      449.000000   449.000000  ...   \n",
       "mean       0.195991   45.574497   16.577852       15.271804     0.031180  ...   \n",
       "std        0.591519    9.699481    8.352402       11.278941     0.173999  ...   \n",
       "min        0.000000   11.900000   -6.300000       -3.400000     0.000000  ...   \n",
       "25%        0.000000   38.900000   10.750000        8.200000     0.000000  ...   \n",
       "50%        0.000000   44.700000   16.000000       14.000000     0.000000  ...   \n",
       "75%        0.000000   51.200000   21.600000       21.100000     0.000000  ...   \n",
       "max        3.000000   76.200000   45.500000      165.000000     1.000000  ...   \n",
       "\n",
       "          헤모글로빈수치     혈전합병증여부      환자통증정도        흡연여부     통증기간(월)        수술시간  \\\n",
       "count  449.000000  449.000000  449.000000  449.000000  448.000000  438.000000   \n",
       "mean    14.776526    0.002227    6.712695    0.256125    5.663728   61.543379   \n",
       "std      1.550824    0.047193    2.264801    0.436978   14.192309   27.144864   \n",
       "min      9.700000    0.000000    1.000000    0.000000    0.100000    5.000000   \n",
       "25%     13.710000    0.000000    7.000000    0.000000    1.000000   41.250000   \n",
       "50%     14.800000    0.000000    7.000000    0.000000    2.000000   60.000000   \n",
       "75%     15.900000    0.000000    8.000000    1.000000    4.000000   76.000000   \n",
       "max     19.280000    1.000000   10.000000    1.000000  180.000000  220.000000   \n",
       "\n",
       "           수술실패여부          수술일자        재발여부        비만여부  \n",
       "count  449.000000  4.490000e+02  449.000000  449.000000  \n",
       "mean     0.055679  2.015853e+07    0.135857    0.271715  \n",
       "std      0.229557  3.718350e+04    0.343019    0.492920  \n",
       "min      0.000000  2.009033e+07    0.000000   -1.000000  \n",
       "25%      0.000000  2.012093e+07    0.000000    0.000000  \n",
       "50%      0.000000  2.017031e+07    0.000000    0.000000  \n",
       "75%      0.000000  2.019071e+07    0.000000    1.000000  \n",
       "max      1.000000  2.020073e+07    1.000000    2.000000  \n",
       "\n",
       "[8 rows x 47 columns]"
      ]
     },
     "execution_count": 24,
     "metadata": {},
     "output_type": "execute_result"
    }
   ],
   "source": [
    "data_3 = data[data['직업'] == '사무직']\n",
    "data_3.describe()"
   ]
  },
  {
   "cell_type": "code",
   "execution_count": 25,
   "metadata": {},
   "outputs": [
    {
     "data": {
      "text/html": [
       "<div>\n",
       "<style scoped>\n",
       "    .dataframe tbody tr th:only-of-type {\n",
       "        vertical-align: middle;\n",
       "    }\n",
       "\n",
       "    .dataframe tbody tr th {\n",
       "        vertical-align: top;\n",
       "    }\n",
       "\n",
       "    .dataframe thead th {\n",
       "        text-align: right;\n",
       "    }\n",
       "</style>\n",
       "<table border=\"1\" class=\"dataframe\">\n",
       "  <thead>\n",
       "    <tr style=\"text-align: right;\">\n",
       "      <th></th>\n",
       "      <th>전방디스크높이(mm)</th>\n",
       "      <th>후방디스크높이(mm)</th>\n",
       "      <th>지방축적도</th>\n",
       "      <th>Instability</th>\n",
       "      <th>MF + ES</th>\n",
       "      <th>Modic change</th>\n",
       "      <th>PI</th>\n",
       "      <th>PT</th>\n",
       "      <th>Seg Angle(raw)</th>\n",
       "      <th>Vaccum disc</th>\n",
       "      <th>...</th>\n",
       "      <th>헤모글로빈수치</th>\n",
       "      <th>혈전합병증여부</th>\n",
       "      <th>환자통증정도</th>\n",
       "      <th>흡연여부</th>\n",
       "      <th>통증기간(월)</th>\n",
       "      <th>수술시간</th>\n",
       "      <th>수술실패여부</th>\n",
       "      <th>수술일자</th>\n",
       "      <th>재발여부</th>\n",
       "      <th>비만여부</th>\n",
       "    </tr>\n",
       "  </thead>\n",
       "  <tbody>\n",
       "    <tr>\n",
       "      <th>count</th>\n",
       "      <td>1445.000000</td>\n",
       "      <td>1445.000000</td>\n",
       "      <td>1443.000000</td>\n",
       "      <td>1445.000000</td>\n",
       "      <td>1445.000000</td>\n",
       "      <td>1445.000000</td>\n",
       "      <td>1443.000000</td>\n",
       "      <td>1443.000000</td>\n",
       "      <td>1444.000000</td>\n",
       "      <td>1445.000000</td>\n",
       "      <td>...</td>\n",
       "      <td>1444.000000</td>\n",
       "      <td>1445.000000</td>\n",
       "      <td>1445.000000</td>\n",
       "      <td>1445.000000</td>\n",
       "      <td>1442.000000</td>\n",
       "      <td>1402.000000</td>\n",
       "      <td>1445.000000</td>\n",
       "      <td>1.445000e+03</td>\n",
       "      <td>1445.000000</td>\n",
       "      <td>1445.000000</td>\n",
       "    </tr>\n",
       "    <tr>\n",
       "      <th>mean</th>\n",
       "      <td>11.389578</td>\n",
       "      <td>8.318782</td>\n",
       "      <td>239.332613</td>\n",
       "      <td>0.042907</td>\n",
       "      <td>2080.263308</td>\n",
       "      <td>0.262976</td>\n",
       "      <td>46.909356</td>\n",
       "      <td>16.253015</td>\n",
       "      <td>15.292950</td>\n",
       "      <td>0.064360</td>\n",
       "      <td>...</td>\n",
       "      <td>14.520374</td>\n",
       "      <td>0.002076</td>\n",
       "      <td>6.937716</td>\n",
       "      <td>0.204844</td>\n",
       "      <td>5.946983</td>\n",
       "      <td>62.229672</td>\n",
       "      <td>0.062284</td>\n",
       "      <td>2.016076e+07</td>\n",
       "      <td>0.114879</td>\n",
       "      <td>0.213841</td>\n",
       "    </tr>\n",
       "    <tr>\n",
       "      <th>std</th>\n",
       "      <td>2.839383</td>\n",
       "      <td>4.023137</td>\n",
       "      <td>448.174225</td>\n",
       "      <td>0.202717</td>\n",
       "      <td>470.486959</td>\n",
       "      <td>0.681202</td>\n",
       "      <td>25.449128</td>\n",
       "      <td>8.443958</td>\n",
       "      <td>10.150858</td>\n",
       "      <td>0.245478</td>\n",
       "      <td>...</td>\n",
       "      <td>1.546907</td>\n",
       "      <td>0.045533</td>\n",
       "      <td>2.011462</td>\n",
       "      <td>0.403728</td>\n",
       "      <td>18.088944</td>\n",
       "      <td>24.291856</td>\n",
       "      <td>0.241754</td>\n",
       "      <td>3.671459e+04</td>\n",
       "      <td>0.318986</td>\n",
       "      <td>0.462532</td>\n",
       "    </tr>\n",
       "    <tr>\n",
       "      <th>min</th>\n",
       "      <td>1.270000</td>\n",
       "      <td>1.000000</td>\n",
       "      <td>25.970000</td>\n",
       "      <td>0.000000</td>\n",
       "      <td>1016.800000</td>\n",
       "      <td>0.000000</td>\n",
       "      <td>14.000000</td>\n",
       "      <td>-10.600000</td>\n",
       "      <td>-27.400000</td>\n",
       "      <td>0.000000</td>\n",
       "      <td>...</td>\n",
       "      <td>7.000000</td>\n",
       "      <td>0.000000</td>\n",
       "      <td>1.000000</td>\n",
       "      <td>0.000000</td>\n",
       "      <td>0.000000</td>\n",
       "      <td>6.000000</td>\n",
       "      <td>0.000000</td>\n",
       "      <td>2.009012e+07</td>\n",
       "      <td>0.000000</td>\n",
       "      <td>-1.000000</td>\n",
       "    </tr>\n",
       "    <tr>\n",
       "      <th>25%</th>\n",
       "      <td>9.540000</td>\n",
       "      <td>7.060000</td>\n",
       "      <td>122.000000</td>\n",
       "      <td>0.000000</td>\n",
       "      <td>1744.200000</td>\n",
       "      <td>0.000000</td>\n",
       "      <td>38.600000</td>\n",
       "      <td>10.300000</td>\n",
       "      <td>9.100000</td>\n",
       "      <td>0.000000</td>\n",
       "      <td>...</td>\n",
       "      <td>13.400000</td>\n",
       "      <td>0.000000</td>\n",
       "      <td>7.000000</td>\n",
       "      <td>0.000000</td>\n",
       "      <td>1.000000</td>\n",
       "      <td>45.000000</td>\n",
       "      <td>0.000000</td>\n",
       "      <td>2.012112e+07</td>\n",
       "      <td>0.000000</td>\n",
       "      <td>0.000000</td>\n",
       "    </tr>\n",
       "    <tr>\n",
       "      <th>50%</th>\n",
       "      <td>11.300000</td>\n",
       "      <td>8.270000</td>\n",
       "      <td>170.200000</td>\n",
       "      <td>0.000000</td>\n",
       "      <td>2035.900000</td>\n",
       "      <td>0.000000</td>\n",
       "      <td>45.400000</td>\n",
       "      <td>15.600000</td>\n",
       "      <td>14.650000</td>\n",
       "      <td>0.000000</td>\n",
       "      <td>...</td>\n",
       "      <td>14.550000</td>\n",
       "      <td>0.000000</td>\n",
       "      <td>7.000000</td>\n",
       "      <td>0.000000</td>\n",
       "      <td>2.000000</td>\n",
       "      <td>60.000000</td>\n",
       "      <td>0.000000</td>\n",
       "      <td>2.019010e+07</td>\n",
       "      <td>0.000000</td>\n",
       "      <td>0.000000</td>\n",
       "    </tr>\n",
       "    <tr>\n",
       "      <th>75%</th>\n",
       "      <td>13.100000</td>\n",
       "      <td>9.500000</td>\n",
       "      <td>253.200000</td>\n",
       "      <td>0.000000</td>\n",
       "      <td>2356.300000</td>\n",
       "      <td>0.000000</td>\n",
       "      <td>52.100000</td>\n",
       "      <td>21.350000</td>\n",
       "      <td>21.100000</td>\n",
       "      <td>0.000000</td>\n",
       "      <td>...</td>\n",
       "      <td>15.600000</td>\n",
       "      <td>0.000000</td>\n",
       "      <td>8.000000</td>\n",
       "      <td>0.000000</td>\n",
       "      <td>4.000000</td>\n",
       "      <td>78.000000</td>\n",
       "      <td>0.000000</td>\n",
       "      <td>2.019062e+07</td>\n",
       "      <td>0.000000</td>\n",
       "      <td>0.000000</td>\n",
       "    </tr>\n",
       "    <tr>\n",
       "      <th>max</th>\n",
       "      <td>22.500000</td>\n",
       "      <td>101.000000</td>\n",
       "      <td>12113.470000</td>\n",
       "      <td>1.000000</td>\n",
       "      <td>5569.000000</td>\n",
       "      <td>3.000000</td>\n",
       "      <td>559.000000</td>\n",
       "      <td>48.700000</td>\n",
       "      <td>165.000000</td>\n",
       "      <td>1.000000</td>\n",
       "      <td>...</td>\n",
       "      <td>19.380000</td>\n",
       "      <td>1.000000</td>\n",
       "      <td>10.000000</td>\n",
       "      <td>1.000000</td>\n",
       "      <td>360.000000</td>\n",
       "      <td>190.000000</td>\n",
       "      <td>1.000000</td>\n",
       "      <td>2.020081e+07</td>\n",
       "      <td>1.000000</td>\n",
       "      <td>2.000000</td>\n",
       "    </tr>\n",
       "  </tbody>\n",
       "</table>\n",
       "<p>8 rows × 47 columns</p>\n",
       "</div>"
      ],
      "text/plain": [
       "       전방디스크높이(mm)  후방디스크높이(mm)         지방축적도  Instability      MF + ES  \\\n",
       "count  1445.000000  1445.000000   1443.000000  1445.000000  1445.000000   \n",
       "mean     11.389578     8.318782    239.332613     0.042907  2080.263308   \n",
       "std       2.839383     4.023137    448.174225     0.202717   470.486959   \n",
       "min       1.270000     1.000000     25.970000     0.000000  1016.800000   \n",
       "25%       9.540000     7.060000    122.000000     0.000000  1744.200000   \n",
       "50%      11.300000     8.270000    170.200000     0.000000  2035.900000   \n",
       "75%      13.100000     9.500000    253.200000     0.000000  2356.300000   \n",
       "max      22.500000   101.000000  12113.470000     1.000000  5569.000000   \n",
       "\n",
       "       Modic change           PI           PT  Seg Angle(raw)  Vaccum disc  \\\n",
       "count   1445.000000  1443.000000  1443.000000     1444.000000  1445.000000   \n",
       "mean       0.262976    46.909356    16.253015       15.292950     0.064360   \n",
       "std        0.681202    25.449128     8.443958       10.150858     0.245478   \n",
       "min        0.000000    14.000000   -10.600000      -27.400000     0.000000   \n",
       "25%        0.000000    38.600000    10.300000        9.100000     0.000000   \n",
       "50%        0.000000    45.400000    15.600000       14.650000     0.000000   \n",
       "75%        0.000000    52.100000    21.350000       21.100000     0.000000   \n",
       "max        3.000000   559.000000    48.700000      165.000000     1.000000   \n",
       "\n",
       "       ...      헤모글로빈수치      혈전합병증여부       환자통증정도         흡연여부      통증기간(월)  \\\n",
       "count  ...  1444.000000  1445.000000  1445.000000  1445.000000  1442.000000   \n",
       "mean   ...    14.520374     0.002076     6.937716     0.204844     5.946983   \n",
       "std    ...     1.546907     0.045533     2.011462     0.403728    18.088944   \n",
       "min    ...     7.000000     0.000000     1.000000     0.000000     0.000000   \n",
       "25%    ...    13.400000     0.000000     7.000000     0.000000     1.000000   \n",
       "50%    ...    14.550000     0.000000     7.000000     0.000000     2.000000   \n",
       "75%    ...    15.600000     0.000000     8.000000     0.000000     4.000000   \n",
       "max    ...    19.380000     1.000000    10.000000     1.000000   360.000000   \n",
       "\n",
       "              수술시간       수술실패여부          수술일자         재발여부         비만여부  \n",
       "count  1402.000000  1445.000000  1.445000e+03  1445.000000  1445.000000  \n",
       "mean     62.229672     0.062284  2.016076e+07     0.114879     0.213841  \n",
       "std      24.291856     0.241754  3.671459e+04     0.318986     0.462532  \n",
       "min       6.000000     0.000000  2.009012e+07     0.000000    -1.000000  \n",
       "25%      45.000000     0.000000  2.012112e+07     0.000000     0.000000  \n",
       "50%      60.000000     0.000000  2.019010e+07     0.000000     0.000000  \n",
       "75%      78.000000     0.000000  2.019062e+07     0.000000     0.000000  \n",
       "max     190.000000     1.000000  2.020081e+07     1.000000     2.000000  \n",
       "\n",
       "[8 rows x 47 columns]"
      ]
     },
     "execution_count": 25,
     "metadata": {},
     "output_type": "execute_result"
    }
   ],
   "source": [
    "data_4 = data.drop(index = data[data['직업'] == '사무직'].index)\n",
    "data_4.describe()"
   ]
  },
  {
   "cell_type": "code",
   "execution_count": 24,
   "metadata": {},
   "outputs": [
    {
     "data": {
      "text/plain": [
       "<AxesSubplot:xlabel='입원기간', ylabel='직업'>"
      ]
     },
     "execution_count": 24,
     "metadata": {},
     "output_type": "execute_result"
    },
    {
     "data": {
      "image/png": "[encoded data removed]",
      "text/plain": [
       "<Figure size 864x360 with 1 Axes>"
      ]
     },
     "metadata": {
      "needs_background": "light"
     },
     "output_type": "display_data"
    }
   ],
   "source": [
    "plt.figure(figsize = (12, 5))\n",
    "sns.barplot(data = data, y = '직업', x = '입원기간')"
   ]
  },
  {
   "cell_type": "code",
   "execution_count": 25,
   "metadata": {},
   "outputs": [
    {
     "data": {
      "text/plain": [
       "<AxesSubplot:xlabel='비만여부', ylabel='직업'>"
      ]
     },
     "execution_count": 25,
     "metadata": {},
     "output_type": "execute_result"
    },
    {
     "data": {
      "image/png": "[encoded data removed]",
      "text/plain": [
       "<Figure size 864x360 with 1 Axes>"
      ]
     },
     "metadata": {
      "needs_background": "light"
     },
     "output_type": "display_data"
    }
   ],
   "source": [
    "plt.figure(figsize = (12, 5))\n",
    "sns.barplot(data = data, y = '직업', x = '비만여부')"
   ]
  },
  {
   "cell_type": "code",
   "execution_count": 26,
   "metadata": {},
   "outputs": [
    {
     "data": {
      "text/plain": [
       "<AxesSubplot:xlabel='과거수술횟수', ylabel='직업'>"
      ]
     },
     "execution_count": 26,
     "metadata": {},
     "output_type": "execute_result"
    },
    {
     "data": {
      "image/png": "[encoded data removed]",
      "text/plain": [
       "<Figure size 864x360 with 1 Axes>"
      ]
     },
     "metadata": {
      "needs_background": "light"
     },
     "output_type": "display_data"
    }
   ],
   "source": [
    "plt.figure(figsize = (12, 5))\n",
    "sns.barplot(data = data, y = '직업', x = '과거수술횟수')"
   ]
  },
  {
   "cell_type": "markdown",
   "metadata": {},
   "source": [
    "# 기타"
   ]
  },
  {
   "cell_type": "code",
   "execution_count": 26,
   "metadata": {},
   "outputs": [
    {
     "data": {
      "text/html": [
       "<div>\n",
       "<style scoped>\n",
       "    .dataframe tbody tr th:only-of-type {\n",
       "        vertical-align: middle;\n",
       "    }\n",
       "\n",
       "    .dataframe tbody tr th {\n",
       "        vertical-align: top;\n",
       "    }\n",
       "\n",
       "    .dataframe thead th {\n",
       "        text-align: right;\n",
       "    }\n",
       "</style>\n",
       "<table border=\"1\" class=\"dataframe\">\n",
       "  <thead>\n",
       "    <tr style=\"text-align: right;\">\n",
       "      <th></th>\n",
       "      <th>전방디스크높이(mm)</th>\n",
       "      <th>후방디스크높이(mm)</th>\n",
       "      <th>비만여부</th>\n",
       "      <th>지방축적도</th>\n",
       "      <th>연령</th>\n",
       "      <th>체중</th>\n",
       "      <th>신장</th>\n",
       "    </tr>\n",
       "  </thead>\n",
       "  <tbody>\n",
       "    <tr>\n",
       "      <th>0</th>\n",
       "      <td>16.1</td>\n",
       "      <td>12.3</td>\n",
       "      <td>0</td>\n",
       "      <td>282.3</td>\n",
       "      <td>66</td>\n",
       "      <td>60.3</td>\n",
       "      <td>163</td>\n",
       "    </tr>\n",
       "    <tr>\n",
       "      <th>1</th>\n",
       "      <td>13.7</td>\n",
       "      <td>6.4</td>\n",
       "      <td>0</td>\n",
       "      <td>177.3</td>\n",
       "      <td>47</td>\n",
       "      <td>71.7</td>\n",
       "      <td>171</td>\n",
       "    </tr>\n",
       "    <tr>\n",
       "      <th>2</th>\n",
       "      <td>13.6</td>\n",
       "      <td>7.4</td>\n",
       "      <td>0</td>\n",
       "      <td>256.8</td>\n",
       "      <td>39</td>\n",
       "      <td>77.1</td>\n",
       "      <td>178</td>\n",
       "    </tr>\n",
       "    <tr>\n",
       "      <th>3</th>\n",
       "      <td>10.6</td>\n",
       "      <td>7.3</td>\n",
       "      <td>0</td>\n",
       "      <td>250.1</td>\n",
       "      <td>40</td>\n",
       "      <td>74.2</td>\n",
       "      <td>174</td>\n",
       "    </tr>\n",
       "    <tr>\n",
       "      <th>4</th>\n",
       "      <td>17.1</td>\n",
       "      <td>8.1</td>\n",
       "      <td>0</td>\n",
       "      <td>232.2</td>\n",
       "      <td>42</td>\n",
       "      <td>80.7</td>\n",
       "      <td>183</td>\n",
       "    </tr>\n",
       "    <tr>\n",
       "      <th>...</th>\n",
       "      <td>...</td>\n",
       "      <td>...</td>\n",
       "      <td>...</td>\n",
       "      <td>...</td>\n",
       "      <td>...</td>\n",
       "      <td>...</td>\n",
       "      <td>...</td>\n",
       "    </tr>\n",
       "    <tr>\n",
       "      <th>1889</th>\n",
       "      <td>17.0</td>\n",
       "      <td>10.7</td>\n",
       "      <td>1</td>\n",
       "      <td>237.5</td>\n",
       "      <td>59</td>\n",
       "      <td>64.0</td>\n",
       "      <td>157</td>\n",
       "    </tr>\n",
       "    <tr>\n",
       "      <th>1890</th>\n",
       "      <td>9.4</td>\n",
       "      <td>8.2</td>\n",
       "      <td>0</td>\n",
       "      <td>288.0</td>\n",
       "      <td>42</td>\n",
       "      <td>59.0</td>\n",
       "      <td>157</td>\n",
       "    </tr>\n",
       "    <tr>\n",
       "      <th>1891</th>\n",
       "      <td>13.5</td>\n",
       "      <td>5.5</td>\n",
       "      <td>1</td>\n",
       "      <td>148.5</td>\n",
       "      <td>61</td>\n",
       "      <td>70.0</td>\n",
       "      <td>167</td>\n",
       "    </tr>\n",
       "    <tr>\n",
       "      <th>1892</th>\n",
       "      <td>14.0</td>\n",
       "      <td>10.0</td>\n",
       "      <td>0</td>\n",
       "      <td>89.0</td>\n",
       "      <td>29</td>\n",
       "      <td>77.0</td>\n",
       "      <td>177</td>\n",
       "    </tr>\n",
       "    <tr>\n",
       "      <th>1893</th>\n",
       "      <td>16.1</td>\n",
       "      <td>9.5</td>\n",
       "      <td>-1</td>\n",
       "      <td>251.4</td>\n",
       "      <td>30</td>\n",
       "      <td>49.0</td>\n",
       "      <td>168</td>\n",
       "    </tr>\n",
       "  </tbody>\n",
       "</table>\n",
       "<p>1894 rows × 7 columns</p>\n",
       "</div>"
      ],
      "text/plain": [
       "      전방디스크높이(mm)  후방디스크높이(mm)  비만여부  지방축적도  연령    체중   신장\n",
       "0            16.1         12.3     0  282.3  66  60.3  163\n",
       "1            13.7          6.4     0  177.3  47  71.7  171\n",
       "2            13.6          7.4     0  256.8  39  77.1  178\n",
       "3            10.6          7.3     0  250.1  40  74.2  174\n",
       "4            17.1          8.1     0  232.2  42  80.7  183\n",
       "...           ...          ...   ...    ...  ..   ...  ...\n",
       "1889         17.0         10.7     1  237.5  59  64.0  157\n",
       "1890          9.4          8.2     0  288.0  42  59.0  157\n",
       "1891         13.5          5.5     1  148.5  61  70.0  167\n",
       "1892         14.0         10.0     0   89.0  29  77.0  177\n",
       "1893         16.1          9.5    -1  251.4  30  49.0  168\n",
       "\n",
       "[1894 rows x 7 columns]"
      ]
     },
     "execution_count": 26,
     "metadata": {},
     "output_type": "execute_result"
    }
   ],
   "source": [
    "data_2 = ['전방디스크높이(mm)','후방디스크높이(mm)','비만여부','지방축적도','연령','체중','신장']\n",
    "data_3 = data[data_2].fillna(method='backfill')\n",
    "data_3"
   ]
  },
  {
   "cell_type": "markdown",
   "metadata": {},
   "source": [
    "# 모델링"
   ]
  },
  {
   "cell_type": "markdown",
   "metadata": {},
   "source": [
    "## decisiontree"
   ]
  },
  {
   "cell_type": "code",
   "execution_count": 27,
   "metadata": {},
   "outputs": [
    {
     "data": {
      "text/plain": [
       "DecisionTreeClassifier(max_depth=1)"
      ]
     },
     "execution_count": 27,
     "metadata": {},
     "output_type": "execute_result"
    }
   ],
   "source": [
    "from sklearn.model_selection import train_test_split\n",
    "from sklearn.tree import DecisionTreeClassifier\n",
    "\n",
    "X = data_3\n",
    "Y = data['재발여부'].ravel()\n",
    "\n",
    "X_train, X_test, Y_train, Y_test = train_test_split(\n",
    "    X,Y, test_size = 0.3, random_state = 0)\n",
    "\n",
    "model = DecisionTreeClassifier(max_depth = 1 )\n",
    "model.fit(X_train, Y_train)"
   ]
  },
  {
   "cell_type": "code",
   "execution_count": 28,
   "metadata": {},
   "outputs": [
    {
     "data": {
      "image/png": "[encoded data removed]",
      "text/plain": [
       "<Figure size 432x288 with 1 Axes>"
      ]
     },
     "metadata": {
      "needs_background": "light"
     },
     "output_type": "display_data"
    }
   ],
   "source": [
    "# depth에 따른 정확도\n",
    "train_score=[]\n",
    "test_score=[]\n",
    "for i in range(1,21):\n",
    "    \n",
    "    model=DecisionTreeClassifier(max_depth=i,random_state=4)\n",
    "    model.fit(X_train,Y_train)\n",
    "    train_score.append(model.score(X_train,Y_train))\n",
    "    test_score.append(model.score(X_test,Y_test))\n",
    "plt.figure()\n",
    "plt.title('score for depths')\n",
    "plt.plot(range(1,21),train_score)\n",
    "plt.plot(range(1,21),test_score)\n",
    "plt.xticks(range(1,21))\n",
    "plt.show()"
   ]
  },
  {
   "cell_type": "code",
   "execution_count": 29,
   "metadata": {},
   "outputs": [
    {
     "name": "stdout",
     "output_type": "stream",
     "text": [
      "훈련 정확도 : 0.8837735849056604\n",
      "테스트 정확도 : 0.8717047451669596\n"
     ]
    }
   ],
   "source": [
    "model_1=DecisionTreeClassifier(max_depth=1,random_state=4)\n",
    "model_1.fit(X_train, Y_train)\n",
    "train_accuracy = model_1.score(X_train, Y_train)\n",
    "test_accuracy = model_1.score(X_test, Y_test)\n",
    "print(f'훈련 정확도 : {train_accuracy}')\n",
    "print(f'테스트 정확도 : {test_accuracy}')"
   ]
  },
  {
   "cell_type": "code",
   "execution_count": 30,
   "metadata": {},
   "outputs": [
    {
     "data": {
      "text/plain": [
       "array([0.22427564, 0.18909937, 0.01414848, 0.21353339, 0.12167197,\n",
       "       0.16359858, 0.07367257])"
      ]
     },
     "execution_count": 30,
     "metadata": {},
     "output_type": "execute_result"
    }
   ],
   "source": [
    "import matplotlib.pyplot as plt\n",
    "import numpy as np\n",
    "\n",
    "importance = model.feature_importances_\n",
    "importance"
   ]
  },
  {
   "cell_type": "code",
   "execution_count": 31,
   "metadata": {},
   "outputs": [
    {
     "data": {
      "image/png": "[encoded data removed]",
      "text/plain": [
       "<Figure size 432x288 with 1 Axes>"
      ]
     },
     "metadata": {
      "needs_background": "light"
     },
     "output_type": "display_data"
    }
   ],
   "source": [
    "plt.figure()\n",
    "plt.title('feature importance')\n",
    "plt.bar(range(len(importance)), importance)\n",
    "plt.xticks(range(len(importance)), X.columns, rotation = 90)\n",
    "plt.show()"
   ]
  },
  {
   "cell_type": "markdown",
   "metadata": {},
   "source": [
    "## GradientBoosting"
   ]
  },
  {
   "cell_type": "code",
   "execution_count": 32,
   "metadata": {},
   "outputs": [
    {
     "data": {
      "text/plain": [
       "GradientBoostingClassifier(max_depth=1)"
      ]
     },
     "execution_count": 32,
     "metadata": {},
     "output_type": "execute_result"
    }
   ],
   "source": [
    "from sklearn.model_selection import train_test_split\n",
    "from sklearn.ensemble import GradientBoostingClassifier\n",
    "\n",
    "X = data_3\n",
    "Y = data['재발여부'].ravel()\n",
    "\n",
    "X_train, X_test, Y_train, Y_test = train_test_split(\n",
    "    X,Y, test_size = 0.3, random_state = 0)\n",
    "\n",
    "model = GradientBoostingClassifier(max_depth = 1 )\n",
    "model.fit(X_train, Y_train)"
   ]
  },
  {
   "cell_type": "code",
   "execution_count": 33,
   "metadata": {},
   "outputs": [
    {
     "data": {
      "image/png": "[encoded data removed]",
      "text/plain": [
       "<Figure size 432x288 with 1 Axes>"
      ]
     },
     "metadata": {
      "needs_background": "light"
     },
     "output_type": "display_data"
    }
   ],
   "source": [
    "train_score=[]\n",
    "test_score=[]\n",
    "for i in range(1,21):\n",
    "    \n",
    "    model=GradientBoostingClassifier(max_depth=i,random_state=4)\n",
    "    model.fit(X_train,Y_train)\n",
    "    train_score.append(model.score(X_train,Y_train))\n",
    "    test_score.append(model.score(X_test,Y_test))\n",
    "plt.figure()\n",
    "plt.title('score for depths')\n",
    "plt.plot(range(1,21),train_score)\n",
    "plt.plot(range(1,21),test_score)\n",
    "plt.xticks(range(1,21))\n",
    "plt.show()"
   ]
  },
  {
   "cell_type": "code",
   "execution_count": 34,
   "metadata": {},
   "outputs": [
    {
     "name": "stdout",
     "output_type": "stream",
     "text": [
      "훈련 정확도 : 0.9562264150943396\n",
      "테스트 정확도 : 0.8875219683655536\n"
     ]
    }
   ],
   "source": [
    "model_1=GradientBoostingClassifier(max_depth=4,random_state=4)\n",
    "model_1.fit(X_train, Y_train)\n",
    "train_accuracy = model_1.score(X_train, Y_train)\n",
    "test_accuracy = model_1.score(X_test, Y_test)\n",
    "print(f'훈련 정확도 : {train_accuracy}')\n",
    "print(f'테스트 정확도 : {test_accuracy}')"
   ]
  },
  {
   "cell_type": "code",
   "execution_count": 35,
   "metadata": {},
   "outputs": [
    {
     "data": {
      "text/plain": [
       "array([0.20998112, 0.19507439, 0.0101609 , 0.21247607, 0.12655726,\n",
       "       0.16426253, 0.08148772])"
      ]
     },
     "execution_count": 35,
     "metadata": {},
     "output_type": "execute_result"
    }
   ],
   "source": [
    "import matplotlib.pyplot as plt\n",
    "import numpy as np\n",
    "\n",
    "importance = model.feature_importances_\n",
    "importance"
   ]
  },
  {
   "cell_type": "code",
   "execution_count": 36,
   "metadata": {},
   "outputs": [
    {
     "data": {
      "image/png": "[encoded data removed]",
      "text/plain": [
       "<Figure size 432x288 with 1 Axes>"
      ]
     },
     "metadata": {
      "needs_background": "light"
     },
     "output_type": "display_data"
    }
   ],
   "source": [
    "plt.figure()\n",
    "plt.title('feature importance')\n",
    "plt.bar(range(len(importance)), importance)\n",
    "plt.xticks(range(len(importance)), X.columns, rotation = 90)\n",
    "plt.show()"
   ]
  },
  {
   "cell_type": "code",
   "execution_count": 37,
   "metadata": {},
   "outputs": [],
   "source": [
    "from sklearn.model_selection import train_test_split\n",
    "x_train,x_test,y_train,y_test = train_test_split(X,Y, random_state = 0)"
   ]
  },
  {
   "cell_type": "markdown",
   "metadata": {},
   "source": [
    "## RandomForest"
   ]
  },
  {
   "cell_type": "code",
   "execution_count": 38,
   "metadata": {},
   "outputs": [],
   "source": [
    "from sklearn.preprocessing import StandardScaler\n",
    "std_scale = StandardScaler()\n",
    "std_scale.fit(x_train)\n",
    "x_train_std = std_scale.transform(x_train)\n",
    "x_test_std = std_scale.transform(x_test)\n",
    "from sklearn.ensemble import RandomForestClassifier\n",
    "clf_rf = RandomForestClassifier(max_depth = 10, random_state = 0)\n",
    "clf_rf.fit(x_train_std, y_train)\n",
    "pred_rf =clf_rf.predict(x_test_std)"
   ]
  },
  {
   "cell_type": "code",
   "execution_count": 39,
   "metadata": {},
   "outputs": [
    {
     "data": {
      "image/png": "[encoded data removed]",
      "text/plain": [
       "<Figure size 432x288 with 1 Axes>"
      ]
     },
     "metadata": {
      "needs_background": "light"
     },
     "output_type": "display_data"
    }
   ],
   "source": [
    "train_score=[]\n",
    "test_score=[]\n",
    "for i in range(1,21):\n",
    "    model=RandomForestClassifier(max_depth=i,random_state=4)\n",
    "    model.fit(x_train,y_train)\n",
    "    train_score.append(model.score(x_train,y_train))\n",
    "    test_score.append(model.score(x_test,y_test))\n",
    "plt.figure()\n",
    "plt.title('score for depths')\n",
    "plt.plot(range(1,21),train_score)\n",
    "plt.plot(range(1,21),test_score)\n",
    "plt.xticks(range(1,21))\n",
    "plt.show()"
   ]
  },
  {
   "cell_type": "code",
   "execution_count": 40,
   "metadata": {},
   "outputs": [
    {
     "name": "stdout",
     "output_type": "stream",
     "text": [
      "훈련 정확도는 : 0.8838028169014085, 테스트 정확도는 0.879746835443038 입니다.\n"
     ]
    }
   ],
   "source": [
    "model_3=RandomForestClassifier(max_depth=3,random_state=4)\n",
    "model_3.fit(x_train,y_train)\n",
    "train_accuracy_3 = model_3.score(x_train, y_train)\n",
    "test_accuracy_3 = model_3.score(x_test, y_test)\n",
    "print(f'훈련 정확도는 : {train_accuracy_3}, 테스트 정확도는 {test_accuracy_3} 입니다.')"
   ]
  },
  {
   "cell_type": "code",
   "execution_count": 41,
   "metadata": {},
   "outputs": [
    {
     "data": {
      "text/html": [
       "<div>\n",
       "<style scoped>\n",
       "    .dataframe tbody tr th:only-of-type {\n",
       "        vertical-align: middle;\n",
       "    }\n",
       "\n",
       "    .dataframe tbody tr th {\n",
       "        vertical-align: top;\n",
       "    }\n",
       "\n",
       "    .dataframe thead th {\n",
       "        text-align: right;\n",
       "    }\n",
       "</style>\n",
       "<table border=\"1\" class=\"dataframe\">\n",
       "  <thead>\n",
       "    <tr style=\"text-align: right;\">\n",
       "      <th></th>\n",
       "      <th>재발여부</th>\n",
       "      <th>전방디스크높이(mm)</th>\n",
       "      <th>후방디스크높이(mm)</th>\n",
       "      <th>비만여부</th>\n",
       "      <th>지방축적도</th>\n",
       "      <th>연령</th>\n",
       "      <th>체중</th>\n",
       "      <th>신장</th>\n",
       "    </tr>\n",
       "  </thead>\n",
       "  <tbody>\n",
       "    <tr>\n",
       "      <th>0</th>\n",
       "      <td>0</td>\n",
       "      <td>16.1</td>\n",
       "      <td>12.3</td>\n",
       "      <td>0</td>\n",
       "      <td>282.3</td>\n",
       "      <td>66</td>\n",
       "      <td>60.3</td>\n",
       "      <td>163</td>\n",
       "    </tr>\n",
       "    <tr>\n",
       "      <th>1</th>\n",
       "      <td>0</td>\n",
       "      <td>13.7</td>\n",
       "      <td>6.4</td>\n",
       "      <td>0</td>\n",
       "      <td>177.3</td>\n",
       "      <td>47</td>\n",
       "      <td>71.7</td>\n",
       "      <td>171</td>\n",
       "    </tr>\n",
       "    <tr>\n",
       "      <th>2</th>\n",
       "      <td>0</td>\n",
       "      <td>13.6</td>\n",
       "      <td>7.4</td>\n",
       "      <td>0</td>\n",
       "      <td>256.8</td>\n",
       "      <td>39</td>\n",
       "      <td>77.1</td>\n",
       "      <td>178</td>\n",
       "    </tr>\n",
       "    <tr>\n",
       "      <th>3</th>\n",
       "      <td>0</td>\n",
       "      <td>10.6</td>\n",
       "      <td>7.3</td>\n",
       "      <td>0</td>\n",
       "      <td>250.1</td>\n",
       "      <td>40</td>\n",
       "      <td>74.2</td>\n",
       "      <td>174</td>\n",
       "    </tr>\n",
       "    <tr>\n",
       "      <th>4</th>\n",
       "      <td>0</td>\n",
       "      <td>17.1</td>\n",
       "      <td>8.1</td>\n",
       "      <td>0</td>\n",
       "      <td>232.2</td>\n",
       "      <td>42</td>\n",
       "      <td>80.7</td>\n",
       "      <td>183</td>\n",
       "    </tr>\n",
       "    <tr>\n",
       "      <th>...</th>\n",
       "      <td>...</td>\n",
       "      <td>...</td>\n",
       "      <td>...</td>\n",
       "      <td>...</td>\n",
       "      <td>...</td>\n",
       "      <td>...</td>\n",
       "      <td>...</td>\n",
       "      <td>...</td>\n",
       "    </tr>\n",
       "    <tr>\n",
       "      <th>1889</th>\n",
       "      <td>0</td>\n",
       "      <td>17.0</td>\n",
       "      <td>10.7</td>\n",
       "      <td>1</td>\n",
       "      <td>237.5</td>\n",
       "      <td>59</td>\n",
       "      <td>64.0</td>\n",
       "      <td>157</td>\n",
       "    </tr>\n",
       "    <tr>\n",
       "      <th>1890</th>\n",
       "      <td>0</td>\n",
       "      <td>9.4</td>\n",
       "      <td>8.2</td>\n",
       "      <td>0</td>\n",
       "      <td>288.0</td>\n",
       "      <td>42</td>\n",
       "      <td>59.0</td>\n",
       "      <td>157</td>\n",
       "    </tr>\n",
       "    <tr>\n",
       "      <th>1891</th>\n",
       "      <td>0</td>\n",
       "      <td>13.5</td>\n",
       "      <td>5.5</td>\n",
       "      <td>1</td>\n",
       "      <td>148.5</td>\n",
       "      <td>61</td>\n",
       "      <td>70.0</td>\n",
       "      <td>167</td>\n",
       "    </tr>\n",
       "    <tr>\n",
       "      <th>1892</th>\n",
       "      <td>0</td>\n",
       "      <td>14.0</td>\n",
       "      <td>10.0</td>\n",
       "      <td>0</td>\n",
       "      <td>89.0</td>\n",
       "      <td>29</td>\n",
       "      <td>77.0</td>\n",
       "      <td>177</td>\n",
       "    </tr>\n",
       "    <tr>\n",
       "      <th>1893</th>\n",
       "      <td>0</td>\n",
       "      <td>16.1</td>\n",
       "      <td>9.5</td>\n",
       "      <td>-1</td>\n",
       "      <td>251.4</td>\n",
       "      <td>30</td>\n",
       "      <td>49.0</td>\n",
       "      <td>168</td>\n",
       "    </tr>\n",
       "  </tbody>\n",
       "</table>\n",
       "<p>1894 rows × 8 columns</p>\n",
       "</div>"
      ],
      "text/plain": [
       "      재발여부  전방디스크높이(mm)  후방디스크높이(mm)  비만여부  지방축적도  연령    체중   신장\n",
       "0        0         16.1         12.3     0  282.3  66  60.3  163\n",
       "1        0         13.7          6.4     0  177.3  47  71.7  171\n",
       "2        0         13.6          7.4     0  256.8  39  77.1  178\n",
       "3        0         10.6          7.3     0  250.1  40  74.2  174\n",
       "4        0         17.1          8.1     0  232.2  42  80.7  183\n",
       "...    ...          ...          ...   ...    ...  ..   ...  ...\n",
       "1889     0         17.0         10.7     1  237.5  59  64.0  157\n",
       "1890     0          9.4          8.2     0  288.0  42  59.0  157\n",
       "1891     0         13.5          5.5     1  148.5  61  70.0  167\n",
       "1892     0         14.0         10.0     0   89.0  29  77.0  177\n",
       "1893     0         16.1          9.5    -1  251.4  30  49.0  168\n",
       "\n",
       "[1894 rows x 8 columns]"
      ]
     },
     "execution_count": 41,
     "metadata": {},
     "output_type": "execute_result"
    }
   ],
   "source": [
    "data_4 = ['재발여부','전방디스크높이(mm)','후방디스크높이(mm)','비만여부','지방축적도','연령','체중','신장']\n",
    "data_5 = data[data_4].fillna(method='backfill')\n",
    "data_5"
   ]
  },
  {
   "cell_type": "markdown",
   "metadata": {},
   "source": [
    "## kmeans"
   ]
  },
  {
   "cell_type": "code",
   "execution_count": 42,
   "metadata": {},
   "outputs": [],
   "source": [
    "from sklearn.cluster import KMeans\n",
    "from sklearn.preprocessing import MinMaxScaler\n",
    "\n",
    "# 스케일 변환\n",
    "scaler = MinMaxScaler()\n",
    "data_5_std = scaler.fit_transform(data_5)\n",
    "\n",
    "# 군집\n",
    "kmeans = KMeans(n_clusters = 2)\n",
    "kmeans.fit(data_5_std)\n",
    "\n",
    "# 생성 된 클러스터를 데이터 프레임에 넣습니다.\n",
    "clusters = kmeans.labels_\n",
    "data_5.copy().loc[:, 'cluster'] = clusters"
   ]
  },
  {
   "cell_type": "code",
   "execution_count": 43,
   "metadata": {},
   "outputs": [
    {
     "data": {
      "text/plain": [
       "PCA(n_components=2)"
      ]
     },
     "execution_count": 43,
     "metadata": {},
     "output_type": "execute_result"
    }
   ],
   "source": [
    "from sklearn.decomposition import PCA\n",
    "pca = PCA(n_components=2) #2차원으로 변환하라는 코딩\n",
    "pca.fit(data_5_std)\n"
   ]
  },
  {
   "cell_type": "code",
   "execution_count": 44,
   "metadata": {},
   "outputs": [
    {
     "data": {
      "text/html": [
       "<div>\n",
       "<style scoped>\n",
       "    .dataframe tbody tr th:only-of-type {\n",
       "        vertical-align: middle;\n",
       "    }\n",
       "\n",
       "    .dataframe tbody tr th {\n",
       "        vertical-align: top;\n",
       "    }\n",
       "\n",
       "    .dataframe thead th {\n",
       "        text-align: right;\n",
       "    }\n",
       "</style>\n",
       "<table border=\"1\" class=\"dataframe\">\n",
       "  <thead>\n",
       "    <tr style=\"text-align: right;\">\n",
       "      <th></th>\n",
       "      <th>X</th>\n",
       "      <th>Y</th>\n",
       "      <th>cluster</th>\n",
       "    </tr>\n",
       "  </thead>\n",
       "  <tbody>\n",
       "    <tr>\n",
       "      <th>0</th>\n",
       "      <td>-0.118938</td>\n",
       "      <td>0.372937</td>\n",
       "      <td>0</td>\n",
       "    </tr>\n",
       "  </tbody>\n",
       "</table>\n",
       "</div>"
      ],
      "text/plain": [
       "          X         Y  cluster\n",
       "0 -0.118938  0.372937        0"
      ]
     },
     "execution_count": 44,
     "metadata": {},
     "output_type": "execute_result"
    }
   ],
   "source": [
    "pca_df = pd.DataFrame(pca.transform(data_5_std), columns = ['X','Y'])\n",
    "pca_df.loc[:,'cluster'] = clusters\n",
    "pca_df.head(1)"
   ]
  },
  {
   "cell_type": "code",
   "execution_count": 45,
   "metadata": {},
   "outputs": [
    {
     "data": {
      "text/plain": [
       "<AxesSubplot:xlabel='X', ylabel='Y'>"
      ]
     },
     "execution_count": 45,
     "metadata": {},
     "output_type": "execute_result"
    },
    {
     "name": "stderr",
     "output_type": "stream",
     "text": [
      "c:\\ProgramData\\Anaconda3\\lib\\site-packages\\IPython\\core\\pylabtools.py:151: UserWarning: Glyph 8722 (\\N{MINUS SIGN}) missing from current font.\n",
      "  fig.canvas.print_figure(bytes_io, **kw)\n"
     ]
    },
    {
     "data": {
      "image/png": "[encoded data removed]",
      "text/plain": [
       "<Figure size 432x288 with 1 Axes>"
      ]
     },
     "metadata": {
      "needs_background": "light"
     },
     "output_type": "display_data"
    }
   ],
   "source": [
    "import seaborn as sns\n",
    "sns.scatterplot(data = pca_df, x = 'X', y = 'Y', hue = 'cluster')"
   ]
  },
  {
   "cell_type": "markdown",
   "metadata": {},
   "source": [
    "## 직업"
   ]
  },
  {
   "cell_type": "code",
   "execution_count": 46,
   "metadata": {},
   "outputs": [
    {
     "data": {
      "text/html": [
       "<div>\n",
       "<style scoped>\n",
       "    .dataframe tbody tr th:only-of-type {\n",
       "        vertical-align: middle;\n",
       "    }\n",
       "\n",
       "    .dataframe tbody tr th {\n",
       "        vertical-align: top;\n",
       "    }\n",
       "\n",
       "    .dataframe thead th {\n",
       "        text-align: right;\n",
       "    }\n",
       "</style>\n",
       "<table border=\"1\" class=\"dataframe\">\n",
       "  <thead>\n",
       "    <tr style=\"text-align: right;\">\n",
       "      <th></th>\n",
       "      <th>전방디스크높이(mm)</th>\n",
       "      <th>후방디스크높이(mm)</th>\n",
       "      <th>비만여부</th>\n",
       "      <th>지방축적도</th>\n",
       "      <th>연령</th>\n",
       "      <th>체중</th>\n",
       "      <th>신장</th>\n",
       "      <th>직업_0</th>\n",
       "      <th>직업_건설업</th>\n",
       "      <th>직업_공무원</th>\n",
       "      <th>...</th>\n",
       "      <th>직업_사무직</th>\n",
       "      <th>직업_사업가</th>\n",
       "      <th>직업_예술가</th>\n",
       "      <th>직업_운동선수</th>\n",
       "      <th>직업_운수업</th>\n",
       "      <th>직업_의료직</th>\n",
       "      <th>직업_자영업</th>\n",
       "      <th>직업_주부</th>\n",
       "      <th>직업_특수전문직</th>\n",
       "      <th>직업_학생</th>\n",
       "    </tr>\n",
       "  </thead>\n",
       "  <tbody>\n",
       "    <tr>\n",
       "      <th>0</th>\n",
       "      <td>16.1</td>\n",
       "      <td>12.3</td>\n",
       "      <td>0</td>\n",
       "      <td>282.3</td>\n",
       "      <td>66</td>\n",
       "      <td>60.3</td>\n",
       "      <td>163</td>\n",
       "      <td>0</td>\n",
       "      <td>0</td>\n",
       "      <td>0</td>\n",
       "      <td>...</td>\n",
       "      <td>0</td>\n",
       "      <td>0</td>\n",
       "      <td>0</td>\n",
       "      <td>0</td>\n",
       "      <td>0</td>\n",
       "      <td>0</td>\n",
       "      <td>1</td>\n",
       "      <td>0</td>\n",
       "      <td>0</td>\n",
       "      <td>0</td>\n",
       "    </tr>\n",
       "    <tr>\n",
       "      <th>1</th>\n",
       "      <td>13.7</td>\n",
       "      <td>6.4</td>\n",
       "      <td>0</td>\n",
       "      <td>177.3</td>\n",
       "      <td>47</td>\n",
       "      <td>71.7</td>\n",
       "      <td>171</td>\n",
       "      <td>0</td>\n",
       "      <td>0</td>\n",
       "      <td>0</td>\n",
       "      <td>...</td>\n",
       "      <td>0</td>\n",
       "      <td>0</td>\n",
       "      <td>0</td>\n",
       "      <td>1</td>\n",
       "      <td>0</td>\n",
       "      <td>0</td>\n",
       "      <td>0</td>\n",
       "      <td>0</td>\n",
       "      <td>0</td>\n",
       "      <td>0</td>\n",
       "    </tr>\n",
       "    <tr>\n",
       "      <th>2</th>\n",
       "      <td>13.6</td>\n",
       "      <td>7.4</td>\n",
       "      <td>0</td>\n",
       "      <td>256.8</td>\n",
       "      <td>39</td>\n",
       "      <td>77.1</td>\n",
       "      <td>178</td>\n",
       "      <td>0</td>\n",
       "      <td>0</td>\n",
       "      <td>0</td>\n",
       "      <td>...</td>\n",
       "      <td>0</td>\n",
       "      <td>0</td>\n",
       "      <td>0</td>\n",
       "      <td>0</td>\n",
       "      <td>0</td>\n",
       "      <td>0</td>\n",
       "      <td>0</td>\n",
       "      <td>0</td>\n",
       "      <td>1</td>\n",
       "      <td>0</td>\n",
       "    </tr>\n",
       "    <tr>\n",
       "      <th>3</th>\n",
       "      <td>10.6</td>\n",
       "      <td>7.3</td>\n",
       "      <td>0</td>\n",
       "      <td>250.1</td>\n",
       "      <td>40</td>\n",
       "      <td>74.2</td>\n",
       "      <td>174</td>\n",
       "      <td>0</td>\n",
       "      <td>0</td>\n",
       "      <td>0</td>\n",
       "      <td>...</td>\n",
       "      <td>0</td>\n",
       "      <td>0</td>\n",
       "      <td>0</td>\n",
       "      <td>0</td>\n",
       "      <td>0</td>\n",
       "      <td>0</td>\n",
       "      <td>0</td>\n",
       "      <td>1</td>\n",
       "      <td>0</td>\n",
       "      <td>0</td>\n",
       "    </tr>\n",
       "    <tr>\n",
       "      <th>4</th>\n",
       "      <td>17.1</td>\n",
       "      <td>8.1</td>\n",
       "      <td>0</td>\n",
       "      <td>232.2</td>\n",
       "      <td>42</td>\n",
       "      <td>80.7</td>\n",
       "      <td>183</td>\n",
       "      <td>0</td>\n",
       "      <td>0</td>\n",
       "      <td>0</td>\n",
       "      <td>...</td>\n",
       "      <td>0</td>\n",
       "      <td>0</td>\n",
       "      <td>0</td>\n",
       "      <td>0</td>\n",
       "      <td>0</td>\n",
       "      <td>0</td>\n",
       "      <td>0</td>\n",
       "      <td>0</td>\n",
       "      <td>1</td>\n",
       "      <td>0</td>\n",
       "    </tr>\n",
       "    <tr>\n",
       "      <th>...</th>\n",
       "      <td>...</td>\n",
       "      <td>...</td>\n",
       "      <td>...</td>\n",
       "      <td>...</td>\n",
       "      <td>...</td>\n",
       "      <td>...</td>\n",
       "      <td>...</td>\n",
       "      <td>...</td>\n",
       "      <td>...</td>\n",
       "      <td>...</td>\n",
       "      <td>...</td>\n",
       "      <td>...</td>\n",
       "      <td>...</td>\n",
       "      <td>...</td>\n",
       "      <td>...</td>\n",
       "      <td>...</td>\n",
       "      <td>...</td>\n",
       "      <td>...</td>\n",
       "      <td>...</td>\n",
       "      <td>...</td>\n",
       "      <td>...</td>\n",
       "    </tr>\n",
       "    <tr>\n",
       "      <th>1889</th>\n",
       "      <td>17.0</td>\n",
       "      <td>10.7</td>\n",
       "      <td>1</td>\n",
       "      <td>237.5</td>\n",
       "      <td>59</td>\n",
       "      <td>64.0</td>\n",
       "      <td>157</td>\n",
       "      <td>0</td>\n",
       "      <td>0</td>\n",
       "      <td>0</td>\n",
       "      <td>...</td>\n",
       "      <td>0</td>\n",
       "      <td>0</td>\n",
       "      <td>0</td>\n",
       "      <td>0</td>\n",
       "      <td>0</td>\n",
       "      <td>0</td>\n",
       "      <td>0</td>\n",
       "      <td>0</td>\n",
       "      <td>0</td>\n",
       "      <td>0</td>\n",
       "    </tr>\n",
       "    <tr>\n",
       "      <th>1890</th>\n",
       "      <td>9.4</td>\n",
       "      <td>8.2</td>\n",
       "      <td>0</td>\n",
       "      <td>288.0</td>\n",
       "      <td>42</td>\n",
       "      <td>59.0</td>\n",
       "      <td>157</td>\n",
       "      <td>0</td>\n",
       "      <td>0</td>\n",
       "      <td>0</td>\n",
       "      <td>...</td>\n",
       "      <td>1</td>\n",
       "      <td>0</td>\n",
       "      <td>0</td>\n",
       "      <td>0</td>\n",
       "      <td>0</td>\n",
       "      <td>0</td>\n",
       "      <td>0</td>\n",
       "      <td>0</td>\n",
       "      <td>0</td>\n",
       "      <td>0</td>\n",
       "    </tr>\n",
       "    <tr>\n",
       "      <th>1891</th>\n",
       "      <td>13.5</td>\n",
       "      <td>5.5</td>\n",
       "      <td>1</td>\n",
       "      <td>148.5</td>\n",
       "      <td>61</td>\n",
       "      <td>70.0</td>\n",
       "      <td>167</td>\n",
       "      <td>0</td>\n",
       "      <td>0</td>\n",
       "      <td>0</td>\n",
       "      <td>...</td>\n",
       "      <td>0</td>\n",
       "      <td>0</td>\n",
       "      <td>0</td>\n",
       "      <td>0</td>\n",
       "      <td>0</td>\n",
       "      <td>0</td>\n",
       "      <td>0</td>\n",
       "      <td>0</td>\n",
       "      <td>0</td>\n",
       "      <td>0</td>\n",
       "    </tr>\n",
       "    <tr>\n",
       "      <th>1892</th>\n",
       "      <td>14.0</td>\n",
       "      <td>10.0</td>\n",
       "      <td>0</td>\n",
       "      <td>89.0</td>\n",
       "      <td>29</td>\n",
       "      <td>77.0</td>\n",
       "      <td>177</td>\n",
       "      <td>0</td>\n",
       "      <td>0</td>\n",
       "      <td>0</td>\n",
       "      <td>...</td>\n",
       "      <td>1</td>\n",
       "      <td>0</td>\n",
       "      <td>0</td>\n",
       "      <td>0</td>\n",
       "      <td>0</td>\n",
       "      <td>0</td>\n",
       "      <td>0</td>\n",
       "      <td>0</td>\n",
       "      <td>0</td>\n",
       "      <td>0</td>\n",
       "    </tr>\n",
       "    <tr>\n",
       "      <th>1893</th>\n",
       "      <td>16.1</td>\n",
       "      <td>9.5</td>\n",
       "      <td>-1</td>\n",
       "      <td>251.4</td>\n",
       "      <td>30</td>\n",
       "      <td>49.0</td>\n",
       "      <td>168</td>\n",
       "      <td>0</td>\n",
       "      <td>0</td>\n",
       "      <td>0</td>\n",
       "      <td>...</td>\n",
       "      <td>1</td>\n",
       "      <td>0</td>\n",
       "      <td>0</td>\n",
       "      <td>0</td>\n",
       "      <td>0</td>\n",
       "      <td>0</td>\n",
       "      <td>0</td>\n",
       "      <td>0</td>\n",
       "      <td>0</td>\n",
       "      <td>0</td>\n",
       "    </tr>\n",
       "  </tbody>\n",
       "</table>\n",
       "<p>1894 rows × 25 columns</p>\n",
       "</div>"
      ],
      "text/plain": [
       "      전방디스크높이(mm)  후방디스크높이(mm)  비만여부  지방축적도  연령    체중   신장  직업_0  직업_건설업  \\\n",
       "0            16.1         12.3     0  282.3  66  60.3  163     0       0   \n",
       "1            13.7          6.4     0  177.3  47  71.7  171     0       0   \n",
       "2            13.6          7.4     0  256.8  39  77.1  178     0       0   \n",
       "3            10.6          7.3     0  250.1  40  74.2  174     0       0   \n",
       "4            17.1          8.1     0  232.2  42  80.7  183     0       0   \n",
       "...           ...          ...   ...    ...  ..   ...  ...   ...     ...   \n",
       "1889         17.0         10.7     1  237.5  59  64.0  157     0       0   \n",
       "1890          9.4          8.2     0  288.0  42  59.0  157     0       0   \n",
       "1891         13.5          5.5     1  148.5  61  70.0  167     0       0   \n",
       "1892         14.0         10.0     0   89.0  29  77.0  177     0       0   \n",
       "1893         16.1          9.5    -1  251.4  30  49.0  168     0       0   \n",
       "\n",
       "      직업_공무원  ...  직업_사무직  직업_사업가  직업_예술가  직업_운동선수  직업_운수업  직업_의료직  직업_자영업  \\\n",
       "0          0  ...       0       0       0        0       0       0       1   \n",
       "1          0  ...       0       0       0        1       0       0       0   \n",
       "2          0  ...       0       0       0        0       0       0       0   \n",
       "3          0  ...       0       0       0        0       0       0       0   \n",
       "4          0  ...       0       0       0        0       0       0       0   \n",
       "...      ...  ...     ...     ...     ...      ...     ...     ...     ...   \n",
       "1889       0  ...       0       0       0        0       0       0       0   \n",
       "1890       0  ...       1       0       0        0       0       0       0   \n",
       "1891       0  ...       0       0       0        0       0       0       0   \n",
       "1892       0  ...       1       0       0        0       0       0       0   \n",
       "1893       0  ...       1       0       0        0       0       0       0   \n",
       "\n",
       "      직업_주부  직업_특수전문직  직업_학생  \n",
       "0         0         0      0  \n",
       "1         0         0      0  \n",
       "2         0         1      0  \n",
       "3         1         0      0  \n",
       "4         0         1      0  \n",
       "...     ...       ...    ...  \n",
       "1889      0         0      0  \n",
       "1890      0         0      0  \n",
       "1891      0         0      0  \n",
       "1892      0         0      0  \n",
       "1893      0         0      0  \n",
       "\n",
       "[1894 rows x 25 columns]"
      ]
     },
     "execution_count": 46,
     "metadata": {},
     "output_type": "execute_result"
    }
   ],
   "source": [
    "data_6 = ['전방디스크높이(mm)','후방디스크높이(mm)','비만여부','지방축적도','연령','체중','신장','직업']\n",
    "data_7 = data[data_6].fillna(0)\n",
    "data_7 = pd.get_dummies(data_7)\n",
    "data_7\n"
   ]
  },
  {
   "cell_type": "code",
   "execution_count": 61,
   "metadata": {},
   "outputs": [
    {
     "data": {
      "text/plain": [
       "DecisionTreeClassifier(max_depth=1)"
      ]
     },
     "execution_count": 61,
     "metadata": {},
     "output_type": "execute_result"
    }
   ],
   "source": [
    "from sklearn.model_selection import train_test_split\n",
    "from sklearn.tree import DecisionTreeClassifier\n",
    "\n",
    "X = data_7\n",
    "Y = data['재발여부'].ravel()\n",
    "\n",
    "X_train, X_test, Y_train, Y_test = train_test_split(\n",
    "    X,Y, test_size = 0.3, random_state = 0)\n",
    "\n",
    "model = DecisionTreeClassifier(max_depth = 1 )\n",
    "model.fit(X_train, Y_train)"
   ]
  },
  {
   "cell_type": "code",
   "execution_count": 62,
   "metadata": {},
   "outputs": [
    {
     "data": {
      "image/png": "[encoded data removed]",
      "text/plain": [
       "<Figure size 432x288 with 1 Axes>"
      ]
     },
     "metadata": {
      "needs_background": "light"
     },
     "output_type": "display_data"
    }
   ],
   "source": [
    "# depth에 따른 정확도\n",
    "train_score=[]\n",
    "test_score=[]\n",
    "for i in range(1,21):\n",
    "    \n",
    "    model=DecisionTreeClassifier(max_depth=i,random_state=4)\n",
    "    model.fit(X_train,Y_train)\n",
    "    train_score.append(model.score(X_train,Y_train))\n",
    "    test_score.append(model.score(X_test,Y_test))\n",
    "plt.figure()\n",
    "plt.title('score for depths')\n",
    "plt.plot(range(1,21),train_score)\n",
    "plt.plot(range(1,21),test_score)\n",
    "plt.xticks(range(1,21))\n",
    "plt.show()"
   ]
  },
  {
   "cell_type": "code",
   "execution_count": 63,
   "metadata": {},
   "outputs": [
    {
     "name": "stdout",
     "output_type": "stream",
     "text": [
      "훈련 정확도 : 0.8837735849056604\n",
      "테스트 정확도 : 0.8717047451669596\n"
     ]
    }
   ],
   "source": [
    "model_1=DecisionTreeClassifier(max_depth=1,random_state=4)\n",
    "model_1.fit(X_train, Y_train)\n",
    "train_accuracy = model_1.score(X_train, Y_train)\n",
    "test_accuracy = model_1.score(X_test, Y_test)\n",
    "print(f'훈련 정확도 : {train_accuracy}')\n",
    "print(f'테스트 정확도 : {test_accuracy}')"
   ]
  },
  {
   "cell_type": "code",
   "execution_count": null,
   "metadata": {},
   "outputs": [
    {
     "data": {
      "image/png": "[encoded data removed]",
      "text/plain": [
       "<Figure size 864x360 with 1 Axes>"
      ]
     },
     "metadata": {
      "needs_background": "light"
     },
     "output_type": "display_data"
    }
   ],
   "source": [
    "plt.figure(figsize=(12, 5))\n",
    "plt.title('feature importance')\n",
    "plt.bar(range(len(importance)), importance)\n",
    "plt.xticks(range(len(importance)), X.columns, rotation = 90)\n",
    "plt.show()\n"
   ]
  },
  {
   "cell_type": "code",
   "execution_count": null,
   "metadata": {},
   "outputs": [
    {
     "data": {
      "text/html": [
       "<div>\n",
       "<style scoped>\n",
       "    .dataframe tbody tr th:only-of-type {\n",
       "        vertical-align: middle;\n",
       "    }\n",
       "\n",
       "    .dataframe tbody tr th {\n",
       "        vertical-align: top;\n",
       "    }\n",
       "\n",
       "    .dataframe thead th {\n",
       "        text-align: right;\n",
       "    }\n",
       "</style>\n",
       "<table border=\"1\" class=\"dataframe\">\n",
       "  <thead>\n",
       "    <tr style=\"text-align: right;\">\n",
       "      <th></th>\n",
       "      <th>재발여부_x</th>\n",
       "      <th>연령</th>\n",
       "      <th>정상</th>\n",
       "      <th>재발여부_y</th>\n",
       "      <th>재발</th>\n",
       "      <th>total</th>\n",
       "      <th>A_percent</th>\n",
       "      <th>B_percent</th>\n",
       "    </tr>\n",
       "  </thead>\n",
       "  <tbody>\n",
       "    <tr>\n",
       "      <th>0</th>\n",
       "      <td>0.0</td>\n",
       "      <td>15</td>\n",
       "      <td>1.0</td>\n",
       "      <td>1.0</td>\n",
       "      <td>0.0</td>\n",
       "      <td>1.0</td>\n",
       "      <td>100.0</td>\n",
       "      <td>0.0</td>\n",
       "    </tr>\n",
       "    <tr>\n",
       "      <th>1</th>\n",
       "      <td>0.0</td>\n",
       "      <td>16</td>\n",
       "      <td>5.0</td>\n",
       "      <td>1.0</td>\n",
       "      <td>0.0</td>\n",
       "      <td>5.0</td>\n",
       "      <td>100.0</td>\n",
       "      <td>0.0</td>\n",
       "    </tr>\n",
       "    <tr>\n",
       "      <th>2</th>\n",
       "      <td>0.0</td>\n",
       "      <td>17</td>\n",
       "      <td>12.0</td>\n",
       "      <td>1.0</td>\n",
       "      <td>1.0</td>\n",
       "      <td>13.0</td>\n",
       "      <td>92.3</td>\n",
       "      <td>7.7</td>\n",
       "    </tr>\n",
       "    <tr>\n",
       "      <th>3</th>\n",
       "      <td>0.0</td>\n",
       "      <td>18</td>\n",
       "      <td>18.0</td>\n",
       "      <td>1.0</td>\n",
       "      <td>2.0</td>\n",
       "      <td>20.0</td>\n",
       "      <td>90.0</td>\n",
       "      <td>10.0</td>\n",
       "    </tr>\n",
       "    <tr>\n",
       "      <th>4</th>\n",
       "      <td>0.0</td>\n",
       "      <td>19</td>\n",
       "      <td>29.0</td>\n",
       "      <td>1.0</td>\n",
       "      <td>0.0</td>\n",
       "      <td>29.0</td>\n",
       "      <td>100.0</td>\n",
       "      <td>0.0</td>\n",
       "    </tr>\n",
       "    <tr>\n",
       "      <th>...</th>\n",
       "      <td>...</td>\n",
       "      <td>...</td>\n",
       "      <td>...</td>\n",
       "      <td>...</td>\n",
       "      <td>...</td>\n",
       "      <td>...</td>\n",
       "      <td>...</td>\n",
       "      <td>...</td>\n",
       "    </tr>\n",
       "    <tr>\n",
       "      <th>63</th>\n",
       "      <td>0.0</td>\n",
       "      <td>79</td>\n",
       "      <td>5.0</td>\n",
       "      <td>1.0</td>\n",
       "      <td>2.0</td>\n",
       "      <td>7.0</td>\n",
       "      <td>71.4</td>\n",
       "      <td>28.6</td>\n",
       "    </tr>\n",
       "    <tr>\n",
       "      <th>64</th>\n",
       "      <td>0.0</td>\n",
       "      <td>80</td>\n",
       "      <td>1.0</td>\n",
       "      <td>1.0</td>\n",
       "      <td>0.0</td>\n",
       "      <td>1.0</td>\n",
       "      <td>100.0</td>\n",
       "      <td>0.0</td>\n",
       "    </tr>\n",
       "    <tr>\n",
       "      <th>65</th>\n",
       "      <td>0.0</td>\n",
       "      <td>84</td>\n",
       "      <td>2.0</td>\n",
       "      <td>1.0</td>\n",
       "      <td>0.0</td>\n",
       "      <td>2.0</td>\n",
       "      <td>100.0</td>\n",
       "      <td>0.0</td>\n",
       "    </tr>\n",
       "    <tr>\n",
       "      <th>66</th>\n",
       "      <td>0.0</td>\n",
       "      <td>86</td>\n",
       "      <td>1.0</td>\n",
       "      <td>1.0</td>\n",
       "      <td>0.0</td>\n",
       "      <td>1.0</td>\n",
       "      <td>100.0</td>\n",
       "      <td>0.0</td>\n",
       "    </tr>\n",
       "    <tr>\n",
       "      <th>67</th>\n",
       "      <td>0.0</td>\n",
       "      <td>82</td>\n",
       "      <td>0.0</td>\n",
       "      <td>1.0</td>\n",
       "      <td>1.0</td>\n",
       "      <td>1.0</td>\n",
       "      <td>0.0</td>\n",
       "      <td>100.0</td>\n",
       "    </tr>\n",
       "  </tbody>\n",
       "</table>\n",
       "<p>68 rows × 8 columns</p>\n",
       "</div>"
      ],
      "text/plain": [
       "    재발여부_x  연령    정상  재발여부_y   재발  total  A_percent  B_percent\n",
       "0      0.0  15   1.0     1.0  0.0    1.0      100.0        0.0\n",
       "1      0.0  16   5.0     1.0  0.0    5.0      100.0        0.0\n",
       "2      0.0  17  12.0     1.0  1.0   13.0       92.3        7.7\n",
       "3      0.0  18  18.0     1.0  2.0   20.0       90.0       10.0\n",
       "4      0.0  19  29.0     1.0  0.0   29.0      100.0        0.0\n",
       "..     ...  ..   ...     ...  ...    ...        ...        ...\n",
       "63     0.0  79   5.0     1.0  2.0    7.0       71.4       28.6\n",
       "64     0.0  80   1.0     1.0  0.0    1.0      100.0        0.0\n",
       "65     0.0  84   2.0     1.0  0.0    2.0      100.0        0.0\n",
       "66     0.0  86   1.0     1.0  0.0    1.0      100.0        0.0\n",
       "67     0.0  82   0.0     1.0  1.0    1.0        0.0      100.0\n",
       "\n",
       "[68 rows x 8 columns]"
      ]
     },
     "execution_count": 253,
     "metadata": {},
     "output_type": "execute_result"
    }
   ],
   "source": [
    "df0 = data[data['재발여부'] == 0]\n",
    "df_0 = df0.groupby(['재발여부','연령'], as_index = False).agg(정상 = ('재발여부', 'count'))\n",
    "df1 = data[data['재발여부'] == 1]\n",
    "df_1 = df1.groupby(['재발여부','연령'], as_index = False).agg(재발 = ('재발여부', 'count'))\n",
    "df = df_0.merge(df_1, on='연령', how='outer' )\n",
    "df[['재발여부_x','정상','재발']] = df[['재발여부_x','정상','재발']].fillna(0)\n",
    "df['재발여부_y'] = df['재발여부_y'].fillna(1)\n",
    "df['total'] = df['정상']+df['재발']\n",
    "df['A_percent'] = round(df['정상'] / df['total'] * 100, 1)\n",
    "df['B_percent'] = round(100 - df['A_percent'], 1)\n",
    "df\n"
   ]
  },
  {
   "cell_type": "code",
   "execution_count": null,
   "metadata": {},
   "outputs": [
    {
     "data": {
      "image/png": "[encoded data removed]",
      "text/plain": [
       "<Figure size 1800x720 with 1 Axes>"
      ]
     },
     "metadata": {
      "needs_background": "light"
     },
     "output_type": "display_data"
    }
   ],
   "source": [
    "fig, ax = plt.subplots()\n",
    "# 피규어 크기\n",
    "fig.set_size_inches(25, 10)\n",
    "# 그래프 뒤에 그리드 그리기\n",
    "ax.set_axisbelow(True)\n",
    "# y 축만 그리드 그리기\n",
    "ax.grid(True, axis='y')\n",
    "# bar 그리기\n",
    "ax.bar(df['연령'], df['정상'], label = '정상', color = '#0599e8')\n",
    "ax.bar(df['연령'], df['재발'], bottom = df['정상'], label = '재발', color = '#fc4e03')\n",
    "# 라벨 설정\n",
    "ax.set_xlabel('year', fontsize = 25)\n",
    "ax.set_ylabel('revenue', fontsize = 25)\n",
    "# tick 설정\n",
    "ax.tick_params(axis = 'x', labelsize = 20)\n",
    "ax.tick_params(axis = 'y', labelsize = 20)\n",
    "# 범례 표시\n",
    "ax.legend(fontsize = 25, loc = 'upper right')\n",
    "\n",
    "# 텍스트 지정\n",
    "for i in range(len(df['연령'])):\n",
    "    ax.text(df['연령'][i], df['정상'][i] / 2, str(df['A_percent'][i]) + '%', fontsize = 10, horizontalalignment='center', color = 'w')\n",
    "    ax.text(df['연령'][i], (df['정상'][i] + df['정상'][i] + df['재발'][i])/ 2, str(df['B_percent'][i]) + '%', fontsize = 10, horizontalalignment='center', color = 'w')"
   ]
  },
  {
   "cell_type": "code",
   "execution_count": 67,
   "metadata": {},
   "outputs": [
    {
     "data": {
      "text/plain": [
       "<AxesSubplot:xlabel='연령대', ylabel='count'>"
      ]
     },
     "execution_count": 67,
     "metadata": {},
     "output_type": "execute_result"
    },
    {
     "data": {
      "image/png": "[encoded data removed]",
      "text/plain": [
       "<Figure size 1152x360 with 1 Axes>"
      ]
     },
     "metadata": {
      "needs_background": "light"
     },
     "output_type": "display_data"
    }
   ],
   "source": [
    "\n",
    "def Total_1(data):    \n",
    "    if data < 20:        \n",
    "        return '10대'\n",
    "    elif data < 30:\n",
    "        return '20대'\n",
    "    elif data < 40:\n",
    "        return '30대'\n",
    "    elif data < 50:\n",
    "        return '40대'\n",
    "    elif data < 60:\n",
    "        return '50대'\n",
    "    elif data < 70:\n",
    "        return '60대'\n",
    "    elif data < 80:\n",
    "        return '70대'\n",
    "    else:\n",
    "        return '80대'\n",
    "plt.rc('font', family='Malgun Gothic')    # 한글 폰트수정\n",
    "plt.figure(figsize = (16, 5))  # 피규어 사이즈 확장 \n",
    "data['연령대'] = data['연령'].apply(Total_1)\n",
    "sns.countplot(data = data.sort_values(by = '연령대'), x='연령대', order=['10대','20대','30대','40대','50대','60대','70대','80대'])"
   ]
  },
  {
   "cell_type": "code",
   "execution_count": null,
   "metadata": {},
   "outputs": [
    {
     "data": {
      "text/plain": [
       "<AxesSubplot:xlabel='연령', ylabel='count'>"
      ]
     },
     "execution_count": 403,
     "metadata": {},
     "output_type": "execute_result"
    },
    {
     "data": {
      "image/png": "[encoded data removed]",
      "text/plain": [
       "<Figure size 1800x720 with 1 Axes>"
      ]
     },
     "metadata": {
      "needs_background": "light"
     },
     "output_type": "display_data"
    }
   ],
   "source": [
    "plt.figure(figsize = (25,10))\n",
    "sns.countplot(data = data , x = '연령', hue = '재발여부') # 전체 수술환자 비만정도\n"
   ]
  },
  {
   "cell_type": "code",
   "execution_count": null,
   "metadata": {},
   "outputs": [
    {
     "data": {
      "text/plain": [
       "<AxesSubplot:xlabel='비만여부', ylabel='count'>"
      ]
     },
     "execution_count": 259,
     "metadata": {},
     "output_type": "execute_result"
    },
    {
     "data": {
      "image/png": "[encoded data removed]",
      "text/plain": [
       "<Figure size 144x144 with 1 Axes>"
      ]
     },
     "metadata": {
      "needs_background": "light"
     },
     "output_type": "display_data"
    }
   ],
   "source": [
    "sns.countplot(data = data , x = '비만여부', hue = '재발여부') # 전체 수술환자 비만정도"
   ]
  },
  {
   "cell_type": "code",
   "execution_count": null,
   "metadata": {},
   "outputs": [
    {
     "data": {
      "text/plain": [
       "<AxesSubplot:xlabel='직업', ylabel='count'>"
      ]
     },
     "execution_count": 262,
     "metadata": {},
     "output_type": "execute_result"
    },
    {
     "data": {
      "image/png": "[encoded data removed]",
      "text/plain": [
       "<Figure size 864x360 with 1 Axes>"
      ]
     },
     "metadata": {
      "needs_background": "light"
     },
     "output_type": "display_data"
    }
   ],
   "source": [
    "plt.figure(figsize=(12, 5))\n",
    "sns.countplot(data = data.sort_values(by = '재발여부'), x='직업', hue = '재발여부') # 비만정도에 따른 재발여부"
   ]
  },
  {
   "cell_type": "code",
   "execution_count": 91,
   "metadata": {},
   "outputs": [
    {
     "name": "stdout",
     "output_type": "stream",
     "text": [
      "<class 'pandas.core.frame.DataFrame'>\n",
      "Int64Index: 1894 entries, 0 to 1893\n",
      "Data columns (total 65 columns):\n",
      " #   Column                  Non-Null Count  Dtype  \n",
      "---  ------                  --------------  -----  \n",
      " 0   전방디스크높이(mm)             1894 non-null   float64\n",
      " 1   후방디스크높이(mm)             1894 non-null   float64\n",
      " 2   지방축적도                   1891 non-null   float64\n",
      " 3   Instability             1894 non-null   int64  \n",
      " 4   MF + ES                 1894 non-null   float64\n",
      " 5   Modic change            1894 non-null   int64  \n",
      " 6   PI                      1890 non-null   float64\n",
      " 7   PT                      1890 non-null   float64\n",
      " 8   Seg Angle(raw)          1893 non-null   float64\n",
      " 9   Vaccum disc             1894 non-null   int64  \n",
      " 10  디스크단면적                  1893 non-null   float64\n",
      " 11  디스크위치                   1894 non-null   int64  \n",
      " 12  척추전방위증                  1894 non-null   int64  \n",
      " 13  Large Lymphocyte        1894 non-null   float64\n",
      " 14  Location of herniation  1894 non-null   int64  \n",
      " 15  가족력                     1843 non-null   float64\n",
      " 16  간질성폐질환                  1894 non-null   int64  \n",
      " 17  고혈압여부                   1894 non-null   int64  \n",
      " 18  과거수술횟수                  1894 non-null   int64  \n",
      " 19  당뇨여부                    1894 non-null   int64  \n",
      " 20  말초동맥질환여부                1894 non-null   int64  \n",
      " 21  빈혈여부                    1894 non-null   int64  \n",
      " 22  성별                      1894 non-null   int64  \n",
      " 23  스테로이드치료                 1894 non-null   int64  \n",
      " 24  신부전여부                   1894 non-null   int64  \n",
      " 25  신장                      1894 non-null   int64  \n",
      " 26  심혈관질환                   1894 non-null   int64  \n",
      " 27  암발병여부                   1894 non-null   int64  \n",
      " 28  연령                      1894 non-null   int64  \n",
      " 29  우울증여부                   1894 non-null   int64  \n",
      " 30  입원기간                    1894 non-null   int64  \n",
      " 31  종양진행여부                  1894 non-null   int64  \n",
      " 32  체중                      1894 non-null   float64\n",
      " 33  헤모글로빈수치                 1893 non-null   float64\n",
      " 34  혈전합병증여부                 1894 non-null   int64  \n",
      " 35  환자통증정도                  1894 non-null   int64  \n",
      " 36  흡연여부                    1894 non-null   int64  \n",
      " 37  통증기간(월)                 1890 non-null   float64\n",
      " 38  수술시간                    1840 non-null   float64\n",
      " 39  수술실패여부                  1894 non-null   int64  \n",
      " 40  비만여부                    1894 non-null   int64  \n",
      " 41  척추이동척도_Down             1894 non-null   uint8  \n",
      " 42  척추이동척도_Extremely down   1894 non-null   uint8  \n",
      " 43  척추이동척도_Extremely up     1894 non-null   uint8  \n",
      " 44  척추이동척도_Middle           1894 non-null   uint8  \n",
      " 45  척추이동척도_Up               1894 non-null   uint8  \n",
      " 46  직업_건설업                  1894 non-null   uint8  \n",
      " 47  직업_공무원                  1894 non-null   uint8  \n",
      " 48  직업_교사                   1894 non-null   uint8  \n",
      " 49  직업_군인                   1894 non-null   uint8  \n",
      " 50  직업_노동직                  1894 non-null   uint8  \n",
      " 51  직업_농업                   1894 non-null   uint8  \n",
      " 52  직업_무직                   1894 non-null   uint8  \n",
      " 53  직업_사무직                  1894 non-null   uint8  \n",
      " 54  직업_사업가                  1894 non-null   uint8  \n",
      " 55  직업_예술가                  1894 non-null   uint8  \n",
      " 56  직업_운동선수                 1894 non-null   uint8  \n",
      " 57  직업_운수업                  1894 non-null   uint8  \n",
      " 58  직업_의료직                  1894 non-null   uint8  \n",
      " 59  직업_자영업                  1894 non-null   uint8  \n",
      " 60  직업_주부                   1894 non-null   uint8  \n",
      " 61  직업_특수전문직                1894 non-null   uint8  \n",
      " 62  직업_학생                   1894 non-null   uint8  \n",
      " 63  수술기법_IELD               1894 non-null   uint8  \n",
      " 64  수술기법_TELD               1894 non-null   uint8  \n",
      "dtypes: float64(14), int64(27), uint8(24)\n",
      "memory usage: 730.4 KB\n"
     ]
    }
   ],
   "source": [
    "data_11 = data.drop(['혈액형','환자ID','수술일자','입원일자','퇴원일자','ODI','골밀도','연령대','지방축적도_1','재발여부'], axis = 1)\n",
    "data_11 = pd.get_dummies(data_11)\n",
    "data_11.info()"
   ]
  },
  {
   "cell_type": "code",
   "execution_count": 69,
   "metadata": {},
   "outputs": [
    {
     "data": {
      "text/plain": [
       "<bound method DataFrame.value_counts of       전방디스크높이(mm)  후방디스크높이(mm)  지방축적도  Instability  MF + ES  Modic change  \\\n",
       "0            16.1         12.3  282.3            0   1824.6             3   \n",
       "1            13.7          6.4  177.3            0   1737.5             0   \n",
       "2            13.6          7.4  256.8            0   1188.5             0   \n",
       "3            10.6          7.3  250.1            0   2534.5             0   \n",
       "4            17.1          8.1  232.2            0   1840.6             0   \n",
       "...           ...          ...    ...          ...      ...           ...   \n",
       "1889         17.0         10.7  237.5            0   2795.7             2   \n",
       "1890          9.4          8.2  288.0            0   1473.0             0   \n",
       "1891         13.5          5.5  148.5            0   3864.1             0   \n",
       "1892         14.0         10.0   89.0            0   2481.8             2   \n",
       "1893         16.1          9.5  251.4            0   1796.1             0   \n",
       "\n",
       "        PI    PT  Seg Angle(raw)  Vaccum disc  ...  직업_예술가  직업_운동선수  직업_운수업  \\\n",
       "0     51.6  36.6            14.4            0  ...       0        0       0   \n",
       "1     40.8   7.2            17.8            0  ...       0        1       0   \n",
       "2     67.5  27.3            10.2            0  ...       0        0       0   \n",
       "3     49.2  18.7            19.9            0  ...       0        0       0   \n",
       "4     58.8  14.7             5.2            0  ...       0        0       0   \n",
       "...    ...   ...             ...          ...  ...     ...      ...     ...   \n",
       "1889  59.5  23.0            21.8            0  ...       0        0       0   \n",
       "1890  47.7  20.2             5.0            0  ...       0        0       0   \n",
       "1891  44.6  15.0            17.4            1  ...       0        0       0   \n",
       "1892  32.2  11.1            17.7            0  ...       0        0       0   \n",
       "1893  38.9   6.8            27.8            0  ...       0        0       0   \n",
       "\n",
       "      직업_의료직  직업_자영업  직업_주부  직업_특수전문직  직업_학생  수술기법_IELD  수술기법_TELD  \n",
       "0          0       1      0         0      0          0          1  \n",
       "1          0       0      0         0      0          0          1  \n",
       "2          0       0      0         1      0          0          1  \n",
       "3          0       0      1         0      0          0          1  \n",
       "4          0       0      0         1      0          0          1  \n",
       "...      ...     ...    ...       ...    ...        ...        ...  \n",
       "1889       0       0      0         0      0          0          0  \n",
       "1890       0       0      0         0      0          0          0  \n",
       "1891       0       0      0         0      0          1          0  \n",
       "1892       0       0      0         0      0          0          0  \n",
       "1893       0       0      0         0      0          0          0  \n",
       "\n",
       "[1894 rows x 65 columns]>"
      ]
     },
     "execution_count": 69,
     "metadata": {},
     "output_type": "execute_result"
    }
   ],
   "source": [
    "data_11.value_counts"
   ]
  },
  {
   "cell_type": "code",
   "execution_count": 70,
   "metadata": {},
   "outputs": [],
   "source": [
    "data_12 = data_11.fillna(data_11.median())"
   ]
  },
  {
   "cell_type": "code",
   "execution_count": 71,
   "metadata": {},
   "outputs": [
    {
     "data": {
      "text/html": [
       "<div>\n",
       "<style scoped>\n",
       "    .dataframe tbody tr th:only-of-type {\n",
       "        vertical-align: middle;\n",
       "    }\n",
       "\n",
       "    .dataframe tbody tr th {\n",
       "        vertical-align: top;\n",
       "    }\n",
       "\n",
       "    .dataframe thead th {\n",
       "        text-align: right;\n",
       "    }\n",
       "</style>\n",
       "<table border=\"1\" class=\"dataframe\">\n",
       "  <thead>\n",
       "    <tr style=\"text-align: right;\">\n",
       "      <th></th>\n",
       "      <th>전방디스크높이(mm)</th>\n",
       "      <th>후방디스크높이(mm)</th>\n",
       "      <th>지방축적도</th>\n",
       "      <th>Instability</th>\n",
       "      <th>MF + ES</th>\n",
       "      <th>Modic change</th>\n",
       "      <th>PI</th>\n",
       "      <th>PT</th>\n",
       "      <th>Seg Angle(raw)</th>\n",
       "      <th>Vaccum disc</th>\n",
       "      <th>...</th>\n",
       "      <th>직업_예술가</th>\n",
       "      <th>직업_운동선수</th>\n",
       "      <th>직업_운수업</th>\n",
       "      <th>직업_의료직</th>\n",
       "      <th>직업_자영업</th>\n",
       "      <th>직업_주부</th>\n",
       "      <th>직업_특수전문직</th>\n",
       "      <th>직업_학생</th>\n",
       "      <th>수술기법_IELD</th>\n",
       "      <th>수술기법_TELD</th>\n",
       "    </tr>\n",
       "  </thead>\n",
       "  <tbody>\n",
       "    <tr>\n",
       "      <th>0</th>\n",
       "      <td>16.1</td>\n",
       "      <td>12.3</td>\n",
       "      <td>282.3</td>\n",
       "      <td>0</td>\n",
       "      <td>1824.6</td>\n",
       "      <td>3</td>\n",
       "      <td>51.6</td>\n",
       "      <td>36.6</td>\n",
       "      <td>14.4</td>\n",
       "      <td>0</td>\n",
       "      <td>...</td>\n",
       "      <td>0</td>\n",
       "      <td>0</td>\n",
       "      <td>0</td>\n",
       "      <td>0</td>\n",
       "      <td>1</td>\n",
       "      <td>0</td>\n",
       "      <td>0</td>\n",
       "      <td>0</td>\n",
       "      <td>0</td>\n",
       "      <td>1</td>\n",
       "    </tr>\n",
       "    <tr>\n",
       "      <th>1</th>\n",
       "      <td>13.7</td>\n",
       "      <td>6.4</td>\n",
       "      <td>177.3</td>\n",
       "      <td>0</td>\n",
       "      <td>1737.5</td>\n",
       "      <td>0</td>\n",
       "      <td>40.8</td>\n",
       "      <td>7.2</td>\n",
       "      <td>17.8</td>\n",
       "      <td>0</td>\n",
       "      <td>...</td>\n",
       "      <td>0</td>\n",
       "      <td>1</td>\n",
       "      <td>0</td>\n",
       "      <td>0</td>\n",
       "      <td>0</td>\n",
       "      <td>0</td>\n",
       "      <td>0</td>\n",
       "      <td>0</td>\n",
       "      <td>0</td>\n",
       "      <td>1</td>\n",
       "    </tr>\n",
       "    <tr>\n",
       "      <th>2</th>\n",
       "      <td>13.6</td>\n",
       "      <td>7.4</td>\n",
       "      <td>256.8</td>\n",
       "      <td>0</td>\n",
       "      <td>1188.5</td>\n",
       "      <td>0</td>\n",
       "      <td>67.5</td>\n",
       "      <td>27.3</td>\n",
       "      <td>10.2</td>\n",
       "      <td>0</td>\n",
       "      <td>...</td>\n",
       "      <td>0</td>\n",
       "      <td>0</td>\n",
       "      <td>0</td>\n",
       "      <td>0</td>\n",
       "      <td>0</td>\n",
       "      <td>0</td>\n",
       "      <td>1</td>\n",
       "      <td>0</td>\n",
       "      <td>0</td>\n",
       "      <td>1</td>\n",
       "    </tr>\n",
       "    <tr>\n",
       "      <th>3</th>\n",
       "      <td>10.6</td>\n",
       "      <td>7.3</td>\n",
       "      <td>250.1</td>\n",
       "      <td>0</td>\n",
       "      <td>2534.5</td>\n",
       "      <td>0</td>\n",
       "      <td>49.2</td>\n",
       "      <td>18.7</td>\n",
       "      <td>19.9</td>\n",
       "      <td>0</td>\n",
       "      <td>...</td>\n",
       "      <td>0</td>\n",
       "      <td>0</td>\n",
       "      <td>0</td>\n",
       "      <td>0</td>\n",
       "      <td>0</td>\n",
       "      <td>1</td>\n",
       "      <td>0</td>\n",
       "      <td>0</td>\n",
       "      <td>0</td>\n",
       "      <td>1</td>\n",
       "    </tr>\n",
       "    <tr>\n",
       "      <th>4</th>\n",
       "      <td>17.1</td>\n",
       "      <td>8.1</td>\n",
       "      <td>232.2</td>\n",
       "      <td>0</td>\n",
       "      <td>1840.6</td>\n",
       "      <td>0</td>\n",
       "      <td>58.8</td>\n",
       "      <td>14.7</td>\n",
       "      <td>5.2</td>\n",
       "      <td>0</td>\n",
       "      <td>...</td>\n",
       "      <td>0</td>\n",
       "      <td>0</td>\n",
       "      <td>0</td>\n",
       "      <td>0</td>\n",
       "      <td>0</td>\n",
       "      <td>0</td>\n",
       "      <td>1</td>\n",
       "      <td>0</td>\n",
       "      <td>0</td>\n",
       "      <td>1</td>\n",
       "    </tr>\n",
       "    <tr>\n",
       "      <th>...</th>\n",
       "      <td>...</td>\n",
       "      <td>...</td>\n",
       "      <td>...</td>\n",
       "      <td>...</td>\n",
       "      <td>...</td>\n",
       "      <td>...</td>\n",
       "      <td>...</td>\n",
       "      <td>...</td>\n",
       "      <td>...</td>\n",
       "      <td>...</td>\n",
       "      <td>...</td>\n",
       "      <td>...</td>\n",
       "      <td>...</td>\n",
       "      <td>...</td>\n",
       "      <td>...</td>\n",
       "      <td>...</td>\n",
       "      <td>...</td>\n",
       "      <td>...</td>\n",
       "      <td>...</td>\n",
       "      <td>...</td>\n",
       "      <td>...</td>\n",
       "    </tr>\n",
       "    <tr>\n",
       "      <th>1889</th>\n",
       "      <td>17.0</td>\n",
       "      <td>10.7</td>\n",
       "      <td>237.5</td>\n",
       "      <td>0</td>\n",
       "      <td>2795.7</td>\n",
       "      <td>2</td>\n",
       "      <td>59.5</td>\n",
       "      <td>23.0</td>\n",
       "      <td>21.8</td>\n",
       "      <td>0</td>\n",
       "      <td>...</td>\n",
       "      <td>0</td>\n",
       "      <td>0</td>\n",
       "      <td>0</td>\n",
       "      <td>0</td>\n",
       "      <td>0</td>\n",
       "      <td>0</td>\n",
       "      <td>0</td>\n",
       "      <td>0</td>\n",
       "      <td>0</td>\n",
       "      <td>0</td>\n",
       "    </tr>\n",
       "    <tr>\n",
       "      <th>1890</th>\n",
       "      <td>9.4</td>\n",
       "      <td>8.2</td>\n",
       "      <td>288.0</td>\n",
       "      <td>0</td>\n",
       "      <td>1473.0</td>\n",
       "      <td>0</td>\n",
       "      <td>47.7</td>\n",
       "      <td>20.2</td>\n",
       "      <td>5.0</td>\n",
       "      <td>0</td>\n",
       "      <td>...</td>\n",
       "      <td>0</td>\n",
       "      <td>0</td>\n",
       "      <td>0</td>\n",
       "      <td>0</td>\n",
       "      <td>0</td>\n",
       "      <td>0</td>\n",
       "      <td>0</td>\n",
       "      <td>0</td>\n",
       "      <td>0</td>\n",
       "      <td>0</td>\n",
       "    </tr>\n",
       "    <tr>\n",
       "      <th>1891</th>\n",
       "      <td>13.5</td>\n",
       "      <td>5.5</td>\n",
       "      <td>148.5</td>\n",
       "      <td>0</td>\n",
       "      <td>3864.1</td>\n",
       "      <td>0</td>\n",
       "      <td>44.6</td>\n",
       "      <td>15.0</td>\n",
       "      <td>17.4</td>\n",
       "      <td>1</td>\n",
       "      <td>...</td>\n",
       "      <td>0</td>\n",
       "      <td>0</td>\n",
       "      <td>0</td>\n",
       "      <td>0</td>\n",
       "      <td>0</td>\n",
       "      <td>0</td>\n",
       "      <td>0</td>\n",
       "      <td>0</td>\n",
       "      <td>1</td>\n",
       "      <td>0</td>\n",
       "    </tr>\n",
       "    <tr>\n",
       "      <th>1892</th>\n",
       "      <td>14.0</td>\n",
       "      <td>10.0</td>\n",
       "      <td>89.0</td>\n",
       "      <td>0</td>\n",
       "      <td>2481.8</td>\n",
       "      <td>2</td>\n",
       "      <td>32.2</td>\n",
       "      <td>11.1</td>\n",
       "      <td>17.7</td>\n",
       "      <td>0</td>\n",
       "      <td>...</td>\n",
       "      <td>0</td>\n",
       "      <td>0</td>\n",
       "      <td>0</td>\n",
       "      <td>0</td>\n",
       "      <td>0</td>\n",
       "      <td>0</td>\n",
       "      <td>0</td>\n",
       "      <td>0</td>\n",
       "      <td>0</td>\n",
       "      <td>0</td>\n",
       "    </tr>\n",
       "    <tr>\n",
       "      <th>1893</th>\n",
       "      <td>16.1</td>\n",
       "      <td>9.5</td>\n",
       "      <td>251.4</td>\n",
       "      <td>0</td>\n",
       "      <td>1796.1</td>\n",
       "      <td>0</td>\n",
       "      <td>38.9</td>\n",
       "      <td>6.8</td>\n",
       "      <td>27.8</td>\n",
       "      <td>0</td>\n",
       "      <td>...</td>\n",
       "      <td>0</td>\n",
       "      <td>0</td>\n",
       "      <td>0</td>\n",
       "      <td>0</td>\n",
       "      <td>0</td>\n",
       "      <td>0</td>\n",
       "      <td>0</td>\n",
       "      <td>0</td>\n",
       "      <td>0</td>\n",
       "      <td>0</td>\n",
       "    </tr>\n",
       "  </tbody>\n",
       "</table>\n",
       "<p>1894 rows × 65 columns</p>\n",
       "</div>"
      ],
      "text/plain": [
       "      전방디스크높이(mm)  후방디스크높이(mm)  지방축적도  Instability  MF + ES  Modic change  \\\n",
       "0            16.1         12.3  282.3            0   1824.6             3   \n",
       "1            13.7          6.4  177.3            0   1737.5             0   \n",
       "2            13.6          7.4  256.8            0   1188.5             0   \n",
       "3            10.6          7.3  250.1            0   2534.5             0   \n",
       "4            17.1          8.1  232.2            0   1840.6             0   \n",
       "...           ...          ...    ...          ...      ...           ...   \n",
       "1889         17.0         10.7  237.5            0   2795.7             2   \n",
       "1890          9.4          8.2  288.0            0   1473.0             0   \n",
       "1891         13.5          5.5  148.5            0   3864.1             0   \n",
       "1892         14.0         10.0   89.0            0   2481.8             2   \n",
       "1893         16.1          9.5  251.4            0   1796.1             0   \n",
       "\n",
       "        PI    PT  Seg Angle(raw)  Vaccum disc  ...  직업_예술가  직업_운동선수  직업_운수업  \\\n",
       "0     51.6  36.6            14.4            0  ...       0        0       0   \n",
       "1     40.8   7.2            17.8            0  ...       0        1       0   \n",
       "2     67.5  27.3            10.2            0  ...       0        0       0   \n",
       "3     49.2  18.7            19.9            0  ...       0        0       0   \n",
       "4     58.8  14.7             5.2            0  ...       0        0       0   \n",
       "...    ...   ...             ...          ...  ...     ...      ...     ...   \n",
       "1889  59.5  23.0            21.8            0  ...       0        0       0   \n",
       "1890  47.7  20.2             5.0            0  ...       0        0       0   \n",
       "1891  44.6  15.0            17.4            1  ...       0        0       0   \n",
       "1892  32.2  11.1            17.7            0  ...       0        0       0   \n",
       "1893  38.9   6.8            27.8            0  ...       0        0       0   \n",
       "\n",
       "      직업_의료직  직업_자영업  직업_주부  직업_특수전문직  직업_학생  수술기법_IELD  수술기법_TELD  \n",
       "0          0       1      0         0      0          0          1  \n",
       "1          0       0      0         0      0          0          1  \n",
       "2          0       0      0         1      0          0          1  \n",
       "3          0       0      1         0      0          0          1  \n",
       "4          0       0      0         1      0          0          1  \n",
       "...      ...     ...    ...       ...    ...        ...        ...  \n",
       "1889       0       0      0         0      0          0          0  \n",
       "1890       0       0      0         0      0          0          0  \n",
       "1891       0       0      0         0      0          1          0  \n",
       "1892       0       0      0         0      0          0          0  \n",
       "1893       0       0      0         0      0          0          0  \n",
       "\n",
       "[1894 rows x 65 columns]"
      ]
     },
     "execution_count": 71,
     "metadata": {},
     "output_type": "execute_result"
    }
   ],
   "source": [
    "data_12"
   ]
  },
  {
   "cell_type": "code",
   "execution_count": null,
   "metadata": {},
   "outputs": [
    {
     "name": "stdout",
     "output_type": "stream",
     "text": [
      "<class 'pandas.core.frame.DataFrame'>\n",
      "Int64Index: 1894 entries, 0 to 1893\n",
      "Data columns (total 65 columns):\n",
      " #   Column                  Non-Null Count  Dtype  \n",
      "---  ------                  --------------  -----  \n",
      " 0   전방디스크높이(mm)             1894 non-null   float64\n",
      " 1   후방디스크높이(mm)             1894 non-null   float64\n",
      " 2   지방축적도                   1894 non-null   float64\n",
      " 3   Instability             1894 non-null   int64  \n",
      " 4   MF + ES                 1894 non-null   float64\n",
      " 5   Modic change            1894 non-null   int64  \n",
      " 6   PI                      1894 non-null   float64\n",
      " 7   PT                      1894 non-null   float64\n",
      " 8   Seg Angle(raw)          1894 non-null   float64\n",
      " 9   Vaccum disc             1894 non-null   int64  \n",
      " 10  디스크단면적                  1894 non-null   float64\n",
      " 11  디스크위치                   1894 non-null   int64  \n",
      " 12  척추전방위증                  1894 non-null   int64  \n",
      " 13  Large Lymphocyte        1894 non-null   float64\n",
      " 14  Location of herniation  1894 non-null   int64  \n",
      " 15  가족력                     1894 non-null   float64\n",
      " 16  간질성폐질환                  1894 non-null   int64  \n",
      " 17  고혈압여부                   1894 non-null   int64  \n",
      " 18  과거수술횟수                  1894 non-null   int64  \n",
      " 19  당뇨여부                    1894 non-null   int64  \n",
      " 20  말초동맥질환여부                1894 non-null   int64  \n",
      " 21  빈혈여부                    1894 non-null   int64  \n",
      " 22  성별                      1894 non-null   int64  \n",
      " 23  스테로이드치료                 1894 non-null   int64  \n",
      " 24  신부전여부                   1894 non-null   int64  \n",
      " 25  신장                      1894 non-null   int64  \n",
      " 26  심혈관질환                   1894 non-null   int64  \n",
      " 27  암발병여부                   1894 non-null   int64  \n",
      " 28  연령                      1894 non-null   int64  \n",
      " 29  우울증여부                   1894 non-null   int64  \n",
      " 30  입원기간                    1894 non-null   int64  \n",
      " 31  종양진행여부                  1894 non-null   int64  \n",
      " 32  체중                      1894 non-null   float64\n",
      " 33  헤모글로빈수치                 1894 non-null   float64\n",
      " 34  혈전합병증여부                 1894 non-null   int64  \n",
      " 35  환자통증정도                  1894 non-null   int64  \n",
      " 36  흡연여부                    1894 non-null   int64  \n",
      " 37  통증기간(월)                 1894 non-null   float64\n",
      " 38  수술시간                    1894 non-null   float64\n",
      " 39  수술실패여부                  1894 non-null   int64  \n",
      " 40  비만여부                    1894 non-null   int64  \n",
      " 41  척추이동척도_Down             1894 non-null   uint8  \n",
      " 42  척추이동척도_Extremely down   1894 non-null   uint8  \n",
      " 43  척추이동척도_Extremely up     1894 non-null   uint8  \n",
      " 44  척추이동척도_Middle           1894 non-null   uint8  \n",
      " 45  척추이동척도_Up               1894 non-null   uint8  \n",
      " 46  직업_건설업                  1894 non-null   uint8  \n",
      " 47  직업_공무원                  1894 non-null   uint8  \n",
      " 48  직업_교사                   1894 non-null   uint8  \n",
      " 49  직업_군인                   1894 non-null   uint8  \n",
      " 50  직업_노동직                  1894 non-null   uint8  \n",
      " 51  직업_농업                   1894 non-null   uint8  \n",
      " 52  직업_무직                   1894 non-null   uint8  \n",
      " 53  직업_사무직                  1894 non-null   uint8  \n",
      " 54  직업_사업가                  1894 non-null   uint8  \n",
      " 55  직업_예술가                  1894 non-null   uint8  \n",
      " 56  직업_운동선수                 1894 non-null   uint8  \n",
      " 57  직업_운수업                  1894 non-null   uint8  \n",
      " 58  직업_의료직                  1894 non-null   uint8  \n",
      " 59  직업_자영업                  1894 non-null   uint8  \n",
      " 60  직업_주부                   1894 non-null   uint8  \n",
      " 61  직업_특수전문직                1894 non-null   uint8  \n",
      " 62  직업_학생                   1894 non-null   uint8  \n",
      " 63  수술기법_IELD               1894 non-null   uint8  \n",
      " 64  수술기법_TELD               1894 non-null   uint8  \n",
      "dtypes: float64(14), int64(27), uint8(24)\n",
      "memory usage: 730.4 KB\n"
     ]
    }
   ],
   "source": [
    "data_12.info()"
   ]
  },
  {
   "cell_type": "code",
   "execution_count": 72,
   "metadata": {},
   "outputs": [
    {
     "data": {
      "text/plain": [
       "DecisionTreeClassifier(max_depth=1)"
      ]
     },
     "execution_count": 72,
     "metadata": {},
     "output_type": "execute_result"
    }
   ],
   "source": [
    "from sklearn.model_selection import train_test_split\n",
    "from sklearn.tree import DecisionTreeClassifier\n",
    "from sklearn.preprocessing import StandardScaler\n",
    "scaler = StandardScaler\n",
    "X = data_12\n",
    "Y = data['재발여부'].ravel()\n",
    "\n",
    "X_train, X_test, Y_train, Y_test = train_test_split(\n",
    "    X,Y, test_size = 0.3, random_state = 0)\n",
    "\n",
    "model = DecisionTreeClassifier(max_depth = 1 )\n",
    "model.fit(X_train, Y_train)"
   ]
  },
  {
   "cell_type": "code",
   "execution_count": 73,
   "metadata": {},
   "outputs": [
    {
     "data": {
      "image/png": "[encoded data removed]",
      "text/plain": [
       "<Figure size 432x288 with 1 Axes>"
      ]
     },
     "metadata": {
      "needs_background": "light"
     },
     "output_type": "display_data"
    }
   ],
   "source": [
    "# depth에 따른 정확도\n",
    "train_score=[]\n",
    "test_score=[]\n",
    "for i in range(1,21):\n",
    "    \n",
    "    model=DecisionTreeClassifier(max_depth=i)\n",
    "    model.fit(X_train,Y_train)\n",
    "    train_score.append(model.score(X_train,Y_train))\n",
    "    test_score.append(model.score(X_test,Y_test))\n",
    "plt.figure()\n",
    "plt.title('score for depths')\n",
    "plt.plot(range(1,21),train_score)\n",
    "plt.plot(range(1,21),test_score)\n",
    "plt.xticks(range(1,21))\n",
    "plt.show()"
   ]
  },
  {
   "cell_type": "code",
   "execution_count": 74,
   "metadata": {},
   "outputs": [
    {
     "name": "stdout",
     "output_type": "stream",
     "text": [
      "훈련 정확도 : 0.9343396226415094\n",
      "테스트 정확도 : 0.8840070298769771\n"
     ]
    }
   ],
   "source": [
    "model_1=DecisionTreeClassifier(max_depth=5)\n",
    "model_1.fit(X_train, Y_train)\n",
    "train_accuracy = model_1.score(X_train, Y_train)\n",
    "test_accuracy = model_1.score(X_test, Y_test)\n",
    "print(f'훈련 정확도 : {train_accuracy}')\n",
    "print(f'테스트 정확도 : {test_accuracy}')"
   ]
  },
  {
   "cell_type": "code",
   "execution_count": 75,
   "metadata": {},
   "outputs": [
    {
     "data": {
      "text/plain": [
       "array([0.01505388, 0.06803619, 0.02804252, 0.        , 0.        ,\n",
       "       0.        , 0.06264636, 0.        , 0.01144593, 0.        ,\n",
       "       0.06400252, 0.        , 0.        , 0.        , 0.02336877,\n",
       "       0.        , 0.        , 0.        , 0.        , 0.09616234,\n",
       "       0.        , 0.        , 0.        , 0.        , 0.        ,\n",
       "       0.        , 0.        , 0.        , 0.03840874, 0.        ,\n",
       "       0.01511691, 0.        , 0.2171416 , 0.01471619, 0.        ,\n",
       "       0.        , 0.3303863 , 0.        , 0.        , 0.        ,\n",
       "       0.01547174, 0.        , 0.        , 0.        , 0.        ,\n",
       "       0.        , 0.        , 0.        , 0.        , 0.        ,\n",
       "       0.        , 0.        , 0.        , 0.        , 0.        ,\n",
       "       0.        , 0.        , 0.        , 0.        , 0.        ,\n",
       "       0.        , 0.        , 0.        , 0.        , 0.        ])"
      ]
     },
     "execution_count": 75,
     "metadata": {},
     "output_type": "execute_result"
    }
   ],
   "source": [
    "importance = model_1.feature_importances_\n",
    "importance"
   ]
  },
  {
   "cell_type": "code",
   "execution_count": 76,
   "metadata": {},
   "outputs": [
    {
     "data": {
      "image/png": "[encoded data removed]",
      "text/plain": [
       "<Figure size 864x360 with 1 Axes>"
      ]
     },
     "metadata": {
      "needs_background": "light"
     },
     "output_type": "display_data"
    }
   ],
   "source": [
    "plt.figure(figsize=(12, 5))\n",
    "plt.title('feature importance')\n",
    "plt.bar(range(len(importance)), importance)\n",
    "plt.xticks(range(len(importance)), X.columns, rotation = 90)\n",
    "plt.show()"
   ]
  },
  {
   "cell_type": "markdown",
   "metadata": {},
   "source": [
    "흡연여부,체중,당뇨여부"
   ]
  },
  {
   "cell_type": "code",
   "execution_count": 77,
   "metadata": {},
   "outputs": [
    {
     "data": {
      "text/plain": [
       "GradientBoostingClassifier(max_depth=5)"
      ]
     },
     "execution_count": 77,
     "metadata": {},
     "output_type": "execute_result"
    }
   ],
   "source": [
    "from sklearn.preprocessing import StandardScaler\n",
    "scaler = StandardScaler\n",
    "model = GradientBoostingClassifier(max_depth = 5 )\n",
    "model.fit(X_train, Y_train)\n"
   ]
  },
  {
   "cell_type": "code",
   "execution_count": 78,
   "metadata": {},
   "outputs": [
    {
     "data": {
      "image/png": "[encoded data removed]",
      "text/plain": [
       "<Figure size 432x288 with 1 Axes>"
      ]
     },
     "metadata": {
      "needs_background": "light"
     },
     "output_type": "display_data"
    }
   ],
   "source": [
    "# depth에 따른 정확도\n",
    "train_score=[]\n",
    "test_score=[]\n",
    "for i in range(1,21):\n",
    "    \n",
    "    model=GradientBoostingClassifier(max_depth=i)\n",
    "    model.fit(X_train,Y_train)\n",
    "    train_score.append(model.score(X_train,Y_train))\n",
    "    test_score.append(model.score(X_test,Y_test))\n",
    "plt.figure()\n",
    "plt.title('score for depths')\n",
    "plt.plot(range(1,21),train_score)\n",
    "plt.plot(range(1,21),test_score)\n",
    "plt.xticks(range(1,21))\n",
    "plt.show()"
   ]
  },
  {
   "cell_type": "code",
   "execution_count": 82,
   "metadata": {},
   "outputs": [
    {
     "name": "stdout",
     "output_type": "stream",
     "text": [
      "훈련 정확도 : 1.0\n",
      "테스트 정확도 : 0.9103690685413005\n"
     ]
    }
   ],
   "source": [
    "model_1=GradientBoostingClassifier(max_depth=5)\n",
    "model_1.fit(X_train, Y_train)\n",
    "train_accuracy = model_1.score(X_train, Y_train)\n",
    "test_accuracy = model_1.score(X_test, Y_test)\n",
    "print(f'훈련 정확도 : {train_accuracy}')\n",
    "print(f'테스트 정확도 : {test_accuracy}')"
   ]
  },
  {
   "cell_type": "code",
   "execution_count": 85,
   "metadata": {},
   "outputs": [
    {
     "data": {
      "text/plain": [
       "array([0.041, 0.049, 0.040, 0.002, 0.041, 0.003, 0.045, 0.035, 0.033,\n",
       "       0.002, 0.125, 0.004, 0.000, 0.054, 0.017, 0.001, 0.005, 0.002,\n",
       "       0.004, 0.048, 0.001, 0.001, 0.000, 0.002, 0.000, 0.009, 0.000,\n",
       "       0.000, 0.027, 0.001, 0.009, 0.000, 0.132, 0.020, 0.000, 0.014,\n",
       "       0.143, 0.012, 0.016, 0.000, 0.005, 0.002, 0.000, 0.000, 0.000,\n",
       "       0.002, 0.001, 0.001, 0.000, 0.001, 0.000, 0.000, 0.001, 0.004,\n",
       "       0.000, 0.000, 0.002, 0.000, 0.003, 0.001, 0.007, 0.000, 0.000,\n",
       "       0.016, 0.013])"
      ]
     },
     "execution_count": 85,
     "metadata": {},
     "output_type": "execute_result"
    }
   ],
   "source": [
    "importance = model_1.feature_importances_\n",
    "np.set_printoptions(formatter={'float_kind': lambda x: \"{0:0.3f}\".format(x)}) # 소수3째자리까지 표기\n",
    "importance"
   ]
  },
  {
   "cell_type": "code",
   "execution_count": 86,
   "metadata": {},
   "outputs": [
    {
     "data": {
      "image/png": "[encoded data removed]",
      "text/plain": [
       "<Figure size 864x360 with 1 Axes>"
      ]
     },
     "metadata": {
      "needs_background": "light"
     },
     "output_type": "display_data"
    }
   ],
   "source": [
    "plt.figure(figsize=(12, 5))\n",
    "plt.title('feature importance')\n",
    "plt.bar(range(len(importance)), importance)\n",
    "plt.xticks(range(len(importance)), X.columns, rotation = 90)\n",
    "plt.show()"
   ]
  },
  {
   "cell_type": "markdown",
   "metadata": {},
   "source": [
    "흡연여부,체중,디스크면적,당뇨여부"
   ]
  },
  {
   "cell_type": "code",
   "execution_count": 87,
   "metadata": {},
   "outputs": [
    {
     "data": {
      "text/plain": [
       "RandomForestClassifier(max_depth=5)"
      ]
     },
     "execution_count": 87,
     "metadata": {},
     "output_type": "execute_result"
    }
   ],
   "source": [
    "\n",
    "model = RandomForestClassifier(max_depth = 5 )\n",
    "model.fit(X_train, Y_train)"
   ]
  },
  {
   "cell_type": "code",
   "execution_count": 88,
   "metadata": {},
   "outputs": [
    {
     "data": {
      "image/png": "[encoded data removed]",
      "text/plain": [
       "<Figure size 432x288 with 1 Axes>"
      ]
     },
     "metadata": {
      "needs_background": "light"
     },
     "output_type": "display_data"
    }
   ],
   "source": [
    "# depth에 따른 정확도\n",
    "train_score=[]\n",
    "test_score=[]\n",
    "for i in range(1,21):\n",
    "    \n",
    "    model=RandomForestClassifier(max_depth=i,random_state=20)\n",
    "    model.fit(X_train,Y_train)\n",
    "    train_score.append(model.score(X_train,Y_train))\n",
    "    test_score.append(model.score(X_test,Y_test))\n",
    "plt.figure()\n",
    "plt.title('score for depths')\n",
    "plt.plot(range(1,21),train_score)\n",
    "plt.plot(range(1,21),test_score)\n",
    "plt.xticks(range(1,21))\n",
    "plt.show()"
   ]
  },
  {
   "cell_type": "code",
   "execution_count": 89,
   "metadata": {},
   "outputs": [
    {
     "name": "stdout",
     "output_type": "stream",
     "text": [
      "훈련 정확도 : 0.8981132075471698\n",
      "테스트 정확도 : 0.8717047451669596\n"
     ]
    }
   ],
   "source": [
    "model_1=RandomForestClassifier(max_depth=5,random_state=20)\n",
    "model_1.fit(X_train, Y_train)\n",
    "train_accuracy = model_1.score(X_train, Y_train)\n",
    "test_accuracy = model_1.score(X_test, Y_test)\n",
    "print(f'훈련 정확도 : {train_accuracy}')\n",
    "print(f'테스트 정확도 : {test_accuracy}')"
   ]
  },
  {
   "cell_type": "code",
   "execution_count": 90,
   "metadata": {},
   "outputs": [
    {
     "data": {
      "text/plain": [
       "array([0.041, 0.038, 0.036, 0.002, 0.053, 0.002, 0.034, 0.029, 0.028,\n",
       "       0.002, 0.067, 0.007, 0.000, 0.031, 0.010, 0.003, 0.001, 0.005,\n",
       "       0.010, 0.071, 0.005, 0.000, 0.002, 0.003, 0.002, 0.045, 0.002,\n",
       "       0.002, 0.023, 0.002, 0.019, 0.000, 0.156, 0.032, 0.002, 0.013,\n",
       "       0.071, 0.023, 0.023, 0.001, 0.031, 0.004, 0.001, 0.000, 0.005,\n",
       "       0.005, 0.003, 0.003, 0.001, 0.002, 0.000, 0.001, 0.001, 0.005,\n",
       "       0.000, 0.000, 0.002, 0.000, 0.008, 0.002, 0.001, 0.000, 0.003,\n",
       "       0.010, 0.011])"
      ]
     },
     "execution_count": 90,
     "metadata": {},
     "output_type": "execute_result"
    }
   ],
   "source": [
    "importance = model_1.feature_importances_\n",
    "importance"
   ]
  },
  {
   "cell_type": "code",
   "execution_count": null,
   "metadata": {},
   "outputs": [
    {
     "data": {
      "image/png": "[encoded data removed]",
      "text/plain": [
       "<Figure size 864x360 with 1 Axes>"
      ]
     },
     "metadata": {
      "needs_background": "light"
     },
     "output_type": "display_data"
    }
   ],
   "source": [
    "plt.figure(figsize=(12, 5))\n",
    "plt.title('feature importance')\n",
    "plt.bar(range(len(importance)), importance)\n",
    "plt.xticks(range(len(importance)), X.columns, rotation = 90)\n",
    "plt.show()"
   ]
  },
  {
   "cell_type": "code",
   "execution_count": null,
   "metadata": {},
   "outputs": [],
   "source": []
  },
  {
   "cell_type": "markdown",
   "metadata": {},
   "source": [
    "# EDA"
   ]
  },
  {
   "cell_type": "code",
   "execution_count": null,
   "metadata": {},
   "outputs": [
    {
     "data": {
      "text/plain": [
       "<AxesSubplot:xlabel='수술기법', ylabel='count'>"
      ]
     },
     "execution_count": 446,
     "metadata": {},
     "output_type": "execute_result"
    },
    {
     "data": {
      "image/png": "[encoded data removed]",
      "text/plain": [
       "<Figure size 144x144 with 1 Axes>"
      ]
     },
     "metadata": {
      "needs_background": "light"
     },
     "output_type": "display_data"
    }
   ],
   "source": [
    "#수술기법\n",
    "\n",
    "sns.set_palette('pastel')\n",
    "sns.countplot(data = data , x = '수술기법' ) # 전체 수술환자 "
   ]
  },
  {
   "cell_type": "code",
   "execution_count": null,
   "metadata": {},
   "outputs": [
    {
     "data": {
      "text/plain": [
       "<AxesSubplot:xlabel='수술기법', ylabel='count'>"
      ]
     },
     "execution_count": 447,
     "metadata": {},
     "output_type": "execute_result"
    },
    {
     "data": {
      "image/png": "[encoded data removed]",
      "text/plain": [
       "<Figure size 144x144 with 1 Axes>"
      ]
     },
     "metadata": {
      "needs_background": "light"
     },
     "output_type": "display_data"
    }
   ],
   "source": [
    "\n",
    "sns.set_palette('pastel')\n",
    "sns.countplot(data = data.sort_values(by = '재발여부'), x='수술기법', hue = '재발여부') # 재발여부"
   ]
  },
  {
   "cell_type": "code",
   "execution_count": null,
   "metadata": {},
   "outputs": [
    {
     "data": {
      "text/plain": [
       "<AxesSubplot:xlabel='체중범위', ylabel='count'>"
      ]
     },
     "execution_count": 438,
     "metadata": {},
     "output_type": "execute_result"
    },
    {
     "data": {
      "image/png": "[encoded data removed]",
      "text/plain": [
       "<Figure size 1080x360 with 1 Axes>"
      ]
     },
     "metadata": {
      "needs_background": "light"
     },
     "output_type": "display_data"
    }
   ],
   "source": [
    " # min 35, max 136.1\n",
    "def Total_1(data):    \n",
    "    if  data < 50:\n",
    "        return '50이하'\n",
    "    elif data < 60:\n",
    "        return '50~60'\n",
    "    elif data < 70:\n",
    "        return '60~70'\n",
    "    elif data < 80:\n",
    "        return '70~80'\n",
    "    elif data < 90:\n",
    "        return '80~90'\n",
    "    elif data < 100:\n",
    "        return '90~100'\n",
    "    else:\n",
    "        return '100이상'\n",
    "plt.rc('font', family='Malgun Gothic')    # 한글 폰트수정\n",
    "plt.figure(figsize = (15, 5))  # 피규어 사이즈 확장 \n",
    "sns.set_palette('pastel')\n",
    "data['체중범위'] = data['체중'].apply(Total_1)\n",
    "sns.countplot(data = data.sort_values(by = '재발여부'), x='체중범위', \n",
    "              order=['50이하','50~60','60~70','70~80','80~90',\n",
    "                     '90~100','100이상'])"
   ]
  },
  {
   "cell_type": "code",
   "execution_count": null,
   "metadata": {},
   "outputs": [
    {
     "data": {
      "text/plain": [
       "<AxesSubplot:xlabel='체중범위', ylabel='count'>"
      ]
     },
     "execution_count": 437,
     "metadata": {},
     "output_type": "execute_result"
    },
    {
     "data": {
      "image/png": "[encoded data removed]",
      "text/plain": [
       "<Figure size 1080x360 with 1 Axes>"
      ]
     },
     "metadata": {
      "needs_background": "light"
     },
     "output_type": "display_data"
    }
   ],
   "source": [
    " # min 35, max 136.1\n",
    "def Total_1(data):    \n",
    "    if data < 50:\n",
    "        return '50이하'\n",
    "    elif data < 60:\n",
    "        return '50~60'\n",
    "    elif data < 70:\n",
    "        return '60~70'\n",
    "    elif data < 80:\n",
    "        return '70~80'\n",
    "    elif data < 90:\n",
    "        return '80~90'\n",
    "    elif data < 100:\n",
    "        return '90~100'\n",
    "    else:\n",
    "        return '100이상'\n",
    "plt.rc('font', family='Malgun Gothic')    # 한글 폰트수정\n",
    "plt.figure(figsize = (15, 5))  # 피규어 사이즈 확장 \n",
    "sns.set_palette('pastel')\n",
    "data['체중범위'] = data['체중'].apply(Total_1)\n",
    "sns.countplot(data = data.sort_values(by = '재발여부'), x='체중범위',hue = '재발여부',  \n",
    "              order=['50이하','50~60','60~70','70~80','80~90',\n",
    "                     '90~100','100이상'])"
   ]
  },
  {
   "cell_type": "code",
   "execution_count": null,
   "metadata": {},
   "outputs": [
    {
     "data": {
      "text/plain": [
       "(array([  0.,  50., 100., 150.]),\n",
       " [Text(0, 0, ''), Text(0, 0, ''), Text(0, 0, ''), Text(0, 0, '')])"
      ]
     },
     "execution_count": 454,
     "metadata": {},
     "output_type": "execute_result"
    },
    {
     "data": {
      "image/png": "[encoded data removed]",
      "text/plain": [
       "<Figure size 144x144 with 1 Axes>"
      ]
     },
     "metadata": {
      "needs_background": "light"
     },
     "output_type": "display_data"
    }
   ],
   "source": [
    "sns.lineplot(data=data, x= '체중', y = '재발여부')\n",
    "plt.xticks(rotation=45)  # x라벨이 겹쳐서 글자 회전"
   ]
  },
  {
   "cell_type": "code",
   "execution_count": null,
   "metadata": {},
   "outputs": [
    {
     "data": {
      "text/plain": [
       "<AxesSubplot:xlabel='디스크단면적범위', ylabel='count'>"
      ]
     },
     "execution_count": 445,
     "metadata": {},
     "output_type": "execute_result"
    },
    {
     "data": {
      "image/png": "[encoded data removed]",
      "text/plain": [
       "<Figure size 1080x360 with 1 Axes>"
      ]
     },
     "metadata": {
      "needs_background": "light"
     },
     "output_type": "display_data"
    }
   ],
   "source": [
    "\n",
    " # min 1145.8, max 3214.2\n",
    "def Total_1(data):    \n",
    "    if data < 1200:        \n",
    "        return '1100~1200'\n",
    "    elif data < 1400:\n",
    "        return '1200~1400'\n",
    "    elif data < 1600:\n",
    "        return '1400~1600'\n",
    "    elif data < 1800:\n",
    "        return '1600~1800'\n",
    "    elif data < 2000:\n",
    "        return '1800~2000'\n",
    "    elif data < 2200:\n",
    "        return '2000~2200'\n",
    "    elif data < 2400:\n",
    "        return '2200~2400'\n",
    "    elif data < 2600:\n",
    "        return '2400~2600'\n",
    "    elif data < 2800:\n",
    "        return '2600~2800'\n",
    "    elif data < 3000:\n",
    "        return '2800~3000'\n",
    "    else:\n",
    "        return '3000이상'\n",
    "plt.rc('font', family='Malgun Gothic')    # 한글 폰트수정\n",
    "plt.figure(figsize = (15, 5))  # 피규어 사이즈 확장 \n",
    "sns.set_palette('pastel')\n",
    "data['디스크단면적범위'] = data['디스크단면적'].apply(Total_1)\n",
    "sns.countplot(data = data.sort_values(by = '재발여부'), x='디스크단면적범위', \n",
    "              order=['1100~1200','1200~1400','1400~1600','1600~1800','1800~2000','2000~2200',\n",
    "                     '2200~2400','2400~2600','2600~2800','2800~3000','3000이상'])"
   ]
  },
  {
   "cell_type": "code",
   "execution_count": null,
   "metadata": {},
   "outputs": [
    {
     "data": {
      "text/plain": [
       "<AxesSubplot:xlabel='디스크단면적범위', ylabel='count'>"
      ]
     },
     "execution_count": 440,
     "metadata": {},
     "output_type": "execute_result"
    },
    {
     "data": {
      "image/png": "[encoded data removed]",
      "text/plain": [
       "<Figure size 1080x360 with 1 Axes>"
      ]
     },
     "metadata": {
      "needs_background": "light"
     },
     "output_type": "display_data"
    }
   ],
   "source": [
    " # min 1145.8, max 3214.2\n",
    "def Total_1(data):    \n",
    "    if data < 1200:        \n",
    "        return '1100~1200'\n",
    "    elif data < 1400:\n",
    "        return '1200~1400'\n",
    "    elif data < 1600:\n",
    "        return '1400~1600'\n",
    "    elif data < 1800:\n",
    "        return '1600~1800'\n",
    "    elif data < 2000:\n",
    "        return '1800~2000'\n",
    "    elif data < 2200:\n",
    "        return '2000~2200'\n",
    "    elif data < 2400:\n",
    "        return '2200~2400'\n",
    "    elif data < 2600:\n",
    "        return '2400~2600'\n",
    "    elif data < 2800:\n",
    "        return '2600~2800'\n",
    "    elif data < 3000:\n",
    "        return '2800~3000'\n",
    "    else:\n",
    "        return '3000이상'\n",
    "plt.rc('font', family='Malgun Gothic')    # 한글 폰트수정\n",
    "plt.figure(figsize = (15, 5))  # 피규어 사이즈 확장 \n",
    "data['디스크단면적범위'] = data['디스크단면적'].apply(Total_1)\n",
    "sns.countplot(data = data.sort_values(by = '재발여부'), x='디스크단면적범위', hue = '재발여부', \n",
    "              order=['1100~1200','1200~1400','1400~1600','1600~1800','1800~2000','2000~2200',\n",
    "                     '2200~2400','2400~2600','2600~2800','2800~3000','3000이상'])"
   ]
  },
  {
   "cell_type": "code",
   "execution_count": null,
   "metadata": {},
   "outputs": [
    {
     "data": {
      "text/plain": [
       "(array([1000., 2000., 3000., 4000.]),\n",
       " [Text(0, 0, ''), Text(0, 0, ''), Text(0, 0, ''), Text(0, 0, '')])"
      ]
     },
     "execution_count": 455,
     "metadata": {},
     "output_type": "execute_result"
    },
    {
     "data": {
      "image/png": "[encoded data removed]",
      "text/plain": [
       "<Figure size 144x144 with 1 Axes>"
      ]
     },
     "metadata": {
      "needs_background": "light"
     },
     "output_type": "display_data"
    }
   ],
   "source": [
    "sns.lineplot(data=data, x= '디스크단면적', y = '재발여부')\n",
    "plt.xticks(rotation=45)  # x라벨이 겹쳐서 글자 회전"
   ]
  },
  {
   "cell_type": "code",
   "execution_count": null,
   "metadata": {},
   "outputs": [],
   "source": [
    "def Total_1(data):    \n",
    "    if data < 1200:        \n",
    "        return '1100~1200'\n",
    "    elif data < 1400:\n",
    "        return '1200~1400'\n",
    "    elif data < 1600:\n",
    "        return '1400~1600'\n",
    "    elif data < 1800:\n",
    "        return '1600~1800'\n",
    "    elif data < 2000:\n",
    "        return '1800~2000'\n",
    "    elif data < 2200:\n",
    "        return '2000~2200'\n",
    "    elif data < 2400:\n",
    "        return '2200~2400'\n",
    "    elif data < 2600:\n",
    "        return '2400~2600'\n",
    "    elif data < 2800:\n",
    "        return '2600~2800'\n",
    "    elif data < 3000:\n",
    "        return '2800~3000'\n",
    "    else:\n",
    "        return '3000이상'\n",
    "plt.rc('font', family='Malgun Gothic')    # 한글 폰트수정\n",
    "\n",
    "data['디스크단면적범위'] = data['디스크단면적'].apply(Total_1)\n",
    "\n",
    "sns.lineplot(data=data, x= '디스크단면적범위', y = '재발여부')\n",
    "plt.xticks(rotation=45)  # x라벨이 겹쳐서 글자 회전"
   ]
  },
  {
   "cell_type": "code",
   "execution_count": null,
   "metadata": {},
   "outputs": [],
   "source": [
    "data.to_csv('data.csv', encoding = 'cp949')"
   ]
  },
  {
   "cell_type": "code",
   "execution_count": null,
   "metadata": {},
   "outputs": [],
   "source": []
  }
 ],
 "metadata": {
  "kernelspec": {
   "display_name": "Python 3.9.12 ('base')",
   "language": "python",
   "name": "python3"
  },
  "language_info": {
   "codemirror_mode": {
    "name": "ipython",
    "version": 3
   },
   "file_extension": ".py",
   "mimetype": "text/x-python",
   "name": "python",
   "nbconvert_exporter": "python",
   "pygments_lexer": "ipython3",
   "version": "3.9.12"
  },
  "orig_nbformat": 4,
  "vscode": {
   "interpreter": {
    "hash": "c5932105b8b97ab23a11741ce71308800e56d71f826d86ba1893ab1e468020ed"
   }
  }
 },
 "nbformat": 4,
 "nbformat_minor": 2
}
