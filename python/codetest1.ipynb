{
 "cells": [
  {
   "cell_type": "code",
   "execution_count": null,
   "metadata": {},
   "outputs": [],
   "source": [
    "for i in range(-9, 10):\n",
    "    print(\"*\" * (10 - abs(i)))"
   ]
  },
  {
   "cell_type": "code",
   "execution_count": null,
   "metadata": {},
   "outputs": [],
   "source": [
    "for i in range(-5, 6):\n",
    "    i = abs(i)\n",
    "    print(\" \" * i + \"*\" * (1 + (10 - i * 2)))"
   ]
  },
  {
   "attachments": {},
   "cell_type": "markdown",
   "metadata": {},
   "source": [
    "<!-- 어떤 주식의 가격은 매일 한 번 동전을 던져서 앞면이 나오면 전날 가격의 2배가 되고, 뒷면이 나오면 전날 가격의 절반이 된다. 1일에 주식의 가격이 1,024원이었을 때, 4일 주식의 가격이 나올 수 있는 경우를 모두 구한다. (힌트: for 반복문이 3개 중첩되어야 한다) -->"
   ]
  },
  {
   "cell_type": "code",
   "execution_count": 7,
   "metadata": {},
   "outputs": [
    {
     "name": "stdout",
     "output_type": "stream",
     "text": [
      "8192\n",
      "2048.0\n",
      "2048.0\n",
      "512.0\n",
      "2048.0\n",
      "512.0\n",
      "512.0\n",
      "128.0\n"
     ]
    }
   ],
   "source": [
    "for i in [2, 1/2]:\n",
    "    for j in [2, 1/2]:\n",
    "        for k in [2, 1/2]:\n",
    "    \n",
    "            print(1024 * i * j * k)"
   ]
  },
  {
   "cell_type": "code",
   "execution_count": 8,
   "metadata": {},
   "outputs": [
    {
     "name": "stdout",
     "output_type": "stream",
     "text": [
      "128\n",
      "512\n",
      "2048\n",
      "8192\n"
     ]
    }
   ],
   "source": [
    "# Answer 2 - 중첩 값 제거(집합 클래스 사용)\n",
    "cases = set()\n",
    "for i in [-1, 1]:\n",
    "    for j in [-1, 1]:\n",
    "        for k in [-1, 1]:\n",
    "            cases.add(int(1024 * 2 ** (i + j + k)))\n",
    "\n",
    "for v in cases:\n",
    "    print(v)"
   ]
  },
  {
   "cell_type": "code",
   "execution_count": null,
   "metadata": {},
   "outputs": [],
   "source": [
    "# n이 2보다 큰 자연수인 경우에, an+bn=cn이 되는 자연수 a, b, c는 존재하지 않는다.\n",
    "# n이 3이고 a, b, c 가 1부터 10까지의 자연수일 때 페르마의 마지막 정리가 사실임을 중첩 반복문을 써서 보인다. \n",
    "# (힌트: 1부터 10까지 반복되는 for 반복문이 3개 중첩되어야 한다.)"
   ]
  },
  {
   "cell_type": "code",
   "execution_count": null,
   "metadata": {},
   "outputs": [],
   "source": []
  }
 ],
 "metadata": {
  "kernelspec": {
   "display_name": "Python 3",
   "language": "python",
   "name": "python3"
  },
  "language_info": {
   "codemirror_mode": {
    "name": "ipython",
    "version": 3
   },
   "file_extension": ".py",
   "mimetype": "text/x-python",
   "name": "python",
   "nbconvert_exporter": "python",
   "pygments_lexer": "ipython3",
   "version": "3.9.13 (tags/v3.9.13:6de2ca5, May 17 2022, 16:36:42) [MSC v.1929 64 bit (AMD64)]"
  },
  "orig_nbformat": 4,
  "vscode": {
   "interpreter": {
    "hash": "81794d4967e6c3204c66dcd87b604927b115b27c00565d3d43f05ba2f3a2cb0d"
   }
  }
 },
 "nbformat": 4,
 "nbformat_minor": 2
}
